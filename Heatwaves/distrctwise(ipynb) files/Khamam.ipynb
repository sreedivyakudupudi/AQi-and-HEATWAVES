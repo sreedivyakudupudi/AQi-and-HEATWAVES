{
  "cells": [
    {
      "cell_type": "code",
      "execution_count": 329,
      "metadata": {
        "id": "aFOPXm67Kq4J"
      },
      "outputs": [],
      "source": [
        "import pandas as pd\n",
        "import numpy as np\n",
        "import matplotlib.pyplot as plt\n",
        "import seaborn as sns"
      ]
    },
    {
      "cell_type": "code",
      "source": [
        "from google.colab import drive\n",
        "drive.mount('/content/drive')"
      ],
      "metadata": {
        "colab": {
          "base_uri": "https://localhost:8080/"
        },
        "id": "oD2N9FhiOGxv",
        "outputId": "56d02b65-4214-445c-fab9-68cfc3dfd710"
      },
      "execution_count": 330,
      "outputs": [
        {
          "output_type": "stream",
          "name": "stdout",
          "text": [
            "Drive already mounted at /content/drive; to attempt to forcibly remount, call drive.mount(\"/content/drive\", force_remount=True).\n"
          ]
        }
      ]
    },
    {
      "cell_type": "code",
      "execution_count": 331,
      "metadata": {
        "colab": {
          "base_uri": "https://localhost:8080/",
          "height": 285
        },
        "id": "bDinNUyaKsfW",
        "outputId": "00462603-c7b4-401a-8b04-969f636b3fa8"
      },
      "outputs": [
        {
          "output_type": "execute_result",
          "data": {
            "text/plain": [
              "  Row Labels  Average of Rainfall (mm)  Average of temp_min (â°C)  \\\n",
              "0     Jan-18                  0.000000                   17.283022   \n",
              "1     Feb-18                  0.001034                   18.284023   \n",
              "2     Mar-18                  0.306282                   21.734380   \n",
              "3     Apr-18                  0.236754                   25.173947   \n",
              "4     May-18                  0.762818                   26.991851   \n",
              "\n",
              "   Average of temp_max (â°C)  Average of humidity_min (%)  \\\n",
              "0                   32.462165                    36.737012   \n",
              "1                   34.300188                    32.508271   \n",
              "2                   36.892445                    33.801698   \n",
              "3                   38.983684                    35.794112   \n",
              "4                   40.778098                    35.619440   \n",
              "\n",
              "   Average of Humidity_max (%)  Average of wind_speed_min (Kmph)  \\\n",
              "0                    92.158829                          0.000087   \n",
              "1                    90.003195                          0.008301   \n",
              "2                    91.949321                          0.100785   \n",
              "3                    87.838401                          0.243608   \n",
              "4                    82.713158                          0.308893   \n",
              "\n",
              "   Average of wind_speed_max (Kmph)  \n",
              "0                          5.651439  \n",
              "1                          7.457819  \n",
              "2                          7.405231  \n",
              "3                         10.393200  \n",
              "4                         11.122232  "
            ],
            "text/html": [
              "\n",
              "  <div id=\"df-efa98a3f-e926-4e75-9253-7bb14fbdd57c\">\n",
              "    <div class=\"colab-df-container\">\n",
              "      <div>\n",
              "<style scoped>\n",
              "    .dataframe tbody tr th:only-of-type {\n",
              "        vertical-align: middle;\n",
              "    }\n",
              "\n",
              "    .dataframe tbody tr th {\n",
              "        vertical-align: top;\n",
              "    }\n",
              "\n",
              "    .dataframe thead th {\n",
              "        text-align: right;\n",
              "    }\n",
              "</style>\n",
              "<table border=\"1\" class=\"dataframe\">\n",
              "  <thead>\n",
              "    <tr style=\"text-align: right;\">\n",
              "      <th></th>\n",
              "      <th>Row Labels</th>\n",
              "      <th>Average of Rainfall (mm)</th>\n",
              "      <th>Average of temp_min (â°C)</th>\n",
              "      <th>Average of temp_max (â°C)</th>\n",
              "      <th>Average of humidity_min (%)</th>\n",
              "      <th>Average of Humidity_max (%)</th>\n",
              "      <th>Average of wind_speed_min (Kmph)</th>\n",
              "      <th>Average of wind_speed_max (Kmph)</th>\n",
              "    </tr>\n",
              "  </thead>\n",
              "  <tbody>\n",
              "    <tr>\n",
              "      <th>0</th>\n",
              "      <td>Jan-18</td>\n",
              "      <td>0.000000</td>\n",
              "      <td>17.283022</td>\n",
              "      <td>32.462165</td>\n",
              "      <td>36.737012</td>\n",
              "      <td>92.158829</td>\n",
              "      <td>0.000087</td>\n",
              "      <td>5.651439</td>\n",
              "    </tr>\n",
              "    <tr>\n",
              "      <th>1</th>\n",
              "      <td>Feb-18</td>\n",
              "      <td>0.001034</td>\n",
              "      <td>18.284023</td>\n",
              "      <td>34.300188</td>\n",
              "      <td>32.508271</td>\n",
              "      <td>90.003195</td>\n",
              "      <td>0.008301</td>\n",
              "      <td>7.457819</td>\n",
              "    </tr>\n",
              "    <tr>\n",
              "      <th>2</th>\n",
              "      <td>Mar-18</td>\n",
              "      <td>0.306282</td>\n",
              "      <td>21.734380</td>\n",
              "      <td>36.892445</td>\n",
              "      <td>33.801698</td>\n",
              "      <td>91.949321</td>\n",
              "      <td>0.100785</td>\n",
              "      <td>7.405231</td>\n",
              "    </tr>\n",
              "    <tr>\n",
              "      <th>3</th>\n",
              "      <td>Apr-18</td>\n",
              "      <td>0.236754</td>\n",
              "      <td>25.173947</td>\n",
              "      <td>38.983684</td>\n",
              "      <td>35.794112</td>\n",
              "      <td>87.838401</td>\n",
              "      <td>0.243608</td>\n",
              "      <td>10.393200</td>\n",
              "    </tr>\n",
              "    <tr>\n",
              "      <th>4</th>\n",
              "      <td>May-18</td>\n",
              "      <td>0.762818</td>\n",
              "      <td>26.991851</td>\n",
              "      <td>40.778098</td>\n",
              "      <td>35.619440</td>\n",
              "      <td>82.713158</td>\n",
              "      <td>0.308893</td>\n",
              "      <td>11.122232</td>\n",
              "    </tr>\n",
              "  </tbody>\n",
              "</table>\n",
              "</div>\n",
              "      <button class=\"colab-df-convert\" onclick=\"convertToInteractive('df-efa98a3f-e926-4e75-9253-7bb14fbdd57c')\"\n",
              "              title=\"Convert this dataframe to an interactive table.\"\n",
              "              style=\"display:none;\">\n",
              "        \n",
              "  <svg xmlns=\"http://www.w3.org/2000/svg\" height=\"24px\"viewBox=\"0 0 24 24\"\n",
              "       width=\"24px\">\n",
              "    <path d=\"M0 0h24v24H0V0z\" fill=\"none\"/>\n",
              "    <path d=\"M18.56 5.44l.94 2.06.94-2.06 2.06-.94-2.06-.94-.94-2.06-.94 2.06-2.06.94zm-11 1L8.5 8.5l.94-2.06 2.06-.94-2.06-.94L8.5 2.5l-.94 2.06-2.06.94zm10 10l.94 2.06.94-2.06 2.06-.94-2.06-.94-.94-2.06-.94 2.06-2.06.94z\"/><path d=\"M17.41 7.96l-1.37-1.37c-.4-.4-.92-.59-1.43-.59-.52 0-1.04.2-1.43.59L10.3 9.45l-7.72 7.72c-.78.78-.78 2.05 0 2.83L4 21.41c.39.39.9.59 1.41.59.51 0 1.02-.2 1.41-.59l7.78-7.78 2.81-2.81c.8-.78.8-2.07 0-2.86zM5.41 20L4 18.59l7.72-7.72 1.47 1.35L5.41 20z\"/>\n",
              "  </svg>\n",
              "      </button>\n",
              "      \n",
              "  <style>\n",
              "    .colab-df-container {\n",
              "      display:flex;\n",
              "      flex-wrap:wrap;\n",
              "      gap: 12px;\n",
              "    }\n",
              "\n",
              "    .colab-df-convert {\n",
              "      background-color: #E8F0FE;\n",
              "      border: none;\n",
              "      border-radius: 50%;\n",
              "      cursor: pointer;\n",
              "      display: none;\n",
              "      fill: #1967D2;\n",
              "      height: 32px;\n",
              "      padding: 0 0 0 0;\n",
              "      width: 32px;\n",
              "    }\n",
              "\n",
              "    .colab-df-convert:hover {\n",
              "      background-color: #E2EBFA;\n",
              "      box-shadow: 0px 1px 2px rgba(60, 64, 67, 0.3), 0px 1px 3px 1px rgba(60, 64, 67, 0.15);\n",
              "      fill: #174EA6;\n",
              "    }\n",
              "\n",
              "    [theme=dark] .colab-df-convert {\n",
              "      background-color: #3B4455;\n",
              "      fill: #D2E3FC;\n",
              "    }\n",
              "\n",
              "    [theme=dark] .colab-df-convert:hover {\n",
              "      background-color: #434B5C;\n",
              "      box-shadow: 0px 1px 3px 1px rgba(0, 0, 0, 0.15);\n",
              "      filter: drop-shadow(0px 1px 2px rgba(0, 0, 0, 0.3));\n",
              "      fill: #FFFFFF;\n",
              "    }\n",
              "  </style>\n",
              "\n",
              "      <script>\n",
              "        const buttonEl =\n",
              "          document.querySelector('#df-efa98a3f-e926-4e75-9253-7bb14fbdd57c button.colab-df-convert');\n",
              "        buttonEl.style.display =\n",
              "          google.colab.kernel.accessAllowed ? 'block' : 'none';\n",
              "\n",
              "        async function convertToInteractive(key) {\n",
              "          const element = document.querySelector('#df-efa98a3f-e926-4e75-9253-7bb14fbdd57c');\n",
              "          const dataTable =\n",
              "            await google.colab.kernel.invokeFunction('convertToInteractive',\n",
              "                                                     [key], {});\n",
              "          if (!dataTable) return;\n",
              "\n",
              "          const docLinkHtml = 'Like what you see? Visit the ' +\n",
              "            '<a target=\"_blank\" href=https://colab.research.google.com/notebooks/data_table.ipynb>data table notebook</a>'\n",
              "            + ' to learn more about interactive tables.';\n",
              "          element.innerHTML = '';\n",
              "          dataTable['output_type'] = 'display_data';\n",
              "          await google.colab.output.renderOutput(dataTable, element);\n",
              "          const docLink = document.createElement('div');\n",
              "          docLink.innerHTML = docLinkHtml;\n",
              "          element.appendChild(docLink);\n",
              "        }\n",
              "      </script>\n",
              "    </div>\n",
              "  </div>\n",
              "  "
            ]
          },
          "metadata": {},
          "execution_count": 331
        }
      ],
      "source": [
        "df=pd.read_csv(\"/content/drive/MyDrive/khamman.csv\")\n",
        "df.head()"
      ]
    },
    {
      "cell_type": "code",
      "execution_count": 332,
      "metadata": {
        "colab": {
          "base_uri": "https://localhost:8080/"
        },
        "id": "QsUGq2vjpahM",
        "outputId": "53d4f41f-97a1-4825-f3a2-8ced340be84b"
      },
      "outputs": [
        {
          "output_type": "stream",
          "name": "stdout",
          "text": [
            "<class 'pandas.core.frame.DataFrame'>\n",
            "RangeIndex: 57 entries, 0 to 56\n",
            "Data columns (total 8 columns):\n",
            " #   Column                            Non-Null Count  Dtype  \n",
            "---  ------                            --------------  -----  \n",
            " 0   Row Labels                        57 non-null     object \n",
            " 1   Average of Rainfall (mm)          57 non-null     float64\n",
            " 2   Average of temp_min (â°C)        57 non-null     float64\n",
            " 3   Average of temp_max (â°C)        57 non-null     float64\n",
            " 4   Average of humidity_min (%)       57 non-null     float64\n",
            " 5   Average of Humidity_max (%)       57 non-null     float64\n",
            " 6   Average of wind_speed_min (Kmph)  52 non-null     float64\n",
            " 7   Average of wind_speed_max (Kmph)  54 non-null     float64\n",
            "dtypes: float64(7), object(1)\n",
            "memory usage: 3.7+ KB\n"
          ]
        }
      ],
      "source": [
        "df.info()"
      ]
    },
    {
      "cell_type": "code",
      "execution_count": 333,
      "metadata": {
        "id": "cYaEWFk8onMa"
      },
      "outputs": [],
      "source": [
        "df['Average of wind_speed_min (Kmph)'].fillna(value=df['Average of wind_speed_min (Kmph)'].mean(), inplace=True)"
      ]
    },
    {
      "cell_type": "code",
      "execution_count": 334,
      "metadata": {
        "id": "AaoznkpFomOc"
      },
      "outputs": [],
      "source": [
        "df['Average of wind_speed_max (Kmph)'].fillna(value=df['Average of wind_speed_max (Kmph)'].mean(), inplace=True)"
      ]
    },
    {
      "cell_type": "code",
      "execution_count": 335,
      "metadata": {
        "colab": {
          "base_uri": "https://localhost:8080/"
        },
        "id": "kEj__aH8qAzc",
        "outputId": "fe4fdefa-d830-47a2-f2a5-d865774603a9",
        "scrolled": true
      },
      "outputs": [
        {
          "output_type": "stream",
          "name": "stdout",
          "text": [
            "<class 'pandas.core.frame.DataFrame'>\n",
            "RangeIndex: 57 entries, 0 to 56\n",
            "Data columns (total 8 columns):\n",
            " #   Column                            Non-Null Count  Dtype  \n",
            "---  ------                            --------------  -----  \n",
            " 0   Row Labels                        57 non-null     object \n",
            " 1   Average of Rainfall (mm)          57 non-null     float64\n",
            " 2   Average of temp_min (â°C)        57 non-null     float64\n",
            " 3   Average of temp_max (â°C)        57 non-null     float64\n",
            " 4   Average of humidity_min (%)       57 non-null     float64\n",
            " 5   Average of Humidity_max (%)       57 non-null     float64\n",
            " 6   Average of wind_speed_min (Kmph)  57 non-null     float64\n",
            " 7   Average of wind_speed_max (Kmph)  57 non-null     float64\n",
            "dtypes: float64(7), object(1)\n",
            "memory usage: 3.7+ KB\n"
          ]
        }
      ],
      "source": [
        "df.info()"
      ]
    },
    {
      "cell_type": "code",
      "execution_count": 336,
      "metadata": {
        "colab": {
          "base_uri": "https://localhost:8080/"
        },
        "id": "6ID3_OAlOAxj",
        "outputId": "1a1dbb79-b3e6-447a-a2d7-6d115265dbc2"
      },
      "outputs": [
        {
          "name": "stdout",
          "output_type": "stream",
          "text": [
            "enter the month you want to predict in 3-letter format(Jan): Dec\n"
          ]
        }
      ],
      "source": [
        "month=input(\"enter the month you want to predict in 3-letter format(Jan): \")"
      ]
    },
    {
      "cell_type": "code",
      "execution_count": 337,
      "metadata": {
        "colab": {
          "base_uri": "https://localhost:8080/"
        },
        "id": "b6iZfowpOAxk",
        "outputId": "9445d1a7-df5b-4ec7-f32f-791810d7ada7"
      },
      "outputs": [
        {
          "output_type": "stream",
          "name": "stdout",
          "text": [
            "   Row Labels  Average of Rainfall (mm)  Average of temp_min (â°C)  \\\n",
            "11     Dec-18                  1.894481                   19.589935   \n",
            "23     Dec-19                  0.147619                   19.796825   \n",
            "35     Dec-20                  0.000000                   18.309831   \n",
            "47     Dec-21                  0.005991                   18.246544   \n",
            "\n",
            "    Average of temp_max (â°C)  Average of humidity_min (%)  \\\n",
            "11                   30.935146                    53.455601   \n",
            "23                   31.657962                    51.988838   \n",
            "35                   32.365438                    47.229954   \n",
            "47                   32.218126                    49.321505   \n",
            "\n",
            "    Average of Humidity_max (%)  Average of wind_speed_min (Kmph)  \\\n",
            "11                    94.052435                          0.072472   \n",
            "23                     6.069003                          0.004984   \n",
            "35                    32.365438                          0.008783   \n",
            "47                    98.238402                          0.001997   \n",
            "\n",
            "    Average of wind_speed_max (Kmph)  \n",
            "11                          5.229567  \n",
            "23                         95.843779  \n",
            "35                         96.500922  \n",
            "47                          6.306452  \n"
          ]
        }
      ],
      "source": [
        "df1=pd.DataFrame()\n",
        "for index, row in df.iterrows():\n",
        "    if month in row['Row Labels'] :\n",
        "        df1 = df1.append(row)\n",
        "print(df1)"
      ]
    },
    {
      "cell_type": "code",
      "execution_count": 338,
      "metadata": {
        "colab": {
          "base_uri": "https://localhost:8080/",
          "height": 253
        },
        "id": "1ao6Erzohb4p",
        "outputId": "cd9653fe-7711-4452-cc50-6226725f2639"
      },
      "outputs": [
        {
          "output_type": "execute_result",
          "data": {
            "text/plain": [
              "   Row Labels  Average of Rainfall (mm)  Average of temp_min (â°C)  \\\n",
              "11     Dec-18                  1.894481                   19.589935   \n",
              "23     Dec-19                  0.147619                   19.796825   \n",
              "35     Dec-20                  0.000000                   18.309831   \n",
              "47     Dec-21                  0.005991                   18.246544   \n",
              "\n",
              "    Average of temp_max (â°C)  Average of humidity_min (%)  \\\n",
              "11                   30.935146                    53.455601   \n",
              "23                   31.657962                    51.988838   \n",
              "35                   32.365438                    47.229954   \n",
              "47                   32.218126                    49.321505   \n",
              "\n",
              "    Average of Humidity_max (%)  Average of wind_speed_min (Kmph)  \\\n",
              "11                    94.052435                          0.072472   \n",
              "23                     6.069003                          0.004984   \n",
              "35                    32.365438                          0.008783   \n",
              "47                    98.238402                          0.001997   \n",
              "\n",
              "    Average of wind_speed_max (Kmph)     target  \n",
              "11                          5.229567  31.657962  \n",
              "23                         95.843779  32.365438  \n",
              "35                         96.500922  32.218126  \n",
              "47                          6.306452        NaN  "
            ],
            "text/html": [
              "\n",
              "  <div id=\"df-689e28f3-ba46-406b-b3c1-6bb6af0adcbd\">\n",
              "    <div class=\"colab-df-container\">\n",
              "      <div>\n",
              "<style scoped>\n",
              "    .dataframe tbody tr th:only-of-type {\n",
              "        vertical-align: middle;\n",
              "    }\n",
              "\n",
              "    .dataframe tbody tr th {\n",
              "        vertical-align: top;\n",
              "    }\n",
              "\n",
              "    .dataframe thead th {\n",
              "        text-align: right;\n",
              "    }\n",
              "</style>\n",
              "<table border=\"1\" class=\"dataframe\">\n",
              "  <thead>\n",
              "    <tr style=\"text-align: right;\">\n",
              "      <th></th>\n",
              "      <th>Row Labels</th>\n",
              "      <th>Average of Rainfall (mm)</th>\n",
              "      <th>Average of temp_min (â°C)</th>\n",
              "      <th>Average of temp_max (â°C)</th>\n",
              "      <th>Average of humidity_min (%)</th>\n",
              "      <th>Average of Humidity_max (%)</th>\n",
              "      <th>Average of wind_speed_min (Kmph)</th>\n",
              "      <th>Average of wind_speed_max (Kmph)</th>\n",
              "      <th>target</th>\n",
              "    </tr>\n",
              "  </thead>\n",
              "  <tbody>\n",
              "    <tr>\n",
              "      <th>11</th>\n",
              "      <td>Dec-18</td>\n",
              "      <td>1.894481</td>\n",
              "      <td>19.589935</td>\n",
              "      <td>30.935146</td>\n",
              "      <td>53.455601</td>\n",
              "      <td>94.052435</td>\n",
              "      <td>0.072472</td>\n",
              "      <td>5.229567</td>\n",
              "      <td>31.657962</td>\n",
              "    </tr>\n",
              "    <tr>\n",
              "      <th>23</th>\n",
              "      <td>Dec-19</td>\n",
              "      <td>0.147619</td>\n",
              "      <td>19.796825</td>\n",
              "      <td>31.657962</td>\n",
              "      <td>51.988838</td>\n",
              "      <td>6.069003</td>\n",
              "      <td>0.004984</td>\n",
              "      <td>95.843779</td>\n",
              "      <td>32.365438</td>\n",
              "    </tr>\n",
              "    <tr>\n",
              "      <th>35</th>\n",
              "      <td>Dec-20</td>\n",
              "      <td>0.000000</td>\n",
              "      <td>18.309831</td>\n",
              "      <td>32.365438</td>\n",
              "      <td>47.229954</td>\n",
              "      <td>32.365438</td>\n",
              "      <td>0.008783</td>\n",
              "      <td>96.500922</td>\n",
              "      <td>32.218126</td>\n",
              "    </tr>\n",
              "    <tr>\n",
              "      <th>47</th>\n",
              "      <td>Dec-21</td>\n",
              "      <td>0.005991</td>\n",
              "      <td>18.246544</td>\n",
              "      <td>32.218126</td>\n",
              "      <td>49.321505</td>\n",
              "      <td>98.238402</td>\n",
              "      <td>0.001997</td>\n",
              "      <td>6.306452</td>\n",
              "      <td>NaN</td>\n",
              "    </tr>\n",
              "  </tbody>\n",
              "</table>\n",
              "</div>\n",
              "      <button class=\"colab-df-convert\" onclick=\"convertToInteractive('df-689e28f3-ba46-406b-b3c1-6bb6af0adcbd')\"\n",
              "              title=\"Convert this dataframe to an interactive table.\"\n",
              "              style=\"display:none;\">\n",
              "        \n",
              "  <svg xmlns=\"http://www.w3.org/2000/svg\" height=\"24px\"viewBox=\"0 0 24 24\"\n",
              "       width=\"24px\">\n",
              "    <path d=\"M0 0h24v24H0V0z\" fill=\"none\"/>\n",
              "    <path d=\"M18.56 5.44l.94 2.06.94-2.06 2.06-.94-2.06-.94-.94-2.06-.94 2.06-2.06.94zm-11 1L8.5 8.5l.94-2.06 2.06-.94-2.06-.94L8.5 2.5l-.94 2.06-2.06.94zm10 10l.94 2.06.94-2.06 2.06-.94-2.06-.94-.94-2.06-.94 2.06-2.06.94z\"/><path d=\"M17.41 7.96l-1.37-1.37c-.4-.4-.92-.59-1.43-.59-.52 0-1.04.2-1.43.59L10.3 9.45l-7.72 7.72c-.78.78-.78 2.05 0 2.83L4 21.41c.39.39.9.59 1.41.59.51 0 1.02-.2 1.41-.59l7.78-7.78 2.81-2.81c.8-.78.8-2.07 0-2.86zM5.41 20L4 18.59l7.72-7.72 1.47 1.35L5.41 20z\"/>\n",
              "  </svg>\n",
              "      </button>\n",
              "      \n",
              "  <style>\n",
              "    .colab-df-container {\n",
              "      display:flex;\n",
              "      flex-wrap:wrap;\n",
              "      gap: 12px;\n",
              "    }\n",
              "\n",
              "    .colab-df-convert {\n",
              "      background-color: #E8F0FE;\n",
              "      border: none;\n",
              "      border-radius: 50%;\n",
              "      cursor: pointer;\n",
              "      display: none;\n",
              "      fill: #1967D2;\n",
              "      height: 32px;\n",
              "      padding: 0 0 0 0;\n",
              "      width: 32px;\n",
              "    }\n",
              "\n",
              "    .colab-df-convert:hover {\n",
              "      background-color: #E2EBFA;\n",
              "      box-shadow: 0px 1px 2px rgba(60, 64, 67, 0.3), 0px 1px 3px 1px rgba(60, 64, 67, 0.15);\n",
              "      fill: #174EA6;\n",
              "    }\n",
              "\n",
              "    [theme=dark] .colab-df-convert {\n",
              "      background-color: #3B4455;\n",
              "      fill: #D2E3FC;\n",
              "    }\n",
              "\n",
              "    [theme=dark] .colab-df-convert:hover {\n",
              "      background-color: #434B5C;\n",
              "      box-shadow: 0px 1px 3px 1px rgba(0, 0, 0, 0.15);\n",
              "      filter: drop-shadow(0px 1px 2px rgba(0, 0, 0, 0.3));\n",
              "      fill: #FFFFFF;\n",
              "    }\n",
              "  </style>\n",
              "\n",
              "      <script>\n",
              "        const buttonEl =\n",
              "          document.querySelector('#df-689e28f3-ba46-406b-b3c1-6bb6af0adcbd button.colab-df-convert');\n",
              "        buttonEl.style.display =\n",
              "          google.colab.kernel.accessAllowed ? 'block' : 'none';\n",
              "\n",
              "        async function convertToInteractive(key) {\n",
              "          const element = document.querySelector('#df-689e28f3-ba46-406b-b3c1-6bb6af0adcbd');\n",
              "          const dataTable =\n",
              "            await google.colab.kernel.invokeFunction('convertToInteractive',\n",
              "                                                     [key], {});\n",
              "          if (!dataTable) return;\n",
              "\n",
              "          const docLinkHtml = 'Like what you see? Visit the ' +\n",
              "            '<a target=\"_blank\" href=https://colab.research.google.com/notebooks/data_table.ipynb>data table notebook</a>'\n",
              "            + ' to learn more about interactive tables.';\n",
              "          element.innerHTML = '';\n",
              "          dataTable['output_type'] = 'display_data';\n",
              "          await google.colab.output.renderOutput(dataTable, element);\n",
              "          const docLink = document.createElement('div');\n",
              "          docLink.innerHTML = docLinkHtml;\n",
              "          element.appendChild(docLink);\n",
              "        }\n",
              "      </script>\n",
              "    </div>\n",
              "  </div>\n",
              "  "
            ]
          },
          "metadata": {},
          "execution_count": 338
        }
      ],
      "source": [
        "df1[\"target\"]=df1.shift(-1)[\"Average of temp_max (â°C)\"]\n",
        "df1"
      ]
    },
    {
      "cell_type": "code",
      "execution_count": 339,
      "metadata": {
        "colab": {
          "base_uri": "https://localhost:8080/"
        },
        "id": "GdkPlwqAOAxl",
        "outputId": "0c6290ae-5389-4f21-89f2-6f2ea3924e0d"
      },
      "outputs": [
        {
          "output_type": "stream",
          "name": "stderr",
          "text": [
            "/usr/local/lib/python3.8/dist-packages/pandas/core/frame.py:4906: SettingWithCopyWarning: \n",
            "A value is trying to be set on a copy of a slice from a DataFrame\n",
            "\n",
            "See the caveats in the documentation: https://pandas.pydata.org/pandas-docs/stable/user_guide/indexing.html#returning-a-view-versus-a-copy\n",
            "  return super().drop(\n"
          ]
        }
      ],
      "source": [
        "df2=df1.tail(1)\n",
        "df2.drop(['Row Labels','target'],axis=1,inplace=True)"
      ]
    },
    {
      "cell_type": "code",
      "execution_count": 340,
      "metadata": {
        "colab": {
          "base_uri": "https://localhost:8080/",
          "height": 142
        },
        "id": "HXXgO3k1OAxl",
        "outputId": "ff5b6005-3d12-4aa9-8439-b9566ce071f6"
      },
      "outputs": [
        {
          "output_type": "execute_result",
          "data": {
            "text/plain": [
              "    Average of Rainfall (mm)  Average of temp_min (â°C)  \\\n",
              "47                  0.005991                   18.246544   \n",
              "\n",
              "    Average of temp_max (â°C)  Average of humidity_min (%)  \\\n",
              "47                   32.218126                    49.321505   \n",
              "\n",
              "    Average of Humidity_max (%)  Average of wind_speed_min (Kmph)  \\\n",
              "47                    98.238402                          0.001997   \n",
              "\n",
              "    Average of wind_speed_max (Kmph)  \n",
              "47                          6.306452  "
            ],
            "text/html": [
              "\n",
              "  <div id=\"df-2744c7a6-e64d-4471-8df4-1f02d3998cd2\">\n",
              "    <div class=\"colab-df-container\">\n",
              "      <div>\n",
              "<style scoped>\n",
              "    .dataframe tbody tr th:only-of-type {\n",
              "        vertical-align: middle;\n",
              "    }\n",
              "\n",
              "    .dataframe tbody tr th {\n",
              "        vertical-align: top;\n",
              "    }\n",
              "\n",
              "    .dataframe thead th {\n",
              "        text-align: right;\n",
              "    }\n",
              "</style>\n",
              "<table border=\"1\" class=\"dataframe\">\n",
              "  <thead>\n",
              "    <tr style=\"text-align: right;\">\n",
              "      <th></th>\n",
              "      <th>Average of Rainfall (mm)</th>\n",
              "      <th>Average of temp_min (â°C)</th>\n",
              "      <th>Average of temp_max (â°C)</th>\n",
              "      <th>Average of humidity_min (%)</th>\n",
              "      <th>Average of Humidity_max (%)</th>\n",
              "      <th>Average of wind_speed_min (Kmph)</th>\n",
              "      <th>Average of wind_speed_max (Kmph)</th>\n",
              "    </tr>\n",
              "  </thead>\n",
              "  <tbody>\n",
              "    <tr>\n",
              "      <th>47</th>\n",
              "      <td>0.005991</td>\n",
              "      <td>18.246544</td>\n",
              "      <td>32.218126</td>\n",
              "      <td>49.321505</td>\n",
              "      <td>98.238402</td>\n",
              "      <td>0.001997</td>\n",
              "      <td>6.306452</td>\n",
              "    </tr>\n",
              "  </tbody>\n",
              "</table>\n",
              "</div>\n",
              "      <button class=\"colab-df-convert\" onclick=\"convertToInteractive('df-2744c7a6-e64d-4471-8df4-1f02d3998cd2')\"\n",
              "              title=\"Convert this dataframe to an interactive table.\"\n",
              "              style=\"display:none;\">\n",
              "        \n",
              "  <svg xmlns=\"http://www.w3.org/2000/svg\" height=\"24px\"viewBox=\"0 0 24 24\"\n",
              "       width=\"24px\">\n",
              "    <path d=\"M0 0h24v24H0V0z\" fill=\"none\"/>\n",
              "    <path d=\"M18.56 5.44l.94 2.06.94-2.06 2.06-.94-2.06-.94-.94-2.06-.94 2.06-2.06.94zm-11 1L8.5 8.5l.94-2.06 2.06-.94-2.06-.94L8.5 2.5l-.94 2.06-2.06.94zm10 10l.94 2.06.94-2.06 2.06-.94-2.06-.94-.94-2.06-.94 2.06-2.06.94z\"/><path d=\"M17.41 7.96l-1.37-1.37c-.4-.4-.92-.59-1.43-.59-.52 0-1.04.2-1.43.59L10.3 9.45l-7.72 7.72c-.78.78-.78 2.05 0 2.83L4 21.41c.39.39.9.59 1.41.59.51 0 1.02-.2 1.41-.59l7.78-7.78 2.81-2.81c.8-.78.8-2.07 0-2.86zM5.41 20L4 18.59l7.72-7.72 1.47 1.35L5.41 20z\"/>\n",
              "  </svg>\n",
              "      </button>\n",
              "      \n",
              "  <style>\n",
              "    .colab-df-container {\n",
              "      display:flex;\n",
              "      flex-wrap:wrap;\n",
              "      gap: 12px;\n",
              "    }\n",
              "\n",
              "    .colab-df-convert {\n",
              "      background-color: #E8F0FE;\n",
              "      border: none;\n",
              "      border-radius: 50%;\n",
              "      cursor: pointer;\n",
              "      display: none;\n",
              "      fill: #1967D2;\n",
              "      height: 32px;\n",
              "      padding: 0 0 0 0;\n",
              "      width: 32px;\n",
              "    }\n",
              "\n",
              "    .colab-df-convert:hover {\n",
              "      background-color: #E2EBFA;\n",
              "      box-shadow: 0px 1px 2px rgba(60, 64, 67, 0.3), 0px 1px 3px 1px rgba(60, 64, 67, 0.15);\n",
              "      fill: #174EA6;\n",
              "    }\n",
              "\n",
              "    [theme=dark] .colab-df-convert {\n",
              "      background-color: #3B4455;\n",
              "      fill: #D2E3FC;\n",
              "    }\n",
              "\n",
              "    [theme=dark] .colab-df-convert:hover {\n",
              "      background-color: #434B5C;\n",
              "      box-shadow: 0px 1px 3px 1px rgba(0, 0, 0, 0.15);\n",
              "      filter: drop-shadow(0px 1px 2px rgba(0, 0, 0, 0.3));\n",
              "      fill: #FFFFFF;\n",
              "    }\n",
              "  </style>\n",
              "\n",
              "      <script>\n",
              "        const buttonEl =\n",
              "          document.querySelector('#df-2744c7a6-e64d-4471-8df4-1f02d3998cd2 button.colab-df-convert');\n",
              "        buttonEl.style.display =\n",
              "          google.colab.kernel.accessAllowed ? 'block' : 'none';\n",
              "\n",
              "        async function convertToInteractive(key) {\n",
              "          const element = document.querySelector('#df-2744c7a6-e64d-4471-8df4-1f02d3998cd2');\n",
              "          const dataTable =\n",
              "            await google.colab.kernel.invokeFunction('convertToInteractive',\n",
              "                                                     [key], {});\n",
              "          if (!dataTable) return;\n",
              "\n",
              "          const docLinkHtml = 'Like what you see? Visit the ' +\n",
              "            '<a target=\"_blank\" href=https://colab.research.google.com/notebooks/data_table.ipynb>data table notebook</a>'\n",
              "            + ' to learn more about interactive tables.';\n",
              "          element.innerHTML = '';\n",
              "          dataTable['output_type'] = 'display_data';\n",
              "          await google.colab.output.renderOutput(dataTable, element);\n",
              "          const docLink = document.createElement('div');\n",
              "          docLink.innerHTML = docLinkHtml;\n",
              "          element.appendChild(docLink);\n",
              "        }\n",
              "      </script>\n",
              "    </div>\n",
              "  </div>\n",
              "  "
            ]
          },
          "metadata": {},
          "execution_count": 340
        }
      ],
      "source": [
        "df2"
      ]
    },
    {
      "cell_type": "code",
      "execution_count": 341,
      "metadata": {
        "colab": {
          "base_uri": "https://localhost:8080/"
        },
        "id": "uRWbKNffOAxm",
        "outputId": "bcd43e7a-b277-4164-caa7-2dfebf2490bb"
      },
      "outputs": [
        {
          "output_type": "execute_result",
          "data": {
            "text/plain": [
              "array([[5.99078300e-03, 1.82465438e+01, 3.22181260e+01, 4.93215054e+01,\n",
              "        9.82384025e+01, 1.99692800e-03, 6.30645161e+00]])"
            ]
          },
          "metadata": {},
          "execution_count": 341
        }
      ],
      "source": [
        "x=np.array(df2)\n",
        "x"
      ]
    },
    {
      "cell_type": "code",
      "execution_count": 342,
      "metadata": {
        "colab": {
          "base_uri": "https://localhost:8080/",
          "height": 222
        },
        "id": "o89WbeYJWRWI",
        "outputId": "6354035a-6e1a-40b0-afd0-9da65452a2e8"
      },
      "outputs": [
        {
          "output_type": "execute_result",
          "data": {
            "text/plain": [
              "   Row Labels  Average of Rainfall (mm)  Average of temp_min (â°C)  \\\n",
              "11     Dec-18                  1.894481                   19.589935   \n",
              "23     Dec-19                  0.147619                   19.796825   \n",
              "35     Dec-20                  0.000000                   18.309831   \n",
              "\n",
              "    Average of temp_max (â°C)  Average of humidity_min (%)  \\\n",
              "11                   30.935146                    53.455601   \n",
              "23                   31.657962                    51.988838   \n",
              "35                   32.365438                    47.229954   \n",
              "\n",
              "    Average of Humidity_max (%)  Average of wind_speed_min (Kmph)  \\\n",
              "11                    94.052435                          0.072472   \n",
              "23                     6.069003                          0.004984   \n",
              "35                    32.365438                          0.008783   \n",
              "\n",
              "    Average of wind_speed_max (Kmph)     target  \n",
              "11                          5.229567  31.657962  \n",
              "23                         95.843779  32.365438  \n",
              "35                         96.500922  32.218126  "
            ],
            "text/html": [
              "\n",
              "  <div id=\"df-06863b7b-a103-4753-a2ce-4160dab72489\">\n",
              "    <div class=\"colab-df-container\">\n",
              "      <div>\n",
              "<style scoped>\n",
              "    .dataframe tbody tr th:only-of-type {\n",
              "        vertical-align: middle;\n",
              "    }\n",
              "\n",
              "    .dataframe tbody tr th {\n",
              "        vertical-align: top;\n",
              "    }\n",
              "\n",
              "    .dataframe thead th {\n",
              "        text-align: right;\n",
              "    }\n",
              "</style>\n",
              "<table border=\"1\" class=\"dataframe\">\n",
              "  <thead>\n",
              "    <tr style=\"text-align: right;\">\n",
              "      <th></th>\n",
              "      <th>Row Labels</th>\n",
              "      <th>Average of Rainfall (mm)</th>\n",
              "      <th>Average of temp_min (â°C)</th>\n",
              "      <th>Average of temp_max (â°C)</th>\n",
              "      <th>Average of humidity_min (%)</th>\n",
              "      <th>Average of Humidity_max (%)</th>\n",
              "      <th>Average of wind_speed_min (Kmph)</th>\n",
              "      <th>Average of wind_speed_max (Kmph)</th>\n",
              "      <th>target</th>\n",
              "    </tr>\n",
              "  </thead>\n",
              "  <tbody>\n",
              "    <tr>\n",
              "      <th>11</th>\n",
              "      <td>Dec-18</td>\n",
              "      <td>1.894481</td>\n",
              "      <td>19.589935</td>\n",
              "      <td>30.935146</td>\n",
              "      <td>53.455601</td>\n",
              "      <td>94.052435</td>\n",
              "      <td>0.072472</td>\n",
              "      <td>5.229567</td>\n",
              "      <td>31.657962</td>\n",
              "    </tr>\n",
              "    <tr>\n",
              "      <th>23</th>\n",
              "      <td>Dec-19</td>\n",
              "      <td>0.147619</td>\n",
              "      <td>19.796825</td>\n",
              "      <td>31.657962</td>\n",
              "      <td>51.988838</td>\n",
              "      <td>6.069003</td>\n",
              "      <td>0.004984</td>\n",
              "      <td>95.843779</td>\n",
              "      <td>32.365438</td>\n",
              "    </tr>\n",
              "    <tr>\n",
              "      <th>35</th>\n",
              "      <td>Dec-20</td>\n",
              "      <td>0.000000</td>\n",
              "      <td>18.309831</td>\n",
              "      <td>32.365438</td>\n",
              "      <td>47.229954</td>\n",
              "      <td>32.365438</td>\n",
              "      <td>0.008783</td>\n",
              "      <td>96.500922</td>\n",
              "      <td>32.218126</td>\n",
              "    </tr>\n",
              "  </tbody>\n",
              "</table>\n",
              "</div>\n",
              "      <button class=\"colab-df-convert\" onclick=\"convertToInteractive('df-06863b7b-a103-4753-a2ce-4160dab72489')\"\n",
              "              title=\"Convert this dataframe to an interactive table.\"\n",
              "              style=\"display:none;\">\n",
              "        \n",
              "  <svg xmlns=\"http://www.w3.org/2000/svg\" height=\"24px\"viewBox=\"0 0 24 24\"\n",
              "       width=\"24px\">\n",
              "    <path d=\"M0 0h24v24H0V0z\" fill=\"none\"/>\n",
              "    <path d=\"M18.56 5.44l.94 2.06.94-2.06 2.06-.94-2.06-.94-.94-2.06-.94 2.06-2.06.94zm-11 1L8.5 8.5l.94-2.06 2.06-.94-2.06-.94L8.5 2.5l-.94 2.06-2.06.94zm10 10l.94 2.06.94-2.06 2.06-.94-2.06-.94-.94-2.06-.94 2.06-2.06.94z\"/><path d=\"M17.41 7.96l-1.37-1.37c-.4-.4-.92-.59-1.43-.59-.52 0-1.04.2-1.43.59L10.3 9.45l-7.72 7.72c-.78.78-.78 2.05 0 2.83L4 21.41c.39.39.9.59 1.41.59.51 0 1.02-.2 1.41-.59l7.78-7.78 2.81-2.81c.8-.78.8-2.07 0-2.86zM5.41 20L4 18.59l7.72-7.72 1.47 1.35L5.41 20z\"/>\n",
              "  </svg>\n",
              "      </button>\n",
              "      \n",
              "  <style>\n",
              "    .colab-df-container {\n",
              "      display:flex;\n",
              "      flex-wrap:wrap;\n",
              "      gap: 12px;\n",
              "    }\n",
              "\n",
              "    .colab-df-convert {\n",
              "      background-color: #E8F0FE;\n",
              "      border: none;\n",
              "      border-radius: 50%;\n",
              "      cursor: pointer;\n",
              "      display: none;\n",
              "      fill: #1967D2;\n",
              "      height: 32px;\n",
              "      padding: 0 0 0 0;\n",
              "      width: 32px;\n",
              "    }\n",
              "\n",
              "    .colab-df-convert:hover {\n",
              "      background-color: #E2EBFA;\n",
              "      box-shadow: 0px 1px 2px rgba(60, 64, 67, 0.3), 0px 1px 3px 1px rgba(60, 64, 67, 0.15);\n",
              "      fill: #174EA6;\n",
              "    }\n",
              "\n",
              "    [theme=dark] .colab-df-convert {\n",
              "      background-color: #3B4455;\n",
              "      fill: #D2E3FC;\n",
              "    }\n",
              "\n",
              "    [theme=dark] .colab-df-convert:hover {\n",
              "      background-color: #434B5C;\n",
              "      box-shadow: 0px 1px 3px 1px rgba(0, 0, 0, 0.15);\n",
              "      filter: drop-shadow(0px 1px 2px rgba(0, 0, 0, 0.3));\n",
              "      fill: #FFFFFF;\n",
              "    }\n",
              "  </style>\n",
              "\n",
              "      <script>\n",
              "        const buttonEl =\n",
              "          document.querySelector('#df-06863b7b-a103-4753-a2ce-4160dab72489 button.colab-df-convert');\n",
              "        buttonEl.style.display =\n",
              "          google.colab.kernel.accessAllowed ? 'block' : 'none';\n",
              "\n",
              "        async function convertToInteractive(key) {\n",
              "          const element = document.querySelector('#df-06863b7b-a103-4753-a2ce-4160dab72489');\n",
              "          const dataTable =\n",
              "            await google.colab.kernel.invokeFunction('convertToInteractive',\n",
              "                                                     [key], {});\n",
              "          if (!dataTable) return;\n",
              "\n",
              "          const docLinkHtml = 'Like what you see? Visit the ' +\n",
              "            '<a target=\"_blank\" href=https://colab.research.google.com/notebooks/data_table.ipynb>data table notebook</a>'\n",
              "            + ' to learn more about interactive tables.';\n",
              "          element.innerHTML = '';\n",
              "          dataTable['output_type'] = 'display_data';\n",
              "          await google.colab.output.renderOutput(dataTable, element);\n",
              "          const docLink = document.createElement('div');\n",
              "          docLink.innerHTML = docLinkHtml;\n",
              "          element.appendChild(docLink);\n",
              "        }\n",
              "      </script>\n",
              "    </div>\n",
              "  </div>\n",
              "  "
            ]
          },
          "metadata": {},
          "execution_count": 342
        }
      ],
      "source": [
        "df1=df1[df1.target.notnull()]\n",
        "df1"
      ]
    },
    {
      "cell_type": "code",
      "execution_count": 343,
      "metadata": {
        "colab": {
          "base_uri": "https://localhost:8080/",
          "height": 205
        },
        "id": "wOWR9TwzdUR0",
        "outputId": "fd561aaa-7467-43be-f367-ec0c072b437e"
      },
      "outputs": [
        {
          "output_type": "execute_result",
          "data": {
            "text/plain": [
              "    Average of Rainfall (mm)  Average of temp_min (â°C)  \\\n",
              "11                  1.894481                   19.589935   \n",
              "23                  0.147619                   19.796825   \n",
              "35                  0.000000                   18.309831   \n",
              "\n",
              "    Average of temp_max (â°C)  Average of humidity_min (%)  \\\n",
              "11                   30.935146                    53.455601   \n",
              "23                   31.657962                    51.988838   \n",
              "35                   32.365438                    47.229954   \n",
              "\n",
              "    Average of Humidity_max (%)  Average of wind_speed_min (Kmph)  \\\n",
              "11                    94.052435                          0.072472   \n",
              "23                     6.069003                          0.004984   \n",
              "35                    32.365438                          0.008783   \n",
              "\n",
              "    Average of wind_speed_max (Kmph)  \n",
              "11                          5.229567  \n",
              "23                         95.843779  \n",
              "35                         96.500922  "
            ],
            "text/html": [
              "\n",
              "  <div id=\"df-dd93635a-85da-4d29-95d2-c1217cb3c404\">\n",
              "    <div class=\"colab-df-container\">\n",
              "      <div>\n",
              "<style scoped>\n",
              "    .dataframe tbody tr th:only-of-type {\n",
              "        vertical-align: middle;\n",
              "    }\n",
              "\n",
              "    .dataframe tbody tr th {\n",
              "        vertical-align: top;\n",
              "    }\n",
              "\n",
              "    .dataframe thead th {\n",
              "        text-align: right;\n",
              "    }\n",
              "</style>\n",
              "<table border=\"1\" class=\"dataframe\">\n",
              "  <thead>\n",
              "    <tr style=\"text-align: right;\">\n",
              "      <th></th>\n",
              "      <th>Average of Rainfall (mm)</th>\n",
              "      <th>Average of temp_min (â°C)</th>\n",
              "      <th>Average of temp_max (â°C)</th>\n",
              "      <th>Average of humidity_min (%)</th>\n",
              "      <th>Average of Humidity_max (%)</th>\n",
              "      <th>Average of wind_speed_min (Kmph)</th>\n",
              "      <th>Average of wind_speed_max (Kmph)</th>\n",
              "    </tr>\n",
              "  </thead>\n",
              "  <tbody>\n",
              "    <tr>\n",
              "      <th>11</th>\n",
              "      <td>1.894481</td>\n",
              "      <td>19.589935</td>\n",
              "      <td>30.935146</td>\n",
              "      <td>53.455601</td>\n",
              "      <td>94.052435</td>\n",
              "      <td>0.072472</td>\n",
              "      <td>5.229567</td>\n",
              "    </tr>\n",
              "    <tr>\n",
              "      <th>23</th>\n",
              "      <td>0.147619</td>\n",
              "      <td>19.796825</td>\n",
              "      <td>31.657962</td>\n",
              "      <td>51.988838</td>\n",
              "      <td>6.069003</td>\n",
              "      <td>0.004984</td>\n",
              "      <td>95.843779</td>\n",
              "    </tr>\n",
              "    <tr>\n",
              "      <th>35</th>\n",
              "      <td>0.000000</td>\n",
              "      <td>18.309831</td>\n",
              "      <td>32.365438</td>\n",
              "      <td>47.229954</td>\n",
              "      <td>32.365438</td>\n",
              "      <td>0.008783</td>\n",
              "      <td>96.500922</td>\n",
              "    </tr>\n",
              "  </tbody>\n",
              "</table>\n",
              "</div>\n",
              "      <button class=\"colab-df-convert\" onclick=\"convertToInteractive('df-dd93635a-85da-4d29-95d2-c1217cb3c404')\"\n",
              "              title=\"Convert this dataframe to an interactive table.\"\n",
              "              style=\"display:none;\">\n",
              "        \n",
              "  <svg xmlns=\"http://www.w3.org/2000/svg\" height=\"24px\"viewBox=\"0 0 24 24\"\n",
              "       width=\"24px\">\n",
              "    <path d=\"M0 0h24v24H0V0z\" fill=\"none\"/>\n",
              "    <path d=\"M18.56 5.44l.94 2.06.94-2.06 2.06-.94-2.06-.94-.94-2.06-.94 2.06-2.06.94zm-11 1L8.5 8.5l.94-2.06 2.06-.94-2.06-.94L8.5 2.5l-.94 2.06-2.06.94zm10 10l.94 2.06.94-2.06 2.06-.94-2.06-.94-.94-2.06-.94 2.06-2.06.94z\"/><path d=\"M17.41 7.96l-1.37-1.37c-.4-.4-.92-.59-1.43-.59-.52 0-1.04.2-1.43.59L10.3 9.45l-7.72 7.72c-.78.78-.78 2.05 0 2.83L4 21.41c.39.39.9.59 1.41.59.51 0 1.02-.2 1.41-.59l7.78-7.78 2.81-2.81c.8-.78.8-2.07 0-2.86zM5.41 20L4 18.59l7.72-7.72 1.47 1.35L5.41 20z\"/>\n",
              "  </svg>\n",
              "      </button>\n",
              "      \n",
              "  <style>\n",
              "    .colab-df-container {\n",
              "      display:flex;\n",
              "      flex-wrap:wrap;\n",
              "      gap: 12px;\n",
              "    }\n",
              "\n",
              "    .colab-df-convert {\n",
              "      background-color: #E8F0FE;\n",
              "      border: none;\n",
              "      border-radius: 50%;\n",
              "      cursor: pointer;\n",
              "      display: none;\n",
              "      fill: #1967D2;\n",
              "      height: 32px;\n",
              "      padding: 0 0 0 0;\n",
              "      width: 32px;\n",
              "    }\n",
              "\n",
              "    .colab-df-convert:hover {\n",
              "      background-color: #E2EBFA;\n",
              "      box-shadow: 0px 1px 2px rgba(60, 64, 67, 0.3), 0px 1px 3px 1px rgba(60, 64, 67, 0.15);\n",
              "      fill: #174EA6;\n",
              "    }\n",
              "\n",
              "    [theme=dark] .colab-df-convert {\n",
              "      background-color: #3B4455;\n",
              "      fill: #D2E3FC;\n",
              "    }\n",
              "\n",
              "    [theme=dark] .colab-df-convert:hover {\n",
              "      background-color: #434B5C;\n",
              "      box-shadow: 0px 1px 3px 1px rgba(0, 0, 0, 0.15);\n",
              "      filter: drop-shadow(0px 1px 2px rgba(0, 0, 0, 0.3));\n",
              "      fill: #FFFFFF;\n",
              "    }\n",
              "  </style>\n",
              "\n",
              "      <script>\n",
              "        const buttonEl =\n",
              "          document.querySelector('#df-dd93635a-85da-4d29-95d2-c1217cb3c404 button.colab-df-convert');\n",
              "        buttonEl.style.display =\n",
              "          google.colab.kernel.accessAllowed ? 'block' : 'none';\n",
              "\n",
              "        async function convertToInteractive(key) {\n",
              "          const element = document.querySelector('#df-dd93635a-85da-4d29-95d2-c1217cb3c404');\n",
              "          const dataTable =\n",
              "            await google.colab.kernel.invokeFunction('convertToInteractive',\n",
              "                                                     [key], {});\n",
              "          if (!dataTable) return;\n",
              "\n",
              "          const docLinkHtml = 'Like what you see? Visit the ' +\n",
              "            '<a target=\"_blank\" href=https://colab.research.google.com/notebooks/data_table.ipynb>data table notebook</a>'\n",
              "            + ' to learn more about interactive tables.';\n",
              "          element.innerHTML = '';\n",
              "          dataTable['output_type'] = 'display_data';\n",
              "          await google.colab.output.renderOutput(dataTable, element);\n",
              "          const docLink = document.createElement('div');\n",
              "          docLink.innerHTML = docLinkHtml;\n",
              "          element.appendChild(docLink);\n",
              "        }\n",
              "      </script>\n",
              "    </div>\n",
              "  </div>\n",
              "  "
            ]
          },
          "metadata": {},
          "execution_count": 343
        }
      ],
      "source": [
        "predictors = df1.columns[~df1.columns.isin([\"target\", \"Row Labels\"])]\n",
        "df1[predictors].head()"
      ]
    },
    {
      "cell_type": "code",
      "execution_count": 344,
      "metadata": {
        "id": "Jpd8Lp-QdkKC"
      },
      "outputs": [],
      "source": [
        "from sklearn.preprocessing import StandardScaler\n",
        "sc=StandardScaler()"
      ]
    },
    {
      "cell_type": "code",
      "execution_count": 345,
      "metadata": {
        "colab": {
          "base_uri": "https://localhost:8080/",
          "height": 205
        },
        "id": "oh7bDzhBdwCc",
        "outputId": "b3472a25-179f-4c7a-a08a-2078cf6a45ad"
      },
      "outputs": [
        {
          "output_type": "execute_result",
          "data": {
            "text/plain": [
              "    Average of Rainfall (mm)  Average of temp_min (â°C)  \\\n",
              "11                  1.894481                   19.589935   \n",
              "23                  0.147619                   19.796825   \n",
              "35                  0.000000                   18.309831   \n",
              "\n",
              "    Average of temp_max (â°C)  Average of humidity_min (%)  \\\n",
              "11                   30.935146                    53.455601   \n",
              "23                   31.657962                    51.988838   \n",
              "35                   32.365438                    47.229954   \n",
              "\n",
              "    Average of Humidity_max (%)  Average of wind_speed_min (Kmph)  \\\n",
              "11                    94.052435                          0.072472   \n",
              "23                     6.069003                          0.004984   \n",
              "35                    32.365438                          0.008783   \n",
              "\n",
              "    Average of wind_speed_max (Kmph)  \n",
              "11                          5.229567  \n",
              "23                         95.843779  \n",
              "35                         96.500922  "
            ],
            "text/html": [
              "\n",
              "  <div id=\"df-41e9e3f7-5701-4e6e-b48c-0cf45148f342\">\n",
              "    <div class=\"colab-df-container\">\n",
              "      <div>\n",
              "<style scoped>\n",
              "    .dataframe tbody tr th:only-of-type {\n",
              "        vertical-align: middle;\n",
              "    }\n",
              "\n",
              "    .dataframe tbody tr th {\n",
              "        vertical-align: top;\n",
              "    }\n",
              "\n",
              "    .dataframe thead th {\n",
              "        text-align: right;\n",
              "    }\n",
              "</style>\n",
              "<table border=\"1\" class=\"dataframe\">\n",
              "  <thead>\n",
              "    <tr style=\"text-align: right;\">\n",
              "      <th></th>\n",
              "      <th>Average of Rainfall (mm)</th>\n",
              "      <th>Average of temp_min (â°C)</th>\n",
              "      <th>Average of temp_max (â°C)</th>\n",
              "      <th>Average of humidity_min (%)</th>\n",
              "      <th>Average of Humidity_max (%)</th>\n",
              "      <th>Average of wind_speed_min (Kmph)</th>\n",
              "      <th>Average of wind_speed_max (Kmph)</th>\n",
              "    </tr>\n",
              "  </thead>\n",
              "  <tbody>\n",
              "    <tr>\n",
              "      <th>11</th>\n",
              "      <td>1.894481</td>\n",
              "      <td>19.589935</td>\n",
              "      <td>30.935146</td>\n",
              "      <td>53.455601</td>\n",
              "      <td>94.052435</td>\n",
              "      <td>0.072472</td>\n",
              "      <td>5.229567</td>\n",
              "    </tr>\n",
              "    <tr>\n",
              "      <th>23</th>\n",
              "      <td>0.147619</td>\n",
              "      <td>19.796825</td>\n",
              "      <td>31.657962</td>\n",
              "      <td>51.988838</td>\n",
              "      <td>6.069003</td>\n",
              "      <td>0.004984</td>\n",
              "      <td>95.843779</td>\n",
              "    </tr>\n",
              "    <tr>\n",
              "      <th>35</th>\n",
              "      <td>0.000000</td>\n",
              "      <td>18.309831</td>\n",
              "      <td>32.365438</td>\n",
              "      <td>47.229954</td>\n",
              "      <td>32.365438</td>\n",
              "      <td>0.008783</td>\n",
              "      <td>96.500922</td>\n",
              "    </tr>\n",
              "  </tbody>\n",
              "</table>\n",
              "</div>\n",
              "      <button class=\"colab-df-convert\" onclick=\"convertToInteractive('df-41e9e3f7-5701-4e6e-b48c-0cf45148f342')\"\n",
              "              title=\"Convert this dataframe to an interactive table.\"\n",
              "              style=\"display:none;\">\n",
              "        \n",
              "  <svg xmlns=\"http://www.w3.org/2000/svg\" height=\"24px\"viewBox=\"0 0 24 24\"\n",
              "       width=\"24px\">\n",
              "    <path d=\"M0 0h24v24H0V0z\" fill=\"none\"/>\n",
              "    <path d=\"M18.56 5.44l.94 2.06.94-2.06 2.06-.94-2.06-.94-.94-2.06-.94 2.06-2.06.94zm-11 1L8.5 8.5l.94-2.06 2.06-.94-2.06-.94L8.5 2.5l-.94 2.06-2.06.94zm10 10l.94 2.06.94-2.06 2.06-.94-2.06-.94-.94-2.06-.94 2.06-2.06.94z\"/><path d=\"M17.41 7.96l-1.37-1.37c-.4-.4-.92-.59-1.43-.59-.52 0-1.04.2-1.43.59L10.3 9.45l-7.72 7.72c-.78.78-.78 2.05 0 2.83L4 21.41c.39.39.9.59 1.41.59.51 0 1.02-.2 1.41-.59l7.78-7.78 2.81-2.81c.8-.78.8-2.07 0-2.86zM5.41 20L4 18.59l7.72-7.72 1.47 1.35L5.41 20z\"/>\n",
              "  </svg>\n",
              "      </button>\n",
              "      \n",
              "  <style>\n",
              "    .colab-df-container {\n",
              "      display:flex;\n",
              "      flex-wrap:wrap;\n",
              "      gap: 12px;\n",
              "    }\n",
              "\n",
              "    .colab-df-convert {\n",
              "      background-color: #E8F0FE;\n",
              "      border: none;\n",
              "      border-radius: 50%;\n",
              "      cursor: pointer;\n",
              "      display: none;\n",
              "      fill: #1967D2;\n",
              "      height: 32px;\n",
              "      padding: 0 0 0 0;\n",
              "      width: 32px;\n",
              "    }\n",
              "\n",
              "    .colab-df-convert:hover {\n",
              "      background-color: #E2EBFA;\n",
              "      box-shadow: 0px 1px 2px rgba(60, 64, 67, 0.3), 0px 1px 3px 1px rgba(60, 64, 67, 0.15);\n",
              "      fill: #174EA6;\n",
              "    }\n",
              "\n",
              "    [theme=dark] .colab-df-convert {\n",
              "      background-color: #3B4455;\n",
              "      fill: #D2E3FC;\n",
              "    }\n",
              "\n",
              "    [theme=dark] .colab-df-convert:hover {\n",
              "      background-color: #434B5C;\n",
              "      box-shadow: 0px 1px 3px 1px rgba(0, 0, 0, 0.15);\n",
              "      filter: drop-shadow(0px 1px 2px rgba(0, 0, 0, 0.3));\n",
              "      fill: #FFFFFF;\n",
              "    }\n",
              "  </style>\n",
              "\n",
              "      <script>\n",
              "        const buttonEl =\n",
              "          document.querySelector('#df-41e9e3f7-5701-4e6e-b48c-0cf45148f342 button.colab-df-convert');\n",
              "        buttonEl.style.display =\n",
              "          google.colab.kernel.accessAllowed ? 'block' : 'none';\n",
              "\n",
              "        async function convertToInteractive(key) {\n",
              "          const element = document.querySelector('#df-41e9e3f7-5701-4e6e-b48c-0cf45148f342');\n",
              "          const dataTable =\n",
              "            await google.colab.kernel.invokeFunction('convertToInteractive',\n",
              "                                                     [key], {});\n",
              "          if (!dataTable) return;\n",
              "\n",
              "          const docLinkHtml = 'Like what you see? Visit the ' +\n",
              "            '<a target=\"_blank\" href=https://colab.research.google.com/notebooks/data_table.ipynb>data table notebook</a>'\n",
              "            + ' to learn more about interactive tables.';\n",
              "          element.innerHTML = '';\n",
              "          dataTable['output_type'] = 'display_data';\n",
              "          await google.colab.output.renderOutput(dataTable, element);\n",
              "          const docLink = document.createElement('div');\n",
              "          docLink.innerHTML = docLinkHtml;\n",
              "          element.appendChild(docLink);\n",
              "        }\n",
              "      </script>\n",
              "    </div>\n",
              "  </div>\n",
              "  "
            ]
          },
          "metadata": {},
          "execution_count": 345
        }
      ],
      "source": [
        "\n",
        "X=df1[predictors]\n",
        "y=df1[\"target\"]\n",
        "X"
      ]
    },
    {
      "cell_type": "code",
      "execution_count": 346,
      "metadata": {
        "id": "oNEhpoeOrCvb"
      },
      "outputs": [],
      "source": [
        "X=sc.fit_transform(X)"
      ]
    },
    {
      "cell_type": "code",
      "execution_count": 347,
      "metadata": {
        "id": "0jgjJO1DnRRI"
      },
      "outputs": [],
      "source": [
        "from sklearn.ensemble import RandomForestRegressor"
      ]
    },
    {
      "cell_type": "code",
      "execution_count": 348,
      "metadata": {
        "id": "MUXdSEF3hqcu"
      },
      "outputs": [],
      "source": [
        "rf = RandomForestRegressor(n_estimators = 300, max_features = 'sqrt', max_depth = 5, random_state = 18)"
      ]
    },
    {
      "cell_type": "code",
      "execution_count": 349,
      "metadata": {
        "colab": {
          "base_uri": "https://localhost:8080/"
        },
        "id": "aMRhZ3zlqes3",
        "outputId": "7937d1d3-808e-461d-d5f6-d21492e9b9e8"
      },
      "outputs": [
        {
          "output_type": "execute_result",
          "data": {
            "text/plain": [
              "(3,)"
            ]
          },
          "metadata": {},
          "execution_count": 349
        }
      ],
      "source": [
        "rf.fit(X,y)\n",
        "y_pred=rf.predict(X)\n",
        "y_pred.shape"
      ]
    },
    {
      "cell_type": "code",
      "execution_count": 350,
      "metadata": {
        "colab": {
          "base_uri": "https://localhost:8080/"
        },
        "id": "TXLyNNhrv3kG",
        "outputId": "eceaaf47-badc-412d-a08a-2d79bec38833"
      },
      "outputs": [
        {
          "output_type": "execute_result",
          "data": {
            "text/plain": [
              "array([31.85105428, 32.26817409, 32.21682779])"
            ]
          },
          "metadata": {},
          "execution_count": 350
        }
      ],
      "source": [
        "y_pred"
      ]
    },
    {
      "cell_type": "code",
      "execution_count": 351,
      "metadata": {
        "colab": {
          "base_uri": "https://localhost:8080/"
        },
        "id": "lzGSKu8usHUl",
        "outputId": "ee340d6e-3dd9-4854-b53b-1e0ba2d900bc"
      },
      "outputs": [
        {
          "output_type": "stream",
          "name": "stdout",
          "text": [
            "predicting the temperatures of previous years:  11    31.657962\n",
            "23    32.365438\n",
            "35    32.218126\n",
            "Name: target, dtype: float64\n"
          ]
        }
      ],
      "source": [
        "print(\"predicting the temperatures of previous years: \",y)"
      ]
    },
    {
      "cell_type": "code",
      "execution_count": 352,
      "metadata": {
        "id": "Dt21UvZxq4IX"
      },
      "outputs": [],
      "source": [
        "from sklearn.metrics import mean_absolute_percentage_error\n",
        "error=mean_absolute_percentage_error(y_pred,y)"
      ]
    },
    {
      "cell_type": "code",
      "execution_count": 353,
      "metadata": {
        "colab": {
          "base_uri": "https://localhost:8080/"
        },
        "id": "4qjutXuvwImu",
        "outputId": "d3694d6a-5a10-443c-81d0-7667e0704fc3"
      },
      "outputs": [
        {
          "output_type": "stream",
          "name": "stdout",
          "text": [
            "mean absolute percentage error for  Dec  is:  0.0030389575222042717\n"
          ]
        }
      ],
      "source": [
        "print(\"mean absolute percentage error for \",month,\" is: \",error)"
      ]
    },
    {
      "cell_type": "code",
      "execution_count": 354,
      "metadata": {
        "colab": {
          "base_uri": "https://localhost:8080/"
        },
        "id": "QudmDtKZwfUB",
        "outputId": "80563d94-6a52-49b8-95bb-fdf1c992ab55"
      },
      "outputs": [
        {
          "output_type": "stream",
          "name": "stdout",
          "text": [
            "the predicted maximum temperature for Khamam in  Dec  2023 is:  32.116282813466796\n"
          ]
        }
      ],
      "source": [
        "y=rf.predict(x)[0]\n",
        "print(\"the predicted maximum temperature for Khamam in \",month,\" 2023 is: \",y)"
      ]
    },
    {
      "cell_type": "markdown",
      "source": [
        "According to the India Metrological department, Hyderabad Standards identify heatwave conditions if maximum temperature of a station reaches atleast 40 degrees Celsius or more for plains, 37 degrees Celsius or more for coastal regions and atleast 30 degrees Celsius or more for hilly regions"
      ],
      "metadata": {
        "id": "Q3cVFkG5QSSZ"
      }
    },
    {
      "cell_type": "markdown",
      "source": [
        "As Nizamabad is a Plain region there are chances for occurance of heatwaves if the maximum temperature exceeds 40 degree celsius\n"
      ],
      "metadata": {
        "id": "tkWFm8ZdRATF"
      }
    },
    {
      "cell_type": "code",
      "execution_count": 355,
      "metadata": {
        "colab": {
          "base_uri": "https://localhost:8080/"
        },
        "id": "wBT-Jdj9OAxp",
        "outputId": "9546b77b-3aab-4509-cba9-a23ad402958e"
      },
      "outputs": [
        {
          "output_type": "stream",
          "name": "stdout",
          "text": [
            "you will be safe, there will be no chance of occuring heawaves\n"
          ]
        }
      ],
      "source": [
        "if y>=40:\n",
        "  print(\"Be careful. There is chance of occuring heatwaves in Khamam in \",month,\" 2023\")\n",
        "else:\n",
        "  if(y>=38):\n",
        "     print(\"There may be chance of occuring HeatWaves\")\n",
        "  else:\n",
        "      print(\"you will be safe, there will be no chance of occuring heawaves\")\n"
      ]
    },
    {
      "cell_type": "code",
      "source": [],
      "metadata": {
        "id": "b_HBPJ6RA-a0"
      },
      "execution_count": 355,
      "outputs": []
    }
  ],
  "metadata": {
    "colab": {
      "provenance": []
    },
    "kernelspec": {
      "display_name": "Python 3 (ipykernel)",
      "language": "python",
      "name": "python3"
    },
    "language_info": {
      "codemirror_mode": {
        "name": "ipython",
        "version": 3
      },
      "file_extension": ".py",
      "mimetype": "text/x-python",
      "name": "python",
      "nbconvert_exporter": "python",
      "pygments_lexer": "ipython3",
      "version": "3.9.7"
    }
  },
  "nbformat": 4,
  "nbformat_minor": 0
}