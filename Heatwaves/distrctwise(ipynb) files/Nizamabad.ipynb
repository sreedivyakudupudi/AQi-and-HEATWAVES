{
  "cells": [
    {
      "cell_type": "code",
      "execution_count": 1,
      "metadata": {
        "id": "aFOPXm67Kq4J"
      },
      "outputs": [],
      "source": [
        "import pandas as pd\n",
        "import numpy as np\n",
        "import matplotlib.pyplot as plt\n",
        "import seaborn as sns"
      ]
    },
    {
      "cell_type": "code",
      "source": [
        "from google.colab import drive\n",
        "drive.mount('/content/drive')"
      ],
      "metadata": {
        "colab": {
          "base_uri": "https://localhost:8080/"
        },
        "id": "oD2N9FhiOGxv",
        "outputId": "d1d45c88-629c-4b21-f6ad-c78e3ee49f5b"
      },
      "execution_count": 2,
      "outputs": [
        {
          "output_type": "stream",
          "name": "stdout",
          "text": [
            "Mounted at /content/drive\n"
          ]
        }
      ]
    },
    {
      "cell_type": "code",
      "execution_count": 3,
      "metadata": {
        "colab": {
          "base_uri": "https://localhost:8080/",
          "height": 285
        },
        "id": "bDinNUyaKsfW",
        "outputId": "849c000d-2ef1-4507-e91e-3674eba2b2e1"
      },
      "outputs": [
        {
          "output_type": "execute_result",
          "data": {
            "text/plain": [
              "  Row Labels  Average of Rainfall (mm)  Average of temp_min (â°C)  \\\n",
              "0     Jan-18                  0.000000                   14.140281   \n",
              "1     Feb-18                  0.297985                   17.098352   \n",
              "2     Mar-18                  0.255666                   21.176840   \n",
              "3     Apr-18                  0.141880                   24.774359   \n",
              "4     May-18                  0.974111                   27.928205   \n",
              "\n",
              "   Average of temp_max (â°C)  Average of humidity_min (%)  \\\n",
              "0                   31.278114                    26.208602   \n",
              "1                   33.306044                    27.298442   \n",
              "2                   36.903309                    21.778991   \n",
              "3                   39.712991                    20.731709   \n",
              "4                   42.155004                    19.956824   \n",
              "\n",
              "   Average of Humidity_max (%)  Average of wind_speed_min (Kmph)  \\\n",
              "0                    81.633830                          0.000248   \n",
              "1                    76.094592                          0.026557   \n",
              "2                    68.147229                          0.017535   \n",
              "3                    64.932051                          0.032363   \n",
              "4                    59.066419                          0.156079   \n",
              "\n",
              "   Average of wind_speed_max (Kmph)  \n",
              "0                          6.348883  \n",
              "1                          7.644689  \n",
              "2                          7.808768  \n",
              "3                         10.019349  \n",
              "4                         12.108189  "
            ],
            "text/html": [
              "\n",
              "  <div id=\"df-fd036104-8727-4af5-9760-f0d4f4880925\">\n",
              "    <div class=\"colab-df-container\">\n",
              "      <div>\n",
              "<style scoped>\n",
              "    .dataframe tbody tr th:only-of-type {\n",
              "        vertical-align: middle;\n",
              "    }\n",
              "\n",
              "    .dataframe tbody tr th {\n",
              "        vertical-align: top;\n",
              "    }\n",
              "\n",
              "    .dataframe thead th {\n",
              "        text-align: right;\n",
              "    }\n",
              "</style>\n",
              "<table border=\"1\" class=\"dataframe\">\n",
              "  <thead>\n",
              "    <tr style=\"text-align: right;\">\n",
              "      <th></th>\n",
              "      <th>Row Labels</th>\n",
              "      <th>Average of Rainfall (mm)</th>\n",
              "      <th>Average of temp_min (â°C)</th>\n",
              "      <th>Average of temp_max (â°C)</th>\n",
              "      <th>Average of humidity_min (%)</th>\n",
              "      <th>Average of Humidity_max (%)</th>\n",
              "      <th>Average of wind_speed_min (Kmph)</th>\n",
              "      <th>Average of wind_speed_max (Kmph)</th>\n",
              "    </tr>\n",
              "  </thead>\n",
              "  <tbody>\n",
              "    <tr>\n",
              "      <th>0</th>\n",
              "      <td>Jan-18</td>\n",
              "      <td>0.000000</td>\n",
              "      <td>14.140281</td>\n",
              "      <td>31.278114</td>\n",
              "      <td>26.208602</td>\n",
              "      <td>81.633830</td>\n",
              "      <td>0.000248</td>\n",
              "      <td>6.348883</td>\n",
              "    </tr>\n",
              "    <tr>\n",
              "      <th>1</th>\n",
              "      <td>Feb-18</td>\n",
              "      <td>0.297985</td>\n",
              "      <td>17.098352</td>\n",
              "      <td>33.306044</td>\n",
              "      <td>27.298442</td>\n",
              "      <td>76.094592</td>\n",
              "      <td>0.026557</td>\n",
              "      <td>7.644689</td>\n",
              "    </tr>\n",
              "    <tr>\n",
              "      <th>2</th>\n",
              "      <td>Mar-18</td>\n",
              "      <td>0.255666</td>\n",
              "      <td>21.176840</td>\n",
              "      <td>36.903309</td>\n",
              "      <td>21.778991</td>\n",
              "      <td>68.147229</td>\n",
              "      <td>0.017535</td>\n",
              "      <td>7.808768</td>\n",
              "    </tr>\n",
              "    <tr>\n",
              "      <th>3</th>\n",
              "      <td>Apr-18</td>\n",
              "      <td>0.141880</td>\n",
              "      <td>24.774359</td>\n",
              "      <td>39.712991</td>\n",
              "      <td>20.731709</td>\n",
              "      <td>64.932051</td>\n",
              "      <td>0.032363</td>\n",
              "      <td>10.019349</td>\n",
              "    </tr>\n",
              "    <tr>\n",
              "      <th>4</th>\n",
              "      <td>May-18</td>\n",
              "      <td>0.974111</td>\n",
              "      <td>27.928205</td>\n",
              "      <td>42.155004</td>\n",
              "      <td>19.956824</td>\n",
              "      <td>59.066419</td>\n",
              "      <td>0.156079</td>\n",
              "      <td>12.108189</td>\n",
              "    </tr>\n",
              "  </tbody>\n",
              "</table>\n",
              "</div>\n",
              "      <button class=\"colab-df-convert\" onclick=\"convertToInteractive('df-fd036104-8727-4af5-9760-f0d4f4880925')\"\n",
              "              title=\"Convert this dataframe to an interactive table.\"\n",
              "              style=\"display:none;\">\n",
              "        \n",
              "  <svg xmlns=\"http://www.w3.org/2000/svg\" height=\"24px\"viewBox=\"0 0 24 24\"\n",
              "       width=\"24px\">\n",
              "    <path d=\"M0 0h24v24H0V0z\" fill=\"none\"/>\n",
              "    <path d=\"M18.56 5.44l.94 2.06.94-2.06 2.06-.94-2.06-.94-.94-2.06-.94 2.06-2.06.94zm-11 1L8.5 8.5l.94-2.06 2.06-.94-2.06-.94L8.5 2.5l-.94 2.06-2.06.94zm10 10l.94 2.06.94-2.06 2.06-.94-2.06-.94-.94-2.06-.94 2.06-2.06.94z\"/><path d=\"M17.41 7.96l-1.37-1.37c-.4-.4-.92-.59-1.43-.59-.52 0-1.04.2-1.43.59L10.3 9.45l-7.72 7.72c-.78.78-.78 2.05 0 2.83L4 21.41c.39.39.9.59 1.41.59.51 0 1.02-.2 1.41-.59l7.78-7.78 2.81-2.81c.8-.78.8-2.07 0-2.86zM5.41 20L4 18.59l7.72-7.72 1.47 1.35L5.41 20z\"/>\n",
              "  </svg>\n",
              "      </button>\n",
              "      \n",
              "  <style>\n",
              "    .colab-df-container {\n",
              "      display:flex;\n",
              "      flex-wrap:wrap;\n",
              "      gap: 12px;\n",
              "    }\n",
              "\n",
              "    .colab-df-convert {\n",
              "      background-color: #E8F0FE;\n",
              "      border: none;\n",
              "      border-radius: 50%;\n",
              "      cursor: pointer;\n",
              "      display: none;\n",
              "      fill: #1967D2;\n",
              "      height: 32px;\n",
              "      padding: 0 0 0 0;\n",
              "      width: 32px;\n",
              "    }\n",
              "\n",
              "    .colab-df-convert:hover {\n",
              "      background-color: #E2EBFA;\n",
              "      box-shadow: 0px 1px 2px rgba(60, 64, 67, 0.3), 0px 1px 3px 1px rgba(60, 64, 67, 0.15);\n",
              "      fill: #174EA6;\n",
              "    }\n",
              "\n",
              "    [theme=dark] .colab-df-convert {\n",
              "      background-color: #3B4455;\n",
              "      fill: #D2E3FC;\n",
              "    }\n",
              "\n",
              "    [theme=dark] .colab-df-convert:hover {\n",
              "      background-color: #434B5C;\n",
              "      box-shadow: 0px 1px 3px 1px rgba(0, 0, 0, 0.15);\n",
              "      filter: drop-shadow(0px 1px 2px rgba(0, 0, 0, 0.3));\n",
              "      fill: #FFFFFF;\n",
              "    }\n",
              "  </style>\n",
              "\n",
              "      <script>\n",
              "        const buttonEl =\n",
              "          document.querySelector('#df-fd036104-8727-4af5-9760-f0d4f4880925 button.colab-df-convert');\n",
              "        buttonEl.style.display =\n",
              "          google.colab.kernel.accessAllowed ? 'block' : 'none';\n",
              "\n",
              "        async function convertToInteractive(key) {\n",
              "          const element = document.querySelector('#df-fd036104-8727-4af5-9760-f0d4f4880925');\n",
              "          const dataTable =\n",
              "            await google.colab.kernel.invokeFunction('convertToInteractive',\n",
              "                                                     [key], {});\n",
              "          if (!dataTable) return;\n",
              "\n",
              "          const docLinkHtml = 'Like what you see? Visit the ' +\n",
              "            '<a target=\"_blank\" href=https://colab.research.google.com/notebooks/data_table.ipynb>data table notebook</a>'\n",
              "            + ' to learn more about interactive tables.';\n",
              "          element.innerHTML = '';\n",
              "          dataTable['output_type'] = 'display_data';\n",
              "          await google.colab.output.renderOutput(dataTable, element);\n",
              "          const docLink = document.createElement('div');\n",
              "          docLink.innerHTML = docLinkHtml;\n",
              "          element.appendChild(docLink);\n",
              "        }\n",
              "      </script>\n",
              "    </div>\n",
              "  </div>\n",
              "  "
            ]
          },
          "metadata": {},
          "execution_count": 3
        }
      ],
      "source": [
        "df=pd.read_csv(\"/content/drive/MyDrive/Nizamabad.csv\")\n",
        "df.head()"
      ]
    },
    {
      "cell_type": "code",
      "execution_count": 4,
      "metadata": {
        "colab": {
          "base_uri": "https://localhost:8080/"
        },
        "id": "QsUGq2vjpahM",
        "outputId": "3172e90f-927b-49e1-8a81-0a9a4080b9d4"
      },
      "outputs": [
        {
          "output_type": "stream",
          "name": "stdout",
          "text": [
            "<class 'pandas.core.frame.DataFrame'>\n",
            "RangeIndex: 57 entries, 0 to 56\n",
            "Data columns (total 8 columns):\n",
            " #   Column                            Non-Null Count  Dtype  \n",
            "---  ------                            --------------  -----  \n",
            " 0   Row Labels                        57 non-null     object \n",
            " 1   Average of Rainfall (mm)          57 non-null     float64\n",
            " 2   Average of temp_min (â°C)        57 non-null     float64\n",
            " 3   Average of temp_max (â°C)        57 non-null     float64\n",
            " 4   Average of humidity_min (%)       57 non-null     float64\n",
            " 5   Average of Humidity_max (%)       57 non-null     float64\n",
            " 6   Average of wind_speed_min (Kmph)  52 non-null     float64\n",
            " 7   Average of wind_speed_max (Kmph)  54 non-null     float64\n",
            "dtypes: float64(7), object(1)\n",
            "memory usage: 3.7+ KB\n"
          ]
        }
      ],
      "source": [
        "df.info()"
      ]
    },
    {
      "cell_type": "code",
      "execution_count": 5,
      "metadata": {
        "id": "cYaEWFk8onMa"
      },
      "outputs": [],
      "source": [
        "df['Average of wind_speed_min (Kmph)'].fillna(value=df['Average of wind_speed_min (Kmph)'].mean(), inplace=True)"
      ]
    },
    {
      "cell_type": "code",
      "execution_count": 6,
      "metadata": {
        "id": "AaoznkpFomOc"
      },
      "outputs": [],
      "source": [
        "df['Average of wind_speed_max (Kmph)'].fillna(value=df['Average of wind_speed_max (Kmph)'].mean(), inplace=True)"
      ]
    },
    {
      "cell_type": "code",
      "execution_count": 7,
      "metadata": {
        "colab": {
          "base_uri": "https://localhost:8080/"
        },
        "id": "kEj__aH8qAzc",
        "outputId": "e0a3dc7c-b2d9-41aa-c361-5a69af9ce5ed",
        "scrolled": true
      },
      "outputs": [
        {
          "output_type": "stream",
          "name": "stdout",
          "text": [
            "<class 'pandas.core.frame.DataFrame'>\n",
            "RangeIndex: 57 entries, 0 to 56\n",
            "Data columns (total 8 columns):\n",
            " #   Column                            Non-Null Count  Dtype  \n",
            "---  ------                            --------------  -----  \n",
            " 0   Row Labels                        57 non-null     object \n",
            " 1   Average of Rainfall (mm)          57 non-null     float64\n",
            " 2   Average of temp_min (â°C)        57 non-null     float64\n",
            " 3   Average of temp_max (â°C)        57 non-null     float64\n",
            " 4   Average of humidity_min (%)       57 non-null     float64\n",
            " 5   Average of Humidity_max (%)       57 non-null     float64\n",
            " 6   Average of wind_speed_min (Kmph)  57 non-null     float64\n",
            " 7   Average of wind_speed_max (Kmph)  57 non-null     float64\n",
            "dtypes: float64(7), object(1)\n",
            "memory usage: 3.7+ KB\n"
          ]
        }
      ],
      "source": [
        "df.info()"
      ]
    },
    {
      "cell_type": "code",
      "execution_count": 229,
      "metadata": {
        "colab": {
          "base_uri": "https://localhost:8080/"
        },
        "id": "6ID3_OAlOAxj",
        "outputId": "6d349d05-bf23-4d52-a6cb-08e6f6716f86"
      },
      "outputs": [
        {
          "name": "stdout",
          "output_type": "stream",
          "text": [
            "enter the month you want to predict in 3-letter format(Jan): Dec\n"
          ]
        }
      ],
      "source": [
        "month=input(\"enter the month you want to predict in 3-letter format(Jan): \")"
      ]
    },
    {
      "cell_type": "code",
      "execution_count": 230,
      "metadata": {
        "colab": {
          "base_uri": "https://localhost:8080/"
        },
        "id": "b6iZfowpOAxk",
        "outputId": "e221fff4-92fa-49c2-f88e-dba7c1f18dc0"
      },
      "outputs": [
        {
          "output_type": "stream",
          "name": "stdout",
          "text": [
            "   Row Labels  Average of Rainfall (mm)  Average of temp_min (â°C)  \\\n",
            "11     Dec-18                  0.385827                   16.811164   \n",
            "23     Dec-19                  0.016352                   17.545080   \n",
            "35     Dec-20                  0.000000                   14.817800   \n",
            "47     Dec-21                  0.026808                   15.830590   \n",
            "\n",
            "    Average of temp_max (â°C)  Average of humidity_min (%)  \\\n",
            "11                   29.692557                    43.243468   \n",
            "23                   29.183240                    49.859090   \n",
            "35                   30.633930                    34.849500   \n",
            "47                   30.208010                    41.115020   \n",
            "\n",
            "    Average of Humidity_max (%)  Average of wind_speed_min (Kmph)  \\\n",
            "11                    90.168646                          0.046081   \n",
            "23                     4.569765                          0.009183   \n",
            "35                    90.824470                          5.107383   \n",
            "47                    93.609450                          0.010234   \n",
            "\n",
            "    Average of wind_speed_max (Kmph)  \n",
            "11                          6.068884  \n",
            "23                         92.851490  \n",
            "35                          0.002237  \n",
            "47                          6.184538  \n"
          ]
        }
      ],
      "source": [
        "df1=pd.DataFrame()\n",
        "for index, row in df.iterrows():\n",
        "    if month in row['Row Labels'] :\n",
        "        df1 = df1.append(row)\n",
        "print(df1)"
      ]
    },
    {
      "cell_type": "code",
      "execution_count": 231,
      "metadata": {
        "colab": {
          "base_uri": "https://localhost:8080/",
          "height": 253
        },
        "id": "1ao6Erzohb4p",
        "outputId": "ea660146-7528-4847-ea2e-653c5e6eef2e"
      },
      "outputs": [
        {
          "output_type": "execute_result",
          "data": {
            "text/plain": [
              "   Row Labels  Average of Rainfall (mm)  Average of temp_min (â°C)  \\\n",
              "11     Dec-18                  0.385827                   16.811164   \n",
              "23     Dec-19                  0.016352                   17.545080   \n",
              "35     Dec-20                  0.000000                   14.817800   \n",
              "47     Dec-21                  0.026808                   15.830590   \n",
              "\n",
              "    Average of temp_max (â°C)  Average of humidity_min (%)  \\\n",
              "11                   29.692557                    43.243468   \n",
              "23                   29.183240                    49.859090   \n",
              "35                   30.633930                    34.849500   \n",
              "47                   30.208010                    41.115020   \n",
              "\n",
              "    Average of Humidity_max (%)  Average of wind_speed_min (Kmph)  \\\n",
              "11                    90.168646                          0.046081   \n",
              "23                     4.569765                          0.009183   \n",
              "35                    90.824470                          5.107383   \n",
              "47                    93.609450                          0.010234   \n",
              "\n",
              "    Average of wind_speed_max (Kmph)    target  \n",
              "11                          6.068884  29.18324  \n",
              "23                         92.851490  30.63393  \n",
              "35                          0.002237  30.20801  \n",
              "47                          6.184538       NaN  "
            ],
            "text/html": [
              "\n",
              "  <div id=\"df-f5959553-d5e1-4588-ab39-ba3837a96488\">\n",
              "    <div class=\"colab-df-container\">\n",
              "      <div>\n",
              "<style scoped>\n",
              "    .dataframe tbody tr th:only-of-type {\n",
              "        vertical-align: middle;\n",
              "    }\n",
              "\n",
              "    .dataframe tbody tr th {\n",
              "        vertical-align: top;\n",
              "    }\n",
              "\n",
              "    .dataframe thead th {\n",
              "        text-align: right;\n",
              "    }\n",
              "</style>\n",
              "<table border=\"1\" class=\"dataframe\">\n",
              "  <thead>\n",
              "    <tr style=\"text-align: right;\">\n",
              "      <th></th>\n",
              "      <th>Row Labels</th>\n",
              "      <th>Average of Rainfall (mm)</th>\n",
              "      <th>Average of temp_min (â°C)</th>\n",
              "      <th>Average of temp_max (â°C)</th>\n",
              "      <th>Average of humidity_min (%)</th>\n",
              "      <th>Average of Humidity_max (%)</th>\n",
              "      <th>Average of wind_speed_min (Kmph)</th>\n",
              "      <th>Average of wind_speed_max (Kmph)</th>\n",
              "      <th>target</th>\n",
              "    </tr>\n",
              "  </thead>\n",
              "  <tbody>\n",
              "    <tr>\n",
              "      <th>11</th>\n",
              "      <td>Dec-18</td>\n",
              "      <td>0.385827</td>\n",
              "      <td>16.811164</td>\n",
              "      <td>29.692557</td>\n",
              "      <td>43.243468</td>\n",
              "      <td>90.168646</td>\n",
              "      <td>0.046081</td>\n",
              "      <td>6.068884</td>\n",
              "      <td>29.18324</td>\n",
              "    </tr>\n",
              "    <tr>\n",
              "      <th>23</th>\n",
              "      <td>Dec-19</td>\n",
              "      <td>0.016352</td>\n",
              "      <td>17.545080</td>\n",
              "      <td>29.183240</td>\n",
              "      <td>49.859090</td>\n",
              "      <td>4.569765</td>\n",
              "      <td>0.009183</td>\n",
              "      <td>92.851490</td>\n",
              "      <td>30.63393</td>\n",
              "    </tr>\n",
              "    <tr>\n",
              "      <th>35</th>\n",
              "      <td>Dec-20</td>\n",
              "      <td>0.000000</td>\n",
              "      <td>14.817800</td>\n",
              "      <td>30.633930</td>\n",
              "      <td>34.849500</td>\n",
              "      <td>90.824470</td>\n",
              "      <td>5.107383</td>\n",
              "      <td>0.002237</td>\n",
              "      <td>30.20801</td>\n",
              "    </tr>\n",
              "    <tr>\n",
              "      <th>47</th>\n",
              "      <td>Dec-21</td>\n",
              "      <td>0.026808</td>\n",
              "      <td>15.830590</td>\n",
              "      <td>30.208010</td>\n",
              "      <td>41.115020</td>\n",
              "      <td>93.609450</td>\n",
              "      <td>0.010234</td>\n",
              "      <td>6.184538</td>\n",
              "      <td>NaN</td>\n",
              "    </tr>\n",
              "  </tbody>\n",
              "</table>\n",
              "</div>\n",
              "      <button class=\"colab-df-convert\" onclick=\"convertToInteractive('df-f5959553-d5e1-4588-ab39-ba3837a96488')\"\n",
              "              title=\"Convert this dataframe to an interactive table.\"\n",
              "              style=\"display:none;\">\n",
              "        \n",
              "  <svg xmlns=\"http://www.w3.org/2000/svg\" height=\"24px\"viewBox=\"0 0 24 24\"\n",
              "       width=\"24px\">\n",
              "    <path d=\"M0 0h24v24H0V0z\" fill=\"none\"/>\n",
              "    <path d=\"M18.56 5.44l.94 2.06.94-2.06 2.06-.94-2.06-.94-.94-2.06-.94 2.06-2.06.94zm-11 1L8.5 8.5l.94-2.06 2.06-.94-2.06-.94L8.5 2.5l-.94 2.06-2.06.94zm10 10l.94 2.06.94-2.06 2.06-.94-2.06-.94-.94-2.06-.94 2.06-2.06.94z\"/><path d=\"M17.41 7.96l-1.37-1.37c-.4-.4-.92-.59-1.43-.59-.52 0-1.04.2-1.43.59L10.3 9.45l-7.72 7.72c-.78.78-.78 2.05 0 2.83L4 21.41c.39.39.9.59 1.41.59.51 0 1.02-.2 1.41-.59l7.78-7.78 2.81-2.81c.8-.78.8-2.07 0-2.86zM5.41 20L4 18.59l7.72-7.72 1.47 1.35L5.41 20z\"/>\n",
              "  </svg>\n",
              "      </button>\n",
              "      \n",
              "  <style>\n",
              "    .colab-df-container {\n",
              "      display:flex;\n",
              "      flex-wrap:wrap;\n",
              "      gap: 12px;\n",
              "    }\n",
              "\n",
              "    .colab-df-convert {\n",
              "      background-color: #E8F0FE;\n",
              "      border: none;\n",
              "      border-radius: 50%;\n",
              "      cursor: pointer;\n",
              "      display: none;\n",
              "      fill: #1967D2;\n",
              "      height: 32px;\n",
              "      padding: 0 0 0 0;\n",
              "      width: 32px;\n",
              "    }\n",
              "\n",
              "    .colab-df-convert:hover {\n",
              "      background-color: #E2EBFA;\n",
              "      box-shadow: 0px 1px 2px rgba(60, 64, 67, 0.3), 0px 1px 3px 1px rgba(60, 64, 67, 0.15);\n",
              "      fill: #174EA6;\n",
              "    }\n",
              "\n",
              "    [theme=dark] .colab-df-convert {\n",
              "      background-color: #3B4455;\n",
              "      fill: #D2E3FC;\n",
              "    }\n",
              "\n",
              "    [theme=dark] .colab-df-convert:hover {\n",
              "      background-color: #434B5C;\n",
              "      box-shadow: 0px 1px 3px 1px rgba(0, 0, 0, 0.15);\n",
              "      filter: drop-shadow(0px 1px 2px rgba(0, 0, 0, 0.3));\n",
              "      fill: #FFFFFF;\n",
              "    }\n",
              "  </style>\n",
              "\n",
              "      <script>\n",
              "        const buttonEl =\n",
              "          document.querySelector('#df-f5959553-d5e1-4588-ab39-ba3837a96488 button.colab-df-convert');\n",
              "        buttonEl.style.display =\n",
              "          google.colab.kernel.accessAllowed ? 'block' : 'none';\n",
              "\n",
              "        async function convertToInteractive(key) {\n",
              "          const element = document.querySelector('#df-f5959553-d5e1-4588-ab39-ba3837a96488');\n",
              "          const dataTable =\n",
              "            await google.colab.kernel.invokeFunction('convertToInteractive',\n",
              "                                                     [key], {});\n",
              "          if (!dataTable) return;\n",
              "\n",
              "          const docLinkHtml = 'Like what you see? Visit the ' +\n",
              "            '<a target=\"_blank\" href=https://colab.research.google.com/notebooks/data_table.ipynb>data table notebook</a>'\n",
              "            + ' to learn more about interactive tables.';\n",
              "          element.innerHTML = '';\n",
              "          dataTable['output_type'] = 'display_data';\n",
              "          await google.colab.output.renderOutput(dataTable, element);\n",
              "          const docLink = document.createElement('div');\n",
              "          docLink.innerHTML = docLinkHtml;\n",
              "          element.appendChild(docLink);\n",
              "        }\n",
              "      </script>\n",
              "    </div>\n",
              "  </div>\n",
              "  "
            ]
          },
          "metadata": {},
          "execution_count": 231
        }
      ],
      "source": [
        "df1[\"target\"]=df1.shift(-1)[\"Average of temp_max (â°C)\"]\n",
        "df1"
      ]
    },
    {
      "cell_type": "code",
      "execution_count": 232,
      "metadata": {
        "colab": {
          "base_uri": "https://localhost:8080/"
        },
        "id": "GdkPlwqAOAxl",
        "outputId": "12a4fb95-89b3-4499-8e95-1d71f2924621"
      },
      "outputs": [
        {
          "output_type": "stream",
          "name": "stderr",
          "text": [
            "/usr/local/lib/python3.8/dist-packages/pandas/core/frame.py:4906: SettingWithCopyWarning: \n",
            "A value is trying to be set on a copy of a slice from a DataFrame\n",
            "\n",
            "See the caveats in the documentation: https://pandas.pydata.org/pandas-docs/stable/user_guide/indexing.html#returning-a-view-versus-a-copy\n",
            "  return super().drop(\n"
          ]
        }
      ],
      "source": [
        "df2=df1.tail(1)\n",
        "df2.drop(['Row Labels','target'],axis=1,inplace=True)"
      ]
    },
    {
      "cell_type": "code",
      "execution_count": 233,
      "metadata": {
        "colab": {
          "base_uri": "https://localhost:8080/",
          "height": 142
        },
        "id": "HXXgO3k1OAxl",
        "outputId": "8811d61e-339a-4745-ac35-626b53e1e7b1"
      },
      "outputs": [
        {
          "output_type": "execute_result",
          "data": {
            "text/plain": [
              "    Average of Rainfall (mm)  Average of temp_min (â°C)  \\\n",
              "47                  0.026808                    15.83059   \n",
              "\n",
              "    Average of temp_max (â°C)  Average of humidity_min (%)  \\\n",
              "47                    30.20801                     41.11502   \n",
              "\n",
              "    Average of Humidity_max (%)  Average of wind_speed_min (Kmph)  \\\n",
              "47                     93.60945                          0.010234   \n",
              "\n",
              "    Average of wind_speed_max (Kmph)  \n",
              "47                          6.184538  "
            ],
            "text/html": [
              "\n",
              "  <div id=\"df-d667482d-62ff-49cf-a8db-161d8a3007cd\">\n",
              "    <div class=\"colab-df-container\">\n",
              "      <div>\n",
              "<style scoped>\n",
              "    .dataframe tbody tr th:only-of-type {\n",
              "        vertical-align: middle;\n",
              "    }\n",
              "\n",
              "    .dataframe tbody tr th {\n",
              "        vertical-align: top;\n",
              "    }\n",
              "\n",
              "    .dataframe thead th {\n",
              "        text-align: right;\n",
              "    }\n",
              "</style>\n",
              "<table border=\"1\" class=\"dataframe\">\n",
              "  <thead>\n",
              "    <tr style=\"text-align: right;\">\n",
              "      <th></th>\n",
              "      <th>Average of Rainfall (mm)</th>\n",
              "      <th>Average of temp_min (â°C)</th>\n",
              "      <th>Average of temp_max (â°C)</th>\n",
              "      <th>Average of humidity_min (%)</th>\n",
              "      <th>Average of Humidity_max (%)</th>\n",
              "      <th>Average of wind_speed_min (Kmph)</th>\n",
              "      <th>Average of wind_speed_max (Kmph)</th>\n",
              "    </tr>\n",
              "  </thead>\n",
              "  <tbody>\n",
              "    <tr>\n",
              "      <th>47</th>\n",
              "      <td>0.026808</td>\n",
              "      <td>15.83059</td>\n",
              "      <td>30.20801</td>\n",
              "      <td>41.11502</td>\n",
              "      <td>93.60945</td>\n",
              "      <td>0.010234</td>\n",
              "      <td>6.184538</td>\n",
              "    </tr>\n",
              "  </tbody>\n",
              "</table>\n",
              "</div>\n",
              "      <button class=\"colab-df-convert\" onclick=\"convertToInteractive('df-d667482d-62ff-49cf-a8db-161d8a3007cd')\"\n",
              "              title=\"Convert this dataframe to an interactive table.\"\n",
              "              style=\"display:none;\">\n",
              "        \n",
              "  <svg xmlns=\"http://www.w3.org/2000/svg\" height=\"24px\"viewBox=\"0 0 24 24\"\n",
              "       width=\"24px\">\n",
              "    <path d=\"M0 0h24v24H0V0z\" fill=\"none\"/>\n",
              "    <path d=\"M18.56 5.44l.94 2.06.94-2.06 2.06-.94-2.06-.94-.94-2.06-.94 2.06-2.06.94zm-11 1L8.5 8.5l.94-2.06 2.06-.94-2.06-.94L8.5 2.5l-.94 2.06-2.06.94zm10 10l.94 2.06.94-2.06 2.06-.94-2.06-.94-.94-2.06-.94 2.06-2.06.94z\"/><path d=\"M17.41 7.96l-1.37-1.37c-.4-.4-.92-.59-1.43-.59-.52 0-1.04.2-1.43.59L10.3 9.45l-7.72 7.72c-.78.78-.78 2.05 0 2.83L4 21.41c.39.39.9.59 1.41.59.51 0 1.02-.2 1.41-.59l7.78-7.78 2.81-2.81c.8-.78.8-2.07 0-2.86zM5.41 20L4 18.59l7.72-7.72 1.47 1.35L5.41 20z\"/>\n",
              "  </svg>\n",
              "      </button>\n",
              "      \n",
              "  <style>\n",
              "    .colab-df-container {\n",
              "      display:flex;\n",
              "      flex-wrap:wrap;\n",
              "      gap: 12px;\n",
              "    }\n",
              "\n",
              "    .colab-df-convert {\n",
              "      background-color: #E8F0FE;\n",
              "      border: none;\n",
              "      border-radius: 50%;\n",
              "      cursor: pointer;\n",
              "      display: none;\n",
              "      fill: #1967D2;\n",
              "      height: 32px;\n",
              "      padding: 0 0 0 0;\n",
              "      width: 32px;\n",
              "    }\n",
              "\n",
              "    .colab-df-convert:hover {\n",
              "      background-color: #E2EBFA;\n",
              "      box-shadow: 0px 1px 2px rgba(60, 64, 67, 0.3), 0px 1px 3px 1px rgba(60, 64, 67, 0.15);\n",
              "      fill: #174EA6;\n",
              "    }\n",
              "\n",
              "    [theme=dark] .colab-df-convert {\n",
              "      background-color: #3B4455;\n",
              "      fill: #D2E3FC;\n",
              "    }\n",
              "\n",
              "    [theme=dark] .colab-df-convert:hover {\n",
              "      background-color: #434B5C;\n",
              "      box-shadow: 0px 1px 3px 1px rgba(0, 0, 0, 0.15);\n",
              "      filter: drop-shadow(0px 1px 2px rgba(0, 0, 0, 0.3));\n",
              "      fill: #FFFFFF;\n",
              "    }\n",
              "  </style>\n",
              "\n",
              "      <script>\n",
              "        const buttonEl =\n",
              "          document.querySelector('#df-d667482d-62ff-49cf-a8db-161d8a3007cd button.colab-df-convert');\n",
              "        buttonEl.style.display =\n",
              "          google.colab.kernel.accessAllowed ? 'block' : 'none';\n",
              "\n",
              "        async function convertToInteractive(key) {\n",
              "          const element = document.querySelector('#df-d667482d-62ff-49cf-a8db-161d8a3007cd');\n",
              "          const dataTable =\n",
              "            await google.colab.kernel.invokeFunction('convertToInteractive',\n",
              "                                                     [key], {});\n",
              "          if (!dataTable) return;\n",
              "\n",
              "          const docLinkHtml = 'Like what you see? Visit the ' +\n",
              "            '<a target=\"_blank\" href=https://colab.research.google.com/notebooks/data_table.ipynb>data table notebook</a>'\n",
              "            + ' to learn more about interactive tables.';\n",
              "          element.innerHTML = '';\n",
              "          dataTable['output_type'] = 'display_data';\n",
              "          await google.colab.output.renderOutput(dataTable, element);\n",
              "          const docLink = document.createElement('div');\n",
              "          docLink.innerHTML = docLinkHtml;\n",
              "          element.appendChild(docLink);\n",
              "        }\n",
              "      </script>\n",
              "    </div>\n",
              "  </div>\n",
              "  "
            ]
          },
          "metadata": {},
          "execution_count": 233
        }
      ],
      "source": [
        "df2"
      ]
    },
    {
      "cell_type": "code",
      "execution_count": 234,
      "metadata": {
        "colab": {
          "base_uri": "https://localhost:8080/"
        },
        "id": "uRWbKNffOAxm",
        "outputId": "d0861c4f-6039-46dd-b809-0f6b3cae52bb"
      },
      "outputs": [
        {
          "output_type": "execute_result",
          "data": {
            "text/plain": [
              "array([[2.680800e-02, 1.583059e+01, 3.020801e+01, 4.111502e+01,\n",
              "        9.360945e+01, 1.023400e-02, 6.184538e+00]])"
            ]
          },
          "metadata": {},
          "execution_count": 234
        }
      ],
      "source": [
        "x=np.array(df2)\n",
        "x"
      ]
    },
    {
      "cell_type": "code",
      "execution_count": 235,
      "metadata": {
        "colab": {
          "base_uri": "https://localhost:8080/",
          "height": 222
        },
        "id": "o89WbeYJWRWI",
        "outputId": "e034c525-36c5-4606-c71d-19c7bedc31da"
      },
      "outputs": [
        {
          "output_type": "execute_result",
          "data": {
            "text/plain": [
              "   Row Labels  Average of Rainfall (mm)  Average of temp_min (â°C)  \\\n",
              "11     Dec-18                  0.385827                   16.811164   \n",
              "23     Dec-19                  0.016352                   17.545080   \n",
              "35     Dec-20                  0.000000                   14.817800   \n",
              "\n",
              "    Average of temp_max (â°C)  Average of humidity_min (%)  \\\n",
              "11                   29.692557                    43.243468   \n",
              "23                   29.183240                    49.859090   \n",
              "35                   30.633930                    34.849500   \n",
              "\n",
              "    Average of Humidity_max (%)  Average of wind_speed_min (Kmph)  \\\n",
              "11                    90.168646                          0.046081   \n",
              "23                     4.569765                          0.009183   \n",
              "35                    90.824470                          5.107383   \n",
              "\n",
              "    Average of wind_speed_max (Kmph)    target  \n",
              "11                          6.068884  29.18324  \n",
              "23                         92.851490  30.63393  \n",
              "35                          0.002237  30.20801  "
            ],
            "text/html": [
              "\n",
              "  <div id=\"df-8156147b-d221-4dd1-acb8-92fdc4522edb\">\n",
              "    <div class=\"colab-df-container\">\n",
              "      <div>\n",
              "<style scoped>\n",
              "    .dataframe tbody tr th:only-of-type {\n",
              "        vertical-align: middle;\n",
              "    }\n",
              "\n",
              "    .dataframe tbody tr th {\n",
              "        vertical-align: top;\n",
              "    }\n",
              "\n",
              "    .dataframe thead th {\n",
              "        text-align: right;\n",
              "    }\n",
              "</style>\n",
              "<table border=\"1\" class=\"dataframe\">\n",
              "  <thead>\n",
              "    <tr style=\"text-align: right;\">\n",
              "      <th></th>\n",
              "      <th>Row Labels</th>\n",
              "      <th>Average of Rainfall (mm)</th>\n",
              "      <th>Average of temp_min (â°C)</th>\n",
              "      <th>Average of temp_max (â°C)</th>\n",
              "      <th>Average of humidity_min (%)</th>\n",
              "      <th>Average of Humidity_max (%)</th>\n",
              "      <th>Average of wind_speed_min (Kmph)</th>\n",
              "      <th>Average of wind_speed_max (Kmph)</th>\n",
              "      <th>target</th>\n",
              "    </tr>\n",
              "  </thead>\n",
              "  <tbody>\n",
              "    <tr>\n",
              "      <th>11</th>\n",
              "      <td>Dec-18</td>\n",
              "      <td>0.385827</td>\n",
              "      <td>16.811164</td>\n",
              "      <td>29.692557</td>\n",
              "      <td>43.243468</td>\n",
              "      <td>90.168646</td>\n",
              "      <td>0.046081</td>\n",
              "      <td>6.068884</td>\n",
              "      <td>29.18324</td>\n",
              "    </tr>\n",
              "    <tr>\n",
              "      <th>23</th>\n",
              "      <td>Dec-19</td>\n",
              "      <td>0.016352</td>\n",
              "      <td>17.545080</td>\n",
              "      <td>29.183240</td>\n",
              "      <td>49.859090</td>\n",
              "      <td>4.569765</td>\n",
              "      <td>0.009183</td>\n",
              "      <td>92.851490</td>\n",
              "      <td>30.63393</td>\n",
              "    </tr>\n",
              "    <tr>\n",
              "      <th>35</th>\n",
              "      <td>Dec-20</td>\n",
              "      <td>0.000000</td>\n",
              "      <td>14.817800</td>\n",
              "      <td>30.633930</td>\n",
              "      <td>34.849500</td>\n",
              "      <td>90.824470</td>\n",
              "      <td>5.107383</td>\n",
              "      <td>0.002237</td>\n",
              "      <td>30.20801</td>\n",
              "    </tr>\n",
              "  </tbody>\n",
              "</table>\n",
              "</div>\n",
              "      <button class=\"colab-df-convert\" onclick=\"convertToInteractive('df-8156147b-d221-4dd1-acb8-92fdc4522edb')\"\n",
              "              title=\"Convert this dataframe to an interactive table.\"\n",
              "              style=\"display:none;\">\n",
              "        \n",
              "  <svg xmlns=\"http://www.w3.org/2000/svg\" height=\"24px\"viewBox=\"0 0 24 24\"\n",
              "       width=\"24px\">\n",
              "    <path d=\"M0 0h24v24H0V0z\" fill=\"none\"/>\n",
              "    <path d=\"M18.56 5.44l.94 2.06.94-2.06 2.06-.94-2.06-.94-.94-2.06-.94 2.06-2.06.94zm-11 1L8.5 8.5l.94-2.06 2.06-.94-2.06-.94L8.5 2.5l-.94 2.06-2.06.94zm10 10l.94 2.06.94-2.06 2.06-.94-2.06-.94-.94-2.06-.94 2.06-2.06.94z\"/><path d=\"M17.41 7.96l-1.37-1.37c-.4-.4-.92-.59-1.43-.59-.52 0-1.04.2-1.43.59L10.3 9.45l-7.72 7.72c-.78.78-.78 2.05 0 2.83L4 21.41c.39.39.9.59 1.41.59.51 0 1.02-.2 1.41-.59l7.78-7.78 2.81-2.81c.8-.78.8-2.07 0-2.86zM5.41 20L4 18.59l7.72-7.72 1.47 1.35L5.41 20z\"/>\n",
              "  </svg>\n",
              "      </button>\n",
              "      \n",
              "  <style>\n",
              "    .colab-df-container {\n",
              "      display:flex;\n",
              "      flex-wrap:wrap;\n",
              "      gap: 12px;\n",
              "    }\n",
              "\n",
              "    .colab-df-convert {\n",
              "      background-color: #E8F0FE;\n",
              "      border: none;\n",
              "      border-radius: 50%;\n",
              "      cursor: pointer;\n",
              "      display: none;\n",
              "      fill: #1967D2;\n",
              "      height: 32px;\n",
              "      padding: 0 0 0 0;\n",
              "      width: 32px;\n",
              "    }\n",
              "\n",
              "    .colab-df-convert:hover {\n",
              "      background-color: #E2EBFA;\n",
              "      box-shadow: 0px 1px 2px rgba(60, 64, 67, 0.3), 0px 1px 3px 1px rgba(60, 64, 67, 0.15);\n",
              "      fill: #174EA6;\n",
              "    }\n",
              "\n",
              "    [theme=dark] .colab-df-convert {\n",
              "      background-color: #3B4455;\n",
              "      fill: #D2E3FC;\n",
              "    }\n",
              "\n",
              "    [theme=dark] .colab-df-convert:hover {\n",
              "      background-color: #434B5C;\n",
              "      box-shadow: 0px 1px 3px 1px rgba(0, 0, 0, 0.15);\n",
              "      filter: drop-shadow(0px 1px 2px rgba(0, 0, 0, 0.3));\n",
              "      fill: #FFFFFF;\n",
              "    }\n",
              "  </style>\n",
              "\n",
              "      <script>\n",
              "        const buttonEl =\n",
              "          document.querySelector('#df-8156147b-d221-4dd1-acb8-92fdc4522edb button.colab-df-convert');\n",
              "        buttonEl.style.display =\n",
              "          google.colab.kernel.accessAllowed ? 'block' : 'none';\n",
              "\n",
              "        async function convertToInteractive(key) {\n",
              "          const element = document.querySelector('#df-8156147b-d221-4dd1-acb8-92fdc4522edb');\n",
              "          const dataTable =\n",
              "            await google.colab.kernel.invokeFunction('convertToInteractive',\n",
              "                                                     [key], {});\n",
              "          if (!dataTable) return;\n",
              "\n",
              "          const docLinkHtml = 'Like what you see? Visit the ' +\n",
              "            '<a target=\"_blank\" href=https://colab.research.google.com/notebooks/data_table.ipynb>data table notebook</a>'\n",
              "            + ' to learn more about interactive tables.';\n",
              "          element.innerHTML = '';\n",
              "          dataTable['output_type'] = 'display_data';\n",
              "          await google.colab.output.renderOutput(dataTable, element);\n",
              "          const docLink = document.createElement('div');\n",
              "          docLink.innerHTML = docLinkHtml;\n",
              "          element.appendChild(docLink);\n",
              "        }\n",
              "      </script>\n",
              "    </div>\n",
              "  </div>\n",
              "  "
            ]
          },
          "metadata": {},
          "execution_count": 235
        }
      ],
      "source": [
        "df1=df1[df1.target.notnull()]\n",
        "df1"
      ]
    },
    {
      "cell_type": "code",
      "execution_count": 236,
      "metadata": {
        "colab": {
          "base_uri": "https://localhost:8080/",
          "height": 205
        },
        "id": "wOWR9TwzdUR0",
        "outputId": "b4eaa0fa-5171-46f5-ce56-fdc76795019c"
      },
      "outputs": [
        {
          "output_type": "execute_result",
          "data": {
            "text/plain": [
              "    Average of Rainfall (mm)  Average of temp_min (â°C)  \\\n",
              "11                  0.385827                   16.811164   \n",
              "23                  0.016352                   17.545080   \n",
              "35                  0.000000                   14.817800   \n",
              "\n",
              "    Average of temp_max (â°C)  Average of humidity_min (%)  \\\n",
              "11                   29.692557                    43.243468   \n",
              "23                   29.183240                    49.859090   \n",
              "35                   30.633930                    34.849500   \n",
              "\n",
              "    Average of Humidity_max (%)  Average of wind_speed_min (Kmph)  \\\n",
              "11                    90.168646                          0.046081   \n",
              "23                     4.569765                          0.009183   \n",
              "35                    90.824470                          5.107383   \n",
              "\n",
              "    Average of wind_speed_max (Kmph)  \n",
              "11                          6.068884  \n",
              "23                         92.851490  \n",
              "35                          0.002237  "
            ],
            "text/html": [
              "\n",
              "  <div id=\"df-d5c5b519-b073-4e02-8bb4-c986d80cde44\">\n",
              "    <div class=\"colab-df-container\">\n",
              "      <div>\n",
              "<style scoped>\n",
              "    .dataframe tbody tr th:only-of-type {\n",
              "        vertical-align: middle;\n",
              "    }\n",
              "\n",
              "    .dataframe tbody tr th {\n",
              "        vertical-align: top;\n",
              "    }\n",
              "\n",
              "    .dataframe thead th {\n",
              "        text-align: right;\n",
              "    }\n",
              "</style>\n",
              "<table border=\"1\" class=\"dataframe\">\n",
              "  <thead>\n",
              "    <tr style=\"text-align: right;\">\n",
              "      <th></th>\n",
              "      <th>Average of Rainfall (mm)</th>\n",
              "      <th>Average of temp_min (â°C)</th>\n",
              "      <th>Average of temp_max (â°C)</th>\n",
              "      <th>Average of humidity_min (%)</th>\n",
              "      <th>Average of Humidity_max (%)</th>\n",
              "      <th>Average of wind_speed_min (Kmph)</th>\n",
              "      <th>Average of wind_speed_max (Kmph)</th>\n",
              "    </tr>\n",
              "  </thead>\n",
              "  <tbody>\n",
              "    <tr>\n",
              "      <th>11</th>\n",
              "      <td>0.385827</td>\n",
              "      <td>16.811164</td>\n",
              "      <td>29.692557</td>\n",
              "      <td>43.243468</td>\n",
              "      <td>90.168646</td>\n",
              "      <td>0.046081</td>\n",
              "      <td>6.068884</td>\n",
              "    </tr>\n",
              "    <tr>\n",
              "      <th>23</th>\n",
              "      <td>0.016352</td>\n",
              "      <td>17.545080</td>\n",
              "      <td>29.183240</td>\n",
              "      <td>49.859090</td>\n",
              "      <td>4.569765</td>\n",
              "      <td>0.009183</td>\n",
              "      <td>92.851490</td>\n",
              "    </tr>\n",
              "    <tr>\n",
              "      <th>35</th>\n",
              "      <td>0.000000</td>\n",
              "      <td>14.817800</td>\n",
              "      <td>30.633930</td>\n",
              "      <td>34.849500</td>\n",
              "      <td>90.824470</td>\n",
              "      <td>5.107383</td>\n",
              "      <td>0.002237</td>\n",
              "    </tr>\n",
              "  </tbody>\n",
              "</table>\n",
              "</div>\n",
              "      <button class=\"colab-df-convert\" onclick=\"convertToInteractive('df-d5c5b519-b073-4e02-8bb4-c986d80cde44')\"\n",
              "              title=\"Convert this dataframe to an interactive table.\"\n",
              "              style=\"display:none;\">\n",
              "        \n",
              "  <svg xmlns=\"http://www.w3.org/2000/svg\" height=\"24px\"viewBox=\"0 0 24 24\"\n",
              "       width=\"24px\">\n",
              "    <path d=\"M0 0h24v24H0V0z\" fill=\"none\"/>\n",
              "    <path d=\"M18.56 5.44l.94 2.06.94-2.06 2.06-.94-2.06-.94-.94-2.06-.94 2.06-2.06.94zm-11 1L8.5 8.5l.94-2.06 2.06-.94-2.06-.94L8.5 2.5l-.94 2.06-2.06.94zm10 10l.94 2.06.94-2.06 2.06-.94-2.06-.94-.94-2.06-.94 2.06-2.06.94z\"/><path d=\"M17.41 7.96l-1.37-1.37c-.4-.4-.92-.59-1.43-.59-.52 0-1.04.2-1.43.59L10.3 9.45l-7.72 7.72c-.78.78-.78 2.05 0 2.83L4 21.41c.39.39.9.59 1.41.59.51 0 1.02-.2 1.41-.59l7.78-7.78 2.81-2.81c.8-.78.8-2.07 0-2.86zM5.41 20L4 18.59l7.72-7.72 1.47 1.35L5.41 20z\"/>\n",
              "  </svg>\n",
              "      </button>\n",
              "      \n",
              "  <style>\n",
              "    .colab-df-container {\n",
              "      display:flex;\n",
              "      flex-wrap:wrap;\n",
              "      gap: 12px;\n",
              "    }\n",
              "\n",
              "    .colab-df-convert {\n",
              "      background-color: #E8F0FE;\n",
              "      border: none;\n",
              "      border-radius: 50%;\n",
              "      cursor: pointer;\n",
              "      display: none;\n",
              "      fill: #1967D2;\n",
              "      height: 32px;\n",
              "      padding: 0 0 0 0;\n",
              "      width: 32px;\n",
              "    }\n",
              "\n",
              "    .colab-df-convert:hover {\n",
              "      background-color: #E2EBFA;\n",
              "      box-shadow: 0px 1px 2px rgba(60, 64, 67, 0.3), 0px 1px 3px 1px rgba(60, 64, 67, 0.15);\n",
              "      fill: #174EA6;\n",
              "    }\n",
              "\n",
              "    [theme=dark] .colab-df-convert {\n",
              "      background-color: #3B4455;\n",
              "      fill: #D2E3FC;\n",
              "    }\n",
              "\n",
              "    [theme=dark] .colab-df-convert:hover {\n",
              "      background-color: #434B5C;\n",
              "      box-shadow: 0px 1px 3px 1px rgba(0, 0, 0, 0.15);\n",
              "      filter: drop-shadow(0px 1px 2px rgba(0, 0, 0, 0.3));\n",
              "      fill: #FFFFFF;\n",
              "    }\n",
              "  </style>\n",
              "\n",
              "      <script>\n",
              "        const buttonEl =\n",
              "          document.querySelector('#df-d5c5b519-b073-4e02-8bb4-c986d80cde44 button.colab-df-convert');\n",
              "        buttonEl.style.display =\n",
              "          google.colab.kernel.accessAllowed ? 'block' : 'none';\n",
              "\n",
              "        async function convertToInteractive(key) {\n",
              "          const element = document.querySelector('#df-d5c5b519-b073-4e02-8bb4-c986d80cde44');\n",
              "          const dataTable =\n",
              "            await google.colab.kernel.invokeFunction('convertToInteractive',\n",
              "                                                     [key], {});\n",
              "          if (!dataTable) return;\n",
              "\n",
              "          const docLinkHtml = 'Like what you see? Visit the ' +\n",
              "            '<a target=\"_blank\" href=https://colab.research.google.com/notebooks/data_table.ipynb>data table notebook</a>'\n",
              "            + ' to learn more about interactive tables.';\n",
              "          element.innerHTML = '';\n",
              "          dataTable['output_type'] = 'display_data';\n",
              "          await google.colab.output.renderOutput(dataTable, element);\n",
              "          const docLink = document.createElement('div');\n",
              "          docLink.innerHTML = docLinkHtml;\n",
              "          element.appendChild(docLink);\n",
              "        }\n",
              "      </script>\n",
              "    </div>\n",
              "  </div>\n",
              "  "
            ]
          },
          "metadata": {},
          "execution_count": 236
        }
      ],
      "source": [
        "predictors = df1.columns[~df1.columns.isin([\"target\", \"Row Labels\"])]\n",
        "df1[predictors].head()"
      ]
    },
    {
      "cell_type": "code",
      "execution_count": 237,
      "metadata": {
        "id": "Jpd8Lp-QdkKC"
      },
      "outputs": [],
      "source": [
        "from sklearn.preprocessing import StandardScaler\n",
        "sc=StandardScaler()"
      ]
    },
    {
      "cell_type": "code",
      "execution_count": 238,
      "metadata": {
        "colab": {
          "base_uri": "https://localhost:8080/",
          "height": 205
        },
        "id": "oh7bDzhBdwCc",
        "outputId": "788cebe0-5b72-443a-c967-d38a83e3e640"
      },
      "outputs": [
        {
          "output_type": "execute_result",
          "data": {
            "text/plain": [
              "    Average of Rainfall (mm)  Average of temp_min (â°C)  \\\n",
              "11                  0.385827                   16.811164   \n",
              "23                  0.016352                   17.545080   \n",
              "35                  0.000000                   14.817800   \n",
              "\n",
              "    Average of temp_max (â°C)  Average of humidity_min (%)  \\\n",
              "11                   29.692557                    43.243468   \n",
              "23                   29.183240                    49.859090   \n",
              "35                   30.633930                    34.849500   \n",
              "\n",
              "    Average of Humidity_max (%)  Average of wind_speed_min (Kmph)  \\\n",
              "11                    90.168646                          0.046081   \n",
              "23                     4.569765                          0.009183   \n",
              "35                    90.824470                          5.107383   \n",
              "\n",
              "    Average of wind_speed_max (Kmph)  \n",
              "11                          6.068884  \n",
              "23                         92.851490  \n",
              "35                          0.002237  "
            ],
            "text/html": [
              "\n",
              "  <div id=\"df-63614181-36fa-425b-ba23-7fcb4291e03d\">\n",
              "    <div class=\"colab-df-container\">\n",
              "      <div>\n",
              "<style scoped>\n",
              "    .dataframe tbody tr th:only-of-type {\n",
              "        vertical-align: middle;\n",
              "    }\n",
              "\n",
              "    .dataframe tbody tr th {\n",
              "        vertical-align: top;\n",
              "    }\n",
              "\n",
              "    .dataframe thead th {\n",
              "        text-align: right;\n",
              "    }\n",
              "</style>\n",
              "<table border=\"1\" class=\"dataframe\">\n",
              "  <thead>\n",
              "    <tr style=\"text-align: right;\">\n",
              "      <th></th>\n",
              "      <th>Average of Rainfall (mm)</th>\n",
              "      <th>Average of temp_min (â°C)</th>\n",
              "      <th>Average of temp_max (â°C)</th>\n",
              "      <th>Average of humidity_min (%)</th>\n",
              "      <th>Average of Humidity_max (%)</th>\n",
              "      <th>Average of wind_speed_min (Kmph)</th>\n",
              "      <th>Average of wind_speed_max (Kmph)</th>\n",
              "    </tr>\n",
              "  </thead>\n",
              "  <tbody>\n",
              "    <tr>\n",
              "      <th>11</th>\n",
              "      <td>0.385827</td>\n",
              "      <td>16.811164</td>\n",
              "      <td>29.692557</td>\n",
              "      <td>43.243468</td>\n",
              "      <td>90.168646</td>\n",
              "      <td>0.046081</td>\n",
              "      <td>6.068884</td>\n",
              "    </tr>\n",
              "    <tr>\n",
              "      <th>23</th>\n",
              "      <td>0.016352</td>\n",
              "      <td>17.545080</td>\n",
              "      <td>29.183240</td>\n",
              "      <td>49.859090</td>\n",
              "      <td>4.569765</td>\n",
              "      <td>0.009183</td>\n",
              "      <td>92.851490</td>\n",
              "    </tr>\n",
              "    <tr>\n",
              "      <th>35</th>\n",
              "      <td>0.000000</td>\n",
              "      <td>14.817800</td>\n",
              "      <td>30.633930</td>\n",
              "      <td>34.849500</td>\n",
              "      <td>90.824470</td>\n",
              "      <td>5.107383</td>\n",
              "      <td>0.002237</td>\n",
              "    </tr>\n",
              "  </tbody>\n",
              "</table>\n",
              "</div>\n",
              "      <button class=\"colab-df-convert\" onclick=\"convertToInteractive('df-63614181-36fa-425b-ba23-7fcb4291e03d')\"\n",
              "              title=\"Convert this dataframe to an interactive table.\"\n",
              "              style=\"display:none;\">\n",
              "        \n",
              "  <svg xmlns=\"http://www.w3.org/2000/svg\" height=\"24px\"viewBox=\"0 0 24 24\"\n",
              "       width=\"24px\">\n",
              "    <path d=\"M0 0h24v24H0V0z\" fill=\"none\"/>\n",
              "    <path d=\"M18.56 5.44l.94 2.06.94-2.06 2.06-.94-2.06-.94-.94-2.06-.94 2.06-2.06.94zm-11 1L8.5 8.5l.94-2.06 2.06-.94-2.06-.94L8.5 2.5l-.94 2.06-2.06.94zm10 10l.94 2.06.94-2.06 2.06-.94-2.06-.94-.94-2.06-.94 2.06-2.06.94z\"/><path d=\"M17.41 7.96l-1.37-1.37c-.4-.4-.92-.59-1.43-.59-.52 0-1.04.2-1.43.59L10.3 9.45l-7.72 7.72c-.78.78-.78 2.05 0 2.83L4 21.41c.39.39.9.59 1.41.59.51 0 1.02-.2 1.41-.59l7.78-7.78 2.81-2.81c.8-.78.8-2.07 0-2.86zM5.41 20L4 18.59l7.72-7.72 1.47 1.35L5.41 20z\"/>\n",
              "  </svg>\n",
              "      </button>\n",
              "      \n",
              "  <style>\n",
              "    .colab-df-container {\n",
              "      display:flex;\n",
              "      flex-wrap:wrap;\n",
              "      gap: 12px;\n",
              "    }\n",
              "\n",
              "    .colab-df-convert {\n",
              "      background-color: #E8F0FE;\n",
              "      border: none;\n",
              "      border-radius: 50%;\n",
              "      cursor: pointer;\n",
              "      display: none;\n",
              "      fill: #1967D2;\n",
              "      height: 32px;\n",
              "      padding: 0 0 0 0;\n",
              "      width: 32px;\n",
              "    }\n",
              "\n",
              "    .colab-df-convert:hover {\n",
              "      background-color: #E2EBFA;\n",
              "      box-shadow: 0px 1px 2px rgba(60, 64, 67, 0.3), 0px 1px 3px 1px rgba(60, 64, 67, 0.15);\n",
              "      fill: #174EA6;\n",
              "    }\n",
              "\n",
              "    [theme=dark] .colab-df-convert {\n",
              "      background-color: #3B4455;\n",
              "      fill: #D2E3FC;\n",
              "    }\n",
              "\n",
              "    [theme=dark] .colab-df-convert:hover {\n",
              "      background-color: #434B5C;\n",
              "      box-shadow: 0px 1px 3px 1px rgba(0, 0, 0, 0.15);\n",
              "      filter: drop-shadow(0px 1px 2px rgba(0, 0, 0, 0.3));\n",
              "      fill: #FFFFFF;\n",
              "    }\n",
              "  </style>\n",
              "\n",
              "      <script>\n",
              "        const buttonEl =\n",
              "          document.querySelector('#df-63614181-36fa-425b-ba23-7fcb4291e03d button.colab-df-convert');\n",
              "        buttonEl.style.display =\n",
              "          google.colab.kernel.accessAllowed ? 'block' : 'none';\n",
              "\n",
              "        async function convertToInteractive(key) {\n",
              "          const element = document.querySelector('#df-63614181-36fa-425b-ba23-7fcb4291e03d');\n",
              "          const dataTable =\n",
              "            await google.colab.kernel.invokeFunction('convertToInteractive',\n",
              "                                                     [key], {});\n",
              "          if (!dataTable) return;\n",
              "\n",
              "          const docLinkHtml = 'Like what you see? Visit the ' +\n",
              "            '<a target=\"_blank\" href=https://colab.research.google.com/notebooks/data_table.ipynb>data table notebook</a>'\n",
              "            + ' to learn more about interactive tables.';\n",
              "          element.innerHTML = '';\n",
              "          dataTable['output_type'] = 'display_data';\n",
              "          await google.colab.output.renderOutput(dataTable, element);\n",
              "          const docLink = document.createElement('div');\n",
              "          docLink.innerHTML = docLinkHtml;\n",
              "          element.appendChild(docLink);\n",
              "        }\n",
              "      </script>\n",
              "    </div>\n",
              "  </div>\n",
              "  "
            ]
          },
          "metadata": {},
          "execution_count": 238
        }
      ],
      "source": [
        "\n",
        "X=df1[predictors]\n",
        "y=df1[\"target\"]\n",
        "X"
      ]
    },
    {
      "cell_type": "code",
      "execution_count": 239,
      "metadata": {
        "id": "oNEhpoeOrCvb"
      },
      "outputs": [],
      "source": [
        "X=sc.fit_transform(X)"
      ]
    },
    {
      "cell_type": "code",
      "execution_count": 240,
      "metadata": {
        "id": "0jgjJO1DnRRI"
      },
      "outputs": [],
      "source": [
        "from sklearn.ensemble import RandomForestRegressor"
      ]
    },
    {
      "cell_type": "code",
      "execution_count": 241,
      "metadata": {
        "id": "MUXdSEF3hqcu"
      },
      "outputs": [],
      "source": [
        "rf = RandomForestRegressor(n_estimators = 300, max_features = 'sqrt', max_depth = 5, random_state = 18)"
      ]
    },
    {
      "cell_type": "code",
      "execution_count": 242,
      "metadata": {
        "colab": {
          "base_uri": "https://localhost:8080/"
        },
        "id": "aMRhZ3zlqes3",
        "outputId": "5c93a140-f703-45ed-c125-ea495fddbf8e"
      },
      "outputs": [
        {
          "output_type": "execute_result",
          "data": {
            "text/plain": [
              "(3,)"
            ]
          },
          "metadata": {},
          "execution_count": 242
        }
      ],
      "source": [
        "rf.fit(X,y)\n",
        "y_pred=rf.predict(X)\n",
        "y_pred.shape"
      ]
    },
    {
      "cell_type": "code",
      "execution_count": 243,
      "metadata": {
        "colab": {
          "base_uri": "https://localhost:8080/"
        },
        "id": "TXLyNNhrv3kG",
        "outputId": "ac409274-221b-48c3-e88e-7a8b4908d95b"
      },
      "outputs": [
        {
          "output_type": "execute_result",
          "data": {
            "text/plain": [
              "array([29.58579313, 30.3028866 , 30.03486657])"
            ]
          },
          "metadata": {},
          "execution_count": 243
        }
      ],
      "source": [
        "y_pred"
      ]
    },
    {
      "cell_type": "code",
      "execution_count": 244,
      "metadata": {
        "colab": {
          "base_uri": "https://localhost:8080/"
        },
        "id": "lzGSKu8usHUl",
        "outputId": "6b14814b-074f-40b5-ef70-d870dedfb737"
      },
      "outputs": [
        {
          "output_type": "stream",
          "name": "stdout",
          "text": [
            "predicting the temperatures of previous years:  11    29.18324\n",
            "23    30.63393\n",
            "35    30.20801\n",
            "Name: target, dtype: float64\n"
          ]
        }
      ],
      "source": [
        "print(\"predicting the temperatures of previous years: \",y)"
      ]
    },
    {
      "cell_type": "code",
      "execution_count": 245,
      "metadata": {
        "id": "Dt21UvZxq4IX"
      },
      "outputs": [],
      "source": [
        "from sklearn.metrics import mean_absolute_percentage_error\n",
        "error=mean_absolute_percentage_error(y_pred,y)"
      ]
    },
    {
      "cell_type": "code",
      "execution_count": 246,
      "metadata": {
        "colab": {
          "base_uri": "https://localhost:8080/"
        },
        "id": "4qjutXuvwImu",
        "outputId": "92ed83b0-35da-4bc2-9811-311c1209aeb9"
      },
      "outputs": [
        {
          "output_type": "stream",
          "name": "stdout",
          "text": [
            "mean absolute percentage error for  Dec  is:  0.010098510135111996\n"
          ]
        }
      ],
      "source": [
        "print(\"mean absolute percentage error for \",month,\" is: \",error)"
      ]
    },
    {
      "cell_type": "code",
      "execution_count": 247,
      "metadata": {
        "colab": {
          "base_uri": "https://localhost:8080/"
        },
        "id": "QudmDtKZwfUB",
        "outputId": "51f1cacc-436c-4b14-cbc1-ab51594845aa"
      },
      "outputs": [
        {
          "output_type": "stream",
          "name": "stdout",
          "text": [
            "the predicted maximum temperature for Nizamabad in  Dec  2023 is:  30.18043726666673\n"
          ]
        }
      ],
      "source": [
        "y=rf.predict(x)[0]\n",
        "print(\"the predicted maximum temperature for Nizamabad in \",month,\" 2023 is: \",y)"
      ]
    },
    {
      "cell_type": "markdown",
      "source": [
        "According to the India Metrological department, Hyderabad Standards identify heatwave conditions if maximum temperature of a station reaches atleast 40 degrees Celsius or more for plains, 37 degrees Celsius or more for coastal regions and atleast 30 degrees Celsius or more for hilly regions"
      ],
      "metadata": {
        "id": "Q3cVFkG5QSSZ"
      }
    },
    {
      "cell_type": "markdown",
      "source": [
        "As Nizamabad is a Plain region there are chances for occurance of heatwaves if the maximum temperature exceeds 40 degree celsius\n"
      ],
      "metadata": {
        "id": "tkWFm8ZdRATF"
      }
    },
    {
      "cell_type": "code",
      "execution_count": 248,
      "metadata": {
        "colab": {
          "base_uri": "https://localhost:8080/"
        },
        "id": "wBT-Jdj9OAxp",
        "outputId": "baed8ecb-323b-4581-bd9e-3265cec01f79"
      },
      "outputs": [
        {
          "output_type": "stream",
          "name": "stdout",
          "text": [
            "you will be safe, there will be no chance of occuring heawaves\n"
          ]
        }
      ],
      "source": [
        "if y>=40:\n",
        "  print(\"Be careful. There is chance of occuring heatwaves in Nizamabad in \",month,\" 2023\")\n",
        "else:\n",
        "  print(\"you will be safe, there will be no chance of occuring heawaves\")\n"
      ]
    },
    {
      "cell_type": "code",
      "source": [],
      "metadata": {
        "id": "HM19JBvba7Y-"
      },
      "execution_count": 248,
      "outputs": []
    }
  ],
  "metadata": {
    "colab": {
      "provenance": []
    },
    "kernelspec": {
      "display_name": "Python 3 (ipykernel)",
      "language": "python",
      "name": "python3"
    },
    "language_info": {
      "codemirror_mode": {
        "name": "ipython",
        "version": 3
      },
      "file_extension": ".py",
      "mimetype": "text/x-python",
      "name": "python",
      "nbconvert_exporter": "python",
      "pygments_lexer": "ipython3",
      "version": "3.9.7"
    }
  },
  "nbformat": 4,
  "nbformat_minor": 0
}