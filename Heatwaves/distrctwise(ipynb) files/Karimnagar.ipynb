{
  "cells": [
    {
      "cell_type": "code",
      "execution_count": null,
      "metadata": {
        "id": "aFOPXm67Kq4J"
      },
      "outputs": [],
      "source": [
        "import pandas as pd\n",
        "import numpy as np\n",
        "import matplotlib.pyplot as plt\n",
        "import seaborn as sns"
      ]
    },
    {
      "cell_type": "code",
      "source": [
        "from google.colab import drive\n",
        "drive.mount('/content/drive')"
      ],
      "metadata": {
        "colab": {
          "base_uri": "https://localhost:8080/"
        },
        "id": "oD2N9FhiOGxv",
        "outputId": "14325176-95b0-4223-e271-8a6d346d54bd"
      },
      "execution_count": null,
      "outputs": [
        {
          "output_type": "stream",
          "name": "stdout",
          "text": [
            "Mounted at /content/drive\n"
          ]
        }
      ]
    },
    {
      "cell_type": "code",
      "execution_count": null,
      "metadata": {
        "colab": {
          "base_uri": "https://localhost:8080/",
          "height": 267
        },
        "id": "bDinNUyaKsfW",
        "outputId": "0d6a0797-35a6-4941-e35c-fe3723a16ca8"
      },
      "outputs": [
        {
          "output_type": "execute_result",
          "data": {
            "text/plain": [
              "  Row Labels  Average of Rainfall (mm)  Average of temp_min (â°C)  \\\n",
              "0     Jan-18                  0.000000                   14.287097   \n",
              "1     Feb-18                  0.001286                   17.089429   \n",
              "2     Mar-18                  0.111871                   20.760000   \n",
              "3     Apr-18                  0.648667                   24.605467   \n",
              "4     May-18                  1.001161                   27.311484   \n",
              "\n",
              "   Average of temp_max (â°C)  Average of humidity_min (%)  \\\n",
              "0                   31.402890                    30.324516   \n",
              "1                   33.261714                    30.573571   \n",
              "2                   36.514839                    26.089161   \n",
              "3                   38.782267                    29.902533   \n",
              "4                   41.866839                    24.386065   \n",
              "\n",
              "   Average of Humidity_max (%)  Average of wind_speed_min (Kmph)  \\\n",
              "0                    84.905935                          0.005290   \n",
              "1                    79.324857                          0.052143   \n",
              "2                    75.852903                          0.022968   \n",
              "3                    80.247733                          0.085944   \n",
              "4                    71.036645                          0.270968   \n",
              "\n",
              "   Average of wind_speed_max (Kmph)  \n",
              "0                          6.776129  \n",
              "1                          8.915286  \n",
              "2                          9.071097  \n",
              "3                         11.694913  \n",
              "4                         12.958968  "
            ],
            "text/html": [
              "\n",
              "  <div id=\"df-53a1f6bd-96ab-4c25-9a90-731e98ad0a88\">\n",
              "    <div class=\"colab-df-container\">\n",
              "      <div>\n",
              "<style scoped>\n",
              "    .dataframe tbody tr th:only-of-type {\n",
              "        vertical-align: middle;\n",
              "    }\n",
              "\n",
              "    .dataframe tbody tr th {\n",
              "        vertical-align: top;\n",
              "    }\n",
              "\n",
              "    .dataframe thead th {\n",
              "        text-align: right;\n",
              "    }\n",
              "</style>\n",
              "<table border=\"1\" class=\"dataframe\">\n",
              "  <thead>\n",
              "    <tr style=\"text-align: right;\">\n",
              "      <th></th>\n",
              "      <th>Row Labels</th>\n",
              "      <th>Average of Rainfall (mm)</th>\n",
              "      <th>Average of temp_min (â°C)</th>\n",
              "      <th>Average of temp_max (â°C)</th>\n",
              "      <th>Average of humidity_min (%)</th>\n",
              "      <th>Average of Humidity_max (%)</th>\n",
              "      <th>Average of wind_speed_min (Kmph)</th>\n",
              "      <th>Average of wind_speed_max (Kmph)</th>\n",
              "    </tr>\n",
              "  </thead>\n",
              "  <tbody>\n",
              "    <tr>\n",
              "      <th>0</th>\n",
              "      <td>Jan-18</td>\n",
              "      <td>0.000000</td>\n",
              "      <td>14.287097</td>\n",
              "      <td>31.402890</td>\n",
              "      <td>30.324516</td>\n",
              "      <td>84.905935</td>\n",
              "      <td>0.005290</td>\n",
              "      <td>6.776129</td>\n",
              "    </tr>\n",
              "    <tr>\n",
              "      <th>1</th>\n",
              "      <td>Feb-18</td>\n",
              "      <td>0.001286</td>\n",
              "      <td>17.089429</td>\n",
              "      <td>33.261714</td>\n",
              "      <td>30.573571</td>\n",
              "      <td>79.324857</td>\n",
              "      <td>0.052143</td>\n",
              "      <td>8.915286</td>\n",
              "    </tr>\n",
              "    <tr>\n",
              "      <th>2</th>\n",
              "      <td>Mar-18</td>\n",
              "      <td>0.111871</td>\n",
              "      <td>20.760000</td>\n",
              "      <td>36.514839</td>\n",
              "      <td>26.089161</td>\n",
              "      <td>75.852903</td>\n",
              "      <td>0.022968</td>\n",
              "      <td>9.071097</td>\n",
              "    </tr>\n",
              "    <tr>\n",
              "      <th>3</th>\n",
              "      <td>Apr-18</td>\n",
              "      <td>0.648667</td>\n",
              "      <td>24.605467</td>\n",
              "      <td>38.782267</td>\n",
              "      <td>29.902533</td>\n",
              "      <td>80.247733</td>\n",
              "      <td>0.085944</td>\n",
              "      <td>11.694913</td>\n",
              "    </tr>\n",
              "    <tr>\n",
              "      <th>4</th>\n",
              "      <td>May-18</td>\n",
              "      <td>1.001161</td>\n",
              "      <td>27.311484</td>\n",
              "      <td>41.866839</td>\n",
              "      <td>24.386065</td>\n",
              "      <td>71.036645</td>\n",
              "      <td>0.270968</td>\n",
              "      <td>12.958968</td>\n",
              "    </tr>\n",
              "  </tbody>\n",
              "</table>\n",
              "</div>\n",
              "      <button class=\"colab-df-convert\" onclick=\"convertToInteractive('df-53a1f6bd-96ab-4c25-9a90-731e98ad0a88')\"\n",
              "              title=\"Convert this dataframe to an interactive table.\"\n",
              "              style=\"display:none;\">\n",
              "        \n",
              "  <svg xmlns=\"http://www.w3.org/2000/svg\" height=\"24px\"viewBox=\"0 0 24 24\"\n",
              "       width=\"24px\">\n",
              "    <path d=\"M0 0h24v24H0V0z\" fill=\"none\"/>\n",
              "    <path d=\"M18.56 5.44l.94 2.06.94-2.06 2.06-.94-2.06-.94-.94-2.06-.94 2.06-2.06.94zm-11 1L8.5 8.5l.94-2.06 2.06-.94-2.06-.94L8.5 2.5l-.94 2.06-2.06.94zm10 10l.94 2.06.94-2.06 2.06-.94-2.06-.94-.94-2.06-.94 2.06-2.06.94z\"/><path d=\"M17.41 7.96l-1.37-1.37c-.4-.4-.92-.59-1.43-.59-.52 0-1.04.2-1.43.59L10.3 9.45l-7.72 7.72c-.78.78-.78 2.05 0 2.83L4 21.41c.39.39.9.59 1.41.59.51 0 1.02-.2 1.41-.59l7.78-7.78 2.81-2.81c.8-.78.8-2.07 0-2.86zM5.41 20L4 18.59l7.72-7.72 1.47 1.35L5.41 20z\"/>\n",
              "  </svg>\n",
              "      </button>\n",
              "      \n",
              "  <style>\n",
              "    .colab-df-container {\n",
              "      display:flex;\n",
              "      flex-wrap:wrap;\n",
              "      gap: 12px;\n",
              "    }\n",
              "\n",
              "    .colab-df-convert {\n",
              "      background-color: #E8F0FE;\n",
              "      border: none;\n",
              "      border-radius: 50%;\n",
              "      cursor: pointer;\n",
              "      display: none;\n",
              "      fill: #1967D2;\n",
              "      height: 32px;\n",
              "      padding: 0 0 0 0;\n",
              "      width: 32px;\n",
              "    }\n",
              "\n",
              "    .colab-df-convert:hover {\n",
              "      background-color: #E2EBFA;\n",
              "      box-shadow: 0px 1px 2px rgba(60, 64, 67, 0.3), 0px 1px 3px 1px rgba(60, 64, 67, 0.15);\n",
              "      fill: #174EA6;\n",
              "    }\n",
              "\n",
              "    [theme=dark] .colab-df-convert {\n",
              "      background-color: #3B4455;\n",
              "      fill: #D2E3FC;\n",
              "    }\n",
              "\n",
              "    [theme=dark] .colab-df-convert:hover {\n",
              "      background-color: #434B5C;\n",
              "      box-shadow: 0px 1px 3px 1px rgba(0, 0, 0, 0.15);\n",
              "      filter: drop-shadow(0px 1px 2px rgba(0, 0, 0, 0.3));\n",
              "      fill: #FFFFFF;\n",
              "    }\n",
              "  </style>\n",
              "\n",
              "      <script>\n",
              "        const buttonEl =\n",
              "          document.querySelector('#df-53a1f6bd-96ab-4c25-9a90-731e98ad0a88 button.colab-df-convert');\n",
              "        buttonEl.style.display =\n",
              "          google.colab.kernel.accessAllowed ? 'block' : 'none';\n",
              "\n",
              "        async function convertToInteractive(key) {\n",
              "          const element = document.querySelector('#df-53a1f6bd-96ab-4c25-9a90-731e98ad0a88');\n",
              "          const dataTable =\n",
              "            await google.colab.kernel.invokeFunction('convertToInteractive',\n",
              "                                                     [key], {});\n",
              "          if (!dataTable) return;\n",
              "\n",
              "          const docLinkHtml = 'Like what you see? Visit the ' +\n",
              "            '<a target=\"_blank\" href=https://colab.research.google.com/notebooks/data_table.ipynb>data table notebook</a>'\n",
              "            + ' to learn more about interactive tables.';\n",
              "          element.innerHTML = '';\n",
              "          dataTable['output_type'] = 'display_data';\n",
              "          await google.colab.output.renderOutput(dataTable, element);\n",
              "          const docLink = document.createElement('div');\n",
              "          docLink.innerHTML = docLinkHtml;\n",
              "          element.appendChild(docLink);\n",
              "        }\n",
              "      </script>\n",
              "    </div>\n",
              "  </div>\n",
              "  "
            ]
          },
          "metadata": {},
          "execution_count": 3
        }
      ],
      "source": [
        "df=pd.read_csv(\"/content/drive/MyDrive/karimnagar.csv\")\n",
        "df.head()"
      ]
    },
    {
      "cell_type": "code",
      "execution_count": null,
      "metadata": {
        "colab": {
          "base_uri": "https://localhost:8080/"
        },
        "id": "QsUGq2vjpahM",
        "outputId": "b95d85f1-7afc-4943-a4e5-9e10b7b8ecb5"
      },
      "outputs": [
        {
          "output_type": "stream",
          "name": "stdout",
          "text": [
            "<class 'pandas.core.frame.DataFrame'>\n",
            "RangeIndex: 57 entries, 0 to 56\n",
            "Data columns (total 8 columns):\n",
            " #   Column                            Non-Null Count  Dtype  \n",
            "---  ------                            --------------  -----  \n",
            " 0   Row Labels                        57 non-null     object \n",
            " 1   Average of Rainfall (mm)          57 non-null     float64\n",
            " 2   Average of temp_min (â°C)        57 non-null     float64\n",
            " 3   Average of temp_max (â°C)        57 non-null     float64\n",
            " 4   Average of humidity_min (%)       57 non-null     float64\n",
            " 5   Average of Humidity_max (%)       57 non-null     float64\n",
            " 6   Average of wind_speed_min (Kmph)  52 non-null     float64\n",
            " 7   Average of wind_speed_max (Kmph)  54 non-null     float64\n",
            "dtypes: float64(7), object(1)\n",
            "memory usage: 3.7+ KB\n"
          ]
        }
      ],
      "source": [
        "df.info()"
      ]
    },
    {
      "cell_type": "code",
      "execution_count": null,
      "metadata": {
        "id": "cYaEWFk8onMa"
      },
      "outputs": [],
      "source": [
        "df['Average of wind_speed_min (Kmph)'].fillna(value=df['Average of wind_speed_min (Kmph)'].mean(), inplace=True)"
      ]
    },
    {
      "cell_type": "code",
      "execution_count": null,
      "metadata": {
        "id": "AaoznkpFomOc"
      },
      "outputs": [],
      "source": [
        "df['Average of wind_speed_max (Kmph)'].fillna(value=df['Average of wind_speed_max (Kmph)'].mean(), inplace=True)"
      ]
    },
    {
      "cell_type": "code",
      "execution_count": null,
      "metadata": {
        "colab": {
          "base_uri": "https://localhost:8080/"
        },
        "id": "kEj__aH8qAzc",
        "outputId": "c5d1a64e-f447-4062-86e0-c51a104f733f",
        "scrolled": true
      },
      "outputs": [
        {
          "output_type": "stream",
          "name": "stdout",
          "text": [
            "<class 'pandas.core.frame.DataFrame'>\n",
            "RangeIndex: 57 entries, 0 to 56\n",
            "Data columns (total 8 columns):\n",
            " #   Column                            Non-Null Count  Dtype  \n",
            "---  ------                            --------------  -----  \n",
            " 0   Row Labels                        57 non-null     object \n",
            " 1   Average of Rainfall (mm)          57 non-null     float64\n",
            " 2   Average of temp_min (â°C)        57 non-null     float64\n",
            " 3   Average of temp_max (â°C)        57 non-null     float64\n",
            " 4   Average of humidity_min (%)       57 non-null     float64\n",
            " 5   Average of Humidity_max (%)       57 non-null     float64\n",
            " 6   Average of wind_speed_min (Kmph)  57 non-null     float64\n",
            " 7   Average of wind_speed_max (Kmph)  57 non-null     float64\n",
            "dtypes: float64(7), object(1)\n",
            "memory usage: 3.7+ KB\n"
          ]
        }
      ],
      "source": [
        "df.info()"
      ]
    },
    {
      "cell_type": "code",
      "execution_count": null,
      "metadata": {
        "colab": {
          "base_uri": "https://localhost:8080/"
        },
        "id": "6ID3_OAlOAxj",
        "outputId": "c0b538b7-a8ac-4010-96b0-30729db350f9"
      },
      "outputs": [
        {
          "name": "stdout",
          "output_type": "stream",
          "text": [
            "enter the month you want to predict in 3-letter format(Jan): Dec\n"
          ]
        }
      ],
      "source": [
        "month=input(\"enter the month you want to predict in 3-letter format(Jan): \")"
      ]
    },
    {
      "cell_type": "code",
      "execution_count": null,
      "metadata": {
        "colab": {
          "base_uri": "https://localhost:8080/"
        },
        "id": "b6iZfowpOAxk",
        "outputId": "7232441e-77d0-4821-ab4e-4f70257a1b3a"
      },
      "outputs": [
        {
          "output_type": "stream",
          "name": "stdout",
          "text": [
            "   Row Labels  Average of Rainfall (mm)  Average of temp_min (â°C)  \\\n",
            "11     Dec-18                  0.603498                   17.510736   \n",
            "23     Dec-19                  0.065524                   17.956687   \n",
            "35     Dec-20                  0.000000                   15.609677   \n",
            "47     Dec-21                  0.000000                   16.716532   \n",
            "\n",
            "    Average of temp_max (â°C)  Average of humidity_min (%)  \\\n",
            "11                   29.805790                    47.917129   \n",
            "23                   29.564247                    50.312669   \n",
            "35                   30.544960                    35.362702   \n",
            "47                   30.629435                    41.335282   \n",
            "\n",
            "    Average of Humidity_max (%)  Average of wind_speed_min (Kmph)  \\\n",
            "11                    92.626900                          0.083836   \n",
            "23                     6.950403                          0.008871   \n",
            "35                    92.095565                          6.721573   \n",
            "47                    94.742540                          0.008871   \n",
            "\n",
            "    Average of wind_speed_max (Kmph)  \n",
            "11                          6.653317  \n",
            "23                         95.931032  \n",
            "35                          0.001008  \n",
            "47                          5.885282  \n"
          ]
        }
      ],
      "source": [
        "df1=pd.DataFrame()\n",
        "for index, row in df.iterrows():\n",
        "    if month in row['Row Labels'] :\n",
        "        df1 = df1.append(row)\n",
        "print(df1)"
      ]
    },
    {
      "cell_type": "code",
      "execution_count": null,
      "metadata": {
        "colab": {
          "base_uri": "https://localhost:8080/",
          "height": 253
        },
        "id": "1ao6Erzohb4p",
        "outputId": "b243ab74-08e2-4fac-b0ae-672c0dd34722"
      },
      "outputs": [
        {
          "output_type": "execute_result",
          "data": {
            "text/plain": [
              "   Row Labels  Average of Rainfall (mm)  Average of temp_min (â°C)  \\\n",
              "11     Dec-18                  0.603498                   17.510736   \n",
              "23     Dec-19                  0.065524                   17.956687   \n",
              "35     Dec-20                  0.000000                   15.609677   \n",
              "47     Dec-21                  0.000000                   16.716532   \n",
              "\n",
              "    Average of temp_max (â°C)  Average of humidity_min (%)  \\\n",
              "11                   29.805790                    47.917129   \n",
              "23                   29.564247                    50.312669   \n",
              "35                   30.544960                    35.362702   \n",
              "47                   30.629435                    41.335282   \n",
              "\n",
              "    Average of Humidity_max (%)  Average of wind_speed_min (Kmph)  \\\n",
              "11                    92.626900                          0.083836   \n",
              "23                     6.950403                          0.008871   \n",
              "35                    92.095565                          6.721573   \n",
              "47                    94.742540                          0.008871   \n",
              "\n",
              "    Average of wind_speed_max (Kmph)     target  \n",
              "11                          6.653317  29.564247  \n",
              "23                         95.931032  30.544960  \n",
              "35                          0.001008  30.629435  \n",
              "47                          5.885282        NaN  "
            ],
            "text/html": [
              "\n",
              "  <div id=\"df-7512f39b-9b5d-4ed4-a797-112acd43e27a\">\n",
              "    <div class=\"colab-df-container\">\n",
              "      <div>\n",
              "<style scoped>\n",
              "    .dataframe tbody tr th:only-of-type {\n",
              "        vertical-align: middle;\n",
              "    }\n",
              "\n",
              "    .dataframe tbody tr th {\n",
              "        vertical-align: top;\n",
              "    }\n",
              "\n",
              "    .dataframe thead th {\n",
              "        text-align: right;\n",
              "    }\n",
              "</style>\n",
              "<table border=\"1\" class=\"dataframe\">\n",
              "  <thead>\n",
              "    <tr style=\"text-align: right;\">\n",
              "      <th></th>\n",
              "      <th>Row Labels</th>\n",
              "      <th>Average of Rainfall (mm)</th>\n",
              "      <th>Average of temp_min (â°C)</th>\n",
              "      <th>Average of temp_max (â°C)</th>\n",
              "      <th>Average of humidity_min (%)</th>\n",
              "      <th>Average of Humidity_max (%)</th>\n",
              "      <th>Average of wind_speed_min (Kmph)</th>\n",
              "      <th>Average of wind_speed_max (Kmph)</th>\n",
              "      <th>target</th>\n",
              "    </tr>\n",
              "  </thead>\n",
              "  <tbody>\n",
              "    <tr>\n",
              "      <th>11</th>\n",
              "      <td>Dec-18</td>\n",
              "      <td>0.603498</td>\n",
              "      <td>17.510736</td>\n",
              "      <td>29.805790</td>\n",
              "      <td>47.917129</td>\n",
              "      <td>92.626900</td>\n",
              "      <td>0.083836</td>\n",
              "      <td>6.653317</td>\n",
              "      <td>29.564247</td>\n",
              "    </tr>\n",
              "    <tr>\n",
              "      <th>23</th>\n",
              "      <td>Dec-19</td>\n",
              "      <td>0.065524</td>\n",
              "      <td>17.956687</td>\n",
              "      <td>29.564247</td>\n",
              "      <td>50.312669</td>\n",
              "      <td>6.950403</td>\n",
              "      <td>0.008871</td>\n",
              "      <td>95.931032</td>\n",
              "      <td>30.544960</td>\n",
              "    </tr>\n",
              "    <tr>\n",
              "      <th>35</th>\n",
              "      <td>Dec-20</td>\n",
              "      <td>0.000000</td>\n",
              "      <td>15.609677</td>\n",
              "      <td>30.544960</td>\n",
              "      <td>35.362702</td>\n",
              "      <td>92.095565</td>\n",
              "      <td>6.721573</td>\n",
              "      <td>0.001008</td>\n",
              "      <td>30.629435</td>\n",
              "    </tr>\n",
              "    <tr>\n",
              "      <th>47</th>\n",
              "      <td>Dec-21</td>\n",
              "      <td>0.000000</td>\n",
              "      <td>16.716532</td>\n",
              "      <td>30.629435</td>\n",
              "      <td>41.335282</td>\n",
              "      <td>94.742540</td>\n",
              "      <td>0.008871</td>\n",
              "      <td>5.885282</td>\n",
              "      <td>NaN</td>\n",
              "    </tr>\n",
              "  </tbody>\n",
              "</table>\n",
              "</div>\n",
              "      <button class=\"colab-df-convert\" onclick=\"convertToInteractive('df-7512f39b-9b5d-4ed4-a797-112acd43e27a')\"\n",
              "              title=\"Convert this dataframe to an interactive table.\"\n",
              "              style=\"display:none;\">\n",
              "        \n",
              "  <svg xmlns=\"http://www.w3.org/2000/svg\" height=\"24px\"viewBox=\"0 0 24 24\"\n",
              "       width=\"24px\">\n",
              "    <path d=\"M0 0h24v24H0V0z\" fill=\"none\"/>\n",
              "    <path d=\"M18.56 5.44l.94 2.06.94-2.06 2.06-.94-2.06-.94-.94-2.06-.94 2.06-2.06.94zm-11 1L8.5 8.5l.94-2.06 2.06-.94-2.06-.94L8.5 2.5l-.94 2.06-2.06.94zm10 10l.94 2.06.94-2.06 2.06-.94-2.06-.94-.94-2.06-.94 2.06-2.06.94z\"/><path d=\"M17.41 7.96l-1.37-1.37c-.4-.4-.92-.59-1.43-.59-.52 0-1.04.2-1.43.59L10.3 9.45l-7.72 7.72c-.78.78-.78 2.05 0 2.83L4 21.41c.39.39.9.59 1.41.59.51 0 1.02-.2 1.41-.59l7.78-7.78 2.81-2.81c.8-.78.8-2.07 0-2.86zM5.41 20L4 18.59l7.72-7.72 1.47 1.35L5.41 20z\"/>\n",
              "  </svg>\n",
              "      </button>\n",
              "      \n",
              "  <style>\n",
              "    .colab-df-container {\n",
              "      display:flex;\n",
              "      flex-wrap:wrap;\n",
              "      gap: 12px;\n",
              "    }\n",
              "\n",
              "    .colab-df-convert {\n",
              "      background-color: #E8F0FE;\n",
              "      border: none;\n",
              "      border-radius: 50%;\n",
              "      cursor: pointer;\n",
              "      display: none;\n",
              "      fill: #1967D2;\n",
              "      height: 32px;\n",
              "      padding: 0 0 0 0;\n",
              "      width: 32px;\n",
              "    }\n",
              "\n",
              "    .colab-df-convert:hover {\n",
              "      background-color: #E2EBFA;\n",
              "      box-shadow: 0px 1px 2px rgba(60, 64, 67, 0.3), 0px 1px 3px 1px rgba(60, 64, 67, 0.15);\n",
              "      fill: #174EA6;\n",
              "    }\n",
              "\n",
              "    [theme=dark] .colab-df-convert {\n",
              "      background-color: #3B4455;\n",
              "      fill: #D2E3FC;\n",
              "    }\n",
              "\n",
              "    [theme=dark] .colab-df-convert:hover {\n",
              "      background-color: #434B5C;\n",
              "      box-shadow: 0px 1px 3px 1px rgba(0, 0, 0, 0.15);\n",
              "      filter: drop-shadow(0px 1px 2px rgba(0, 0, 0, 0.3));\n",
              "      fill: #FFFFFF;\n",
              "    }\n",
              "  </style>\n",
              "\n",
              "      <script>\n",
              "        const buttonEl =\n",
              "          document.querySelector('#df-7512f39b-9b5d-4ed4-a797-112acd43e27a button.colab-df-convert');\n",
              "        buttonEl.style.display =\n",
              "          google.colab.kernel.accessAllowed ? 'block' : 'none';\n",
              "\n",
              "        async function convertToInteractive(key) {\n",
              "          const element = document.querySelector('#df-7512f39b-9b5d-4ed4-a797-112acd43e27a');\n",
              "          const dataTable =\n",
              "            await google.colab.kernel.invokeFunction('convertToInteractive',\n",
              "                                                     [key], {});\n",
              "          if (!dataTable) return;\n",
              "\n",
              "          const docLinkHtml = 'Like what you see? Visit the ' +\n",
              "            '<a target=\"_blank\" href=https://colab.research.google.com/notebooks/data_table.ipynb>data table notebook</a>'\n",
              "            + ' to learn more about interactive tables.';\n",
              "          element.innerHTML = '';\n",
              "          dataTable['output_type'] = 'display_data';\n",
              "          await google.colab.output.renderOutput(dataTable, element);\n",
              "          const docLink = document.createElement('div');\n",
              "          docLink.innerHTML = docLinkHtml;\n",
              "          element.appendChild(docLink);\n",
              "        }\n",
              "      </script>\n",
              "    </div>\n",
              "  </div>\n",
              "  "
            ]
          },
          "metadata": {},
          "execution_count": 244
        }
      ],
      "source": [
        "df1[\"target\"]=df1.shift(-1)[\"Average of temp_max (â°C)\"]\n",
        "df1"
      ]
    },
    {
      "cell_type": "code",
      "execution_count": null,
      "metadata": {
        "colab": {
          "base_uri": "https://localhost:8080/"
        },
        "id": "GdkPlwqAOAxl",
        "outputId": "bc71c268-a9c8-48a8-898d-b414c70a2381"
      },
      "outputs": [
        {
          "output_type": "stream",
          "name": "stderr",
          "text": [
            "/usr/local/lib/python3.8/dist-packages/pandas/core/frame.py:4906: SettingWithCopyWarning: \n",
            "A value is trying to be set on a copy of a slice from a DataFrame\n",
            "\n",
            "See the caveats in the documentation: https://pandas.pydata.org/pandas-docs/stable/user_guide/indexing.html#returning-a-view-versus-a-copy\n",
            "  return super().drop(\n"
          ]
        }
      ],
      "source": [
        "df2=df1.tail(1)\n",
        "df2.drop(['Row Labels','target'],axis=1,inplace=True)"
      ]
    },
    {
      "cell_type": "code",
      "execution_count": null,
      "metadata": {
        "colab": {
          "base_uri": "https://localhost:8080/",
          "height": 142
        },
        "id": "HXXgO3k1OAxl",
        "outputId": "0b549c7c-0dbf-43e6-db3f-d0016a8c80bc"
      },
      "outputs": [
        {
          "output_type": "execute_result",
          "data": {
            "text/plain": [
              "    Average of Rainfall (mm)  Average of temp_min (â°C)  \\\n",
              "47                       0.0                   16.716532   \n",
              "\n",
              "    Average of temp_max (â°C)  Average of humidity_min (%)  \\\n",
              "47                   30.629435                    41.335282   \n",
              "\n",
              "    Average of Humidity_max (%)  Average of wind_speed_min (Kmph)  \\\n",
              "47                     94.74254                          0.008871   \n",
              "\n",
              "    Average of wind_speed_max (Kmph)  \n",
              "47                          5.885282  "
            ],
            "text/html": [
              "\n",
              "  <div id=\"df-4d435b37-1d9c-443b-a270-289e0acfcd25\">\n",
              "    <div class=\"colab-df-container\">\n",
              "      <div>\n",
              "<style scoped>\n",
              "    .dataframe tbody tr th:only-of-type {\n",
              "        vertical-align: middle;\n",
              "    }\n",
              "\n",
              "    .dataframe tbody tr th {\n",
              "        vertical-align: top;\n",
              "    }\n",
              "\n",
              "    .dataframe thead th {\n",
              "        text-align: right;\n",
              "    }\n",
              "</style>\n",
              "<table border=\"1\" class=\"dataframe\">\n",
              "  <thead>\n",
              "    <tr style=\"text-align: right;\">\n",
              "      <th></th>\n",
              "      <th>Average of Rainfall (mm)</th>\n",
              "      <th>Average of temp_min (â°C)</th>\n",
              "      <th>Average of temp_max (â°C)</th>\n",
              "      <th>Average of humidity_min (%)</th>\n",
              "      <th>Average of Humidity_max (%)</th>\n",
              "      <th>Average of wind_speed_min (Kmph)</th>\n",
              "      <th>Average of wind_speed_max (Kmph)</th>\n",
              "    </tr>\n",
              "  </thead>\n",
              "  <tbody>\n",
              "    <tr>\n",
              "      <th>47</th>\n",
              "      <td>0.0</td>\n",
              "      <td>16.716532</td>\n",
              "      <td>30.629435</td>\n",
              "      <td>41.335282</td>\n",
              "      <td>94.74254</td>\n",
              "      <td>0.008871</td>\n",
              "      <td>5.885282</td>\n",
              "    </tr>\n",
              "  </tbody>\n",
              "</table>\n",
              "</div>\n",
              "      <button class=\"colab-df-convert\" onclick=\"convertToInteractive('df-4d435b37-1d9c-443b-a270-289e0acfcd25')\"\n",
              "              title=\"Convert this dataframe to an interactive table.\"\n",
              "              style=\"display:none;\">\n",
              "        \n",
              "  <svg xmlns=\"http://www.w3.org/2000/svg\" height=\"24px\"viewBox=\"0 0 24 24\"\n",
              "       width=\"24px\">\n",
              "    <path d=\"M0 0h24v24H0V0z\" fill=\"none\"/>\n",
              "    <path d=\"M18.56 5.44l.94 2.06.94-2.06 2.06-.94-2.06-.94-.94-2.06-.94 2.06-2.06.94zm-11 1L8.5 8.5l.94-2.06 2.06-.94-2.06-.94L8.5 2.5l-.94 2.06-2.06.94zm10 10l.94 2.06.94-2.06 2.06-.94-2.06-.94-.94-2.06-.94 2.06-2.06.94z\"/><path d=\"M17.41 7.96l-1.37-1.37c-.4-.4-.92-.59-1.43-.59-.52 0-1.04.2-1.43.59L10.3 9.45l-7.72 7.72c-.78.78-.78 2.05 0 2.83L4 21.41c.39.39.9.59 1.41.59.51 0 1.02-.2 1.41-.59l7.78-7.78 2.81-2.81c.8-.78.8-2.07 0-2.86zM5.41 20L4 18.59l7.72-7.72 1.47 1.35L5.41 20z\"/>\n",
              "  </svg>\n",
              "      </button>\n",
              "      \n",
              "  <style>\n",
              "    .colab-df-container {\n",
              "      display:flex;\n",
              "      flex-wrap:wrap;\n",
              "      gap: 12px;\n",
              "    }\n",
              "\n",
              "    .colab-df-convert {\n",
              "      background-color: #E8F0FE;\n",
              "      border: none;\n",
              "      border-radius: 50%;\n",
              "      cursor: pointer;\n",
              "      display: none;\n",
              "      fill: #1967D2;\n",
              "      height: 32px;\n",
              "      padding: 0 0 0 0;\n",
              "      width: 32px;\n",
              "    }\n",
              "\n",
              "    .colab-df-convert:hover {\n",
              "      background-color: #E2EBFA;\n",
              "      box-shadow: 0px 1px 2px rgba(60, 64, 67, 0.3), 0px 1px 3px 1px rgba(60, 64, 67, 0.15);\n",
              "      fill: #174EA6;\n",
              "    }\n",
              "\n",
              "    [theme=dark] .colab-df-convert {\n",
              "      background-color: #3B4455;\n",
              "      fill: #D2E3FC;\n",
              "    }\n",
              "\n",
              "    [theme=dark] .colab-df-convert:hover {\n",
              "      background-color: #434B5C;\n",
              "      box-shadow: 0px 1px 3px 1px rgba(0, 0, 0, 0.15);\n",
              "      filter: drop-shadow(0px 1px 2px rgba(0, 0, 0, 0.3));\n",
              "      fill: #FFFFFF;\n",
              "    }\n",
              "  </style>\n",
              "\n",
              "      <script>\n",
              "        const buttonEl =\n",
              "          document.querySelector('#df-4d435b37-1d9c-443b-a270-289e0acfcd25 button.colab-df-convert');\n",
              "        buttonEl.style.display =\n",
              "          google.colab.kernel.accessAllowed ? 'block' : 'none';\n",
              "\n",
              "        async function convertToInteractive(key) {\n",
              "          const element = document.querySelector('#df-4d435b37-1d9c-443b-a270-289e0acfcd25');\n",
              "          const dataTable =\n",
              "            await google.colab.kernel.invokeFunction('convertToInteractive',\n",
              "                                                     [key], {});\n",
              "          if (!dataTable) return;\n",
              "\n",
              "          const docLinkHtml = 'Like what you see? Visit the ' +\n",
              "            '<a target=\"_blank\" href=https://colab.research.google.com/notebooks/data_table.ipynb>data table notebook</a>'\n",
              "            + ' to learn more about interactive tables.';\n",
              "          element.innerHTML = '';\n",
              "          dataTable['output_type'] = 'display_data';\n",
              "          await google.colab.output.renderOutput(dataTable, element);\n",
              "          const docLink = document.createElement('div');\n",
              "          docLink.innerHTML = docLinkHtml;\n",
              "          element.appendChild(docLink);\n",
              "        }\n",
              "      </script>\n",
              "    </div>\n",
              "  </div>\n",
              "  "
            ]
          },
          "metadata": {},
          "execution_count": 246
        }
      ],
      "source": [
        "df2"
      ]
    },
    {
      "cell_type": "code",
      "execution_count": null,
      "metadata": {
        "colab": {
          "base_uri": "https://localhost:8080/"
        },
        "id": "uRWbKNffOAxm",
        "outputId": "53c6e201-695d-447c-eea9-9143aae28050"
      },
      "outputs": [
        {
          "output_type": "execute_result",
          "data": {
            "text/plain": [
              "array([[0.00000000e+00, 1.67165323e+01, 3.06294355e+01, 4.13352823e+01,\n",
              "        9.47425403e+01, 8.87096800e-03, 5.88528226e+00]])"
            ]
          },
          "metadata": {},
          "execution_count": 247
        }
      ],
      "source": [
        "x=np.array(df2)\n",
        "x"
      ]
    },
    {
      "cell_type": "code",
      "execution_count": null,
      "metadata": {
        "colab": {
          "base_uri": "https://localhost:8080/",
          "height": 222
        },
        "id": "o89WbeYJWRWI",
        "outputId": "02a242cf-dec2-4bc5-9597-6b816bdf68c8"
      },
      "outputs": [
        {
          "output_type": "execute_result",
          "data": {
            "text/plain": [
              "   Row Labels  Average of Rainfall (mm)  Average of temp_min (â°C)  \\\n",
              "11     Dec-18                  0.603498                   17.510736   \n",
              "23     Dec-19                  0.065524                   17.956687   \n",
              "35     Dec-20                  0.000000                   15.609677   \n",
              "\n",
              "    Average of temp_max (â°C)  Average of humidity_min (%)  \\\n",
              "11                   29.805790                    47.917129   \n",
              "23                   29.564247                    50.312669   \n",
              "35                   30.544960                    35.362702   \n",
              "\n",
              "    Average of Humidity_max (%)  Average of wind_speed_min (Kmph)  \\\n",
              "11                    92.626900                          0.083836   \n",
              "23                     6.950403                          0.008871   \n",
              "35                    92.095565                          6.721573   \n",
              "\n",
              "    Average of wind_speed_max (Kmph)     target  \n",
              "11                          6.653317  29.564247  \n",
              "23                         95.931032  30.544960  \n",
              "35                          0.001008  30.629435  "
            ],
            "text/html": [
              "\n",
              "  <div id=\"df-22a041b9-c80f-436d-b404-5b6e1214398d\">\n",
              "    <div class=\"colab-df-container\">\n",
              "      <div>\n",
              "<style scoped>\n",
              "    .dataframe tbody tr th:only-of-type {\n",
              "        vertical-align: middle;\n",
              "    }\n",
              "\n",
              "    .dataframe tbody tr th {\n",
              "        vertical-align: top;\n",
              "    }\n",
              "\n",
              "    .dataframe thead th {\n",
              "        text-align: right;\n",
              "    }\n",
              "</style>\n",
              "<table border=\"1\" class=\"dataframe\">\n",
              "  <thead>\n",
              "    <tr style=\"text-align: right;\">\n",
              "      <th></th>\n",
              "      <th>Row Labels</th>\n",
              "      <th>Average of Rainfall (mm)</th>\n",
              "      <th>Average of temp_min (â°C)</th>\n",
              "      <th>Average of temp_max (â°C)</th>\n",
              "      <th>Average of humidity_min (%)</th>\n",
              "      <th>Average of Humidity_max (%)</th>\n",
              "      <th>Average of wind_speed_min (Kmph)</th>\n",
              "      <th>Average of wind_speed_max (Kmph)</th>\n",
              "      <th>target</th>\n",
              "    </tr>\n",
              "  </thead>\n",
              "  <tbody>\n",
              "    <tr>\n",
              "      <th>11</th>\n",
              "      <td>Dec-18</td>\n",
              "      <td>0.603498</td>\n",
              "      <td>17.510736</td>\n",
              "      <td>29.805790</td>\n",
              "      <td>47.917129</td>\n",
              "      <td>92.626900</td>\n",
              "      <td>0.083836</td>\n",
              "      <td>6.653317</td>\n",
              "      <td>29.564247</td>\n",
              "    </tr>\n",
              "    <tr>\n",
              "      <th>23</th>\n",
              "      <td>Dec-19</td>\n",
              "      <td>0.065524</td>\n",
              "      <td>17.956687</td>\n",
              "      <td>29.564247</td>\n",
              "      <td>50.312669</td>\n",
              "      <td>6.950403</td>\n",
              "      <td>0.008871</td>\n",
              "      <td>95.931032</td>\n",
              "      <td>30.544960</td>\n",
              "    </tr>\n",
              "    <tr>\n",
              "      <th>35</th>\n",
              "      <td>Dec-20</td>\n",
              "      <td>0.000000</td>\n",
              "      <td>15.609677</td>\n",
              "      <td>30.544960</td>\n",
              "      <td>35.362702</td>\n",
              "      <td>92.095565</td>\n",
              "      <td>6.721573</td>\n",
              "      <td>0.001008</td>\n",
              "      <td>30.629435</td>\n",
              "    </tr>\n",
              "  </tbody>\n",
              "</table>\n",
              "</div>\n",
              "      <button class=\"colab-df-convert\" onclick=\"convertToInteractive('df-22a041b9-c80f-436d-b404-5b6e1214398d')\"\n",
              "              title=\"Convert this dataframe to an interactive table.\"\n",
              "              style=\"display:none;\">\n",
              "        \n",
              "  <svg xmlns=\"http://www.w3.org/2000/svg\" height=\"24px\"viewBox=\"0 0 24 24\"\n",
              "       width=\"24px\">\n",
              "    <path d=\"M0 0h24v24H0V0z\" fill=\"none\"/>\n",
              "    <path d=\"M18.56 5.44l.94 2.06.94-2.06 2.06-.94-2.06-.94-.94-2.06-.94 2.06-2.06.94zm-11 1L8.5 8.5l.94-2.06 2.06-.94-2.06-.94L8.5 2.5l-.94 2.06-2.06.94zm10 10l.94 2.06.94-2.06 2.06-.94-2.06-.94-.94-2.06-.94 2.06-2.06.94z\"/><path d=\"M17.41 7.96l-1.37-1.37c-.4-.4-.92-.59-1.43-.59-.52 0-1.04.2-1.43.59L10.3 9.45l-7.72 7.72c-.78.78-.78 2.05 0 2.83L4 21.41c.39.39.9.59 1.41.59.51 0 1.02-.2 1.41-.59l7.78-7.78 2.81-2.81c.8-.78.8-2.07 0-2.86zM5.41 20L4 18.59l7.72-7.72 1.47 1.35L5.41 20z\"/>\n",
              "  </svg>\n",
              "      </button>\n",
              "      \n",
              "  <style>\n",
              "    .colab-df-container {\n",
              "      display:flex;\n",
              "      flex-wrap:wrap;\n",
              "      gap: 12px;\n",
              "    }\n",
              "\n",
              "    .colab-df-convert {\n",
              "      background-color: #E8F0FE;\n",
              "      border: none;\n",
              "      border-radius: 50%;\n",
              "      cursor: pointer;\n",
              "      display: none;\n",
              "      fill: #1967D2;\n",
              "      height: 32px;\n",
              "      padding: 0 0 0 0;\n",
              "      width: 32px;\n",
              "    }\n",
              "\n",
              "    .colab-df-convert:hover {\n",
              "      background-color: #E2EBFA;\n",
              "      box-shadow: 0px 1px 2px rgba(60, 64, 67, 0.3), 0px 1px 3px 1px rgba(60, 64, 67, 0.15);\n",
              "      fill: #174EA6;\n",
              "    }\n",
              "\n",
              "    [theme=dark] .colab-df-convert {\n",
              "      background-color: #3B4455;\n",
              "      fill: #D2E3FC;\n",
              "    }\n",
              "\n",
              "    [theme=dark] .colab-df-convert:hover {\n",
              "      background-color: #434B5C;\n",
              "      box-shadow: 0px 1px 3px 1px rgba(0, 0, 0, 0.15);\n",
              "      filter: drop-shadow(0px 1px 2px rgba(0, 0, 0, 0.3));\n",
              "      fill: #FFFFFF;\n",
              "    }\n",
              "  </style>\n",
              "\n",
              "      <script>\n",
              "        const buttonEl =\n",
              "          document.querySelector('#df-22a041b9-c80f-436d-b404-5b6e1214398d button.colab-df-convert');\n",
              "        buttonEl.style.display =\n",
              "          google.colab.kernel.accessAllowed ? 'block' : 'none';\n",
              "\n",
              "        async function convertToInteractive(key) {\n",
              "          const element = document.querySelector('#df-22a041b9-c80f-436d-b404-5b6e1214398d');\n",
              "          const dataTable =\n",
              "            await google.colab.kernel.invokeFunction('convertToInteractive',\n",
              "                                                     [key], {});\n",
              "          if (!dataTable) return;\n",
              "\n",
              "          const docLinkHtml = 'Like what you see? Visit the ' +\n",
              "            '<a target=\"_blank\" href=https://colab.research.google.com/notebooks/data_table.ipynb>data table notebook</a>'\n",
              "            + ' to learn more about interactive tables.';\n",
              "          element.innerHTML = '';\n",
              "          dataTable['output_type'] = 'display_data';\n",
              "          await google.colab.output.renderOutput(dataTable, element);\n",
              "          const docLink = document.createElement('div');\n",
              "          docLink.innerHTML = docLinkHtml;\n",
              "          element.appendChild(docLink);\n",
              "        }\n",
              "      </script>\n",
              "    </div>\n",
              "  </div>\n",
              "  "
            ]
          },
          "metadata": {},
          "execution_count": 248
        }
      ],
      "source": [
        "df1=df1[df1.target.notnull()]\n",
        "df1"
      ]
    },
    {
      "cell_type": "code",
      "execution_count": null,
      "metadata": {
        "colab": {
          "base_uri": "https://localhost:8080/",
          "height": 205
        },
        "id": "wOWR9TwzdUR0",
        "outputId": "b6219f71-a75a-4573-ba63-81034b07253b"
      },
      "outputs": [
        {
          "output_type": "execute_result",
          "data": {
            "text/plain": [
              "    Average of Rainfall (mm)  Average of temp_min (â°C)  \\\n",
              "11                  0.603498                   17.510736   \n",
              "23                  0.065524                   17.956687   \n",
              "35                  0.000000                   15.609677   \n",
              "\n",
              "    Average of temp_max (â°C)  Average of humidity_min (%)  \\\n",
              "11                   29.805790                    47.917129   \n",
              "23                   29.564247                    50.312669   \n",
              "35                   30.544960                    35.362702   \n",
              "\n",
              "    Average of Humidity_max (%)  Average of wind_speed_min (Kmph)  \\\n",
              "11                    92.626900                          0.083836   \n",
              "23                     6.950403                          0.008871   \n",
              "35                    92.095565                          6.721573   \n",
              "\n",
              "    Average of wind_speed_max (Kmph)  \n",
              "11                          6.653317  \n",
              "23                         95.931032  \n",
              "35                          0.001008  "
            ],
            "text/html": [
              "\n",
              "  <div id=\"df-67256633-d312-42a2-afe5-777a6b833241\">\n",
              "    <div class=\"colab-df-container\">\n",
              "      <div>\n",
              "<style scoped>\n",
              "    .dataframe tbody tr th:only-of-type {\n",
              "        vertical-align: middle;\n",
              "    }\n",
              "\n",
              "    .dataframe tbody tr th {\n",
              "        vertical-align: top;\n",
              "    }\n",
              "\n",
              "    .dataframe thead th {\n",
              "        text-align: right;\n",
              "    }\n",
              "</style>\n",
              "<table border=\"1\" class=\"dataframe\">\n",
              "  <thead>\n",
              "    <tr style=\"text-align: right;\">\n",
              "      <th></th>\n",
              "      <th>Average of Rainfall (mm)</th>\n",
              "      <th>Average of temp_min (â°C)</th>\n",
              "      <th>Average of temp_max (â°C)</th>\n",
              "      <th>Average of humidity_min (%)</th>\n",
              "      <th>Average of Humidity_max (%)</th>\n",
              "      <th>Average of wind_speed_min (Kmph)</th>\n",
              "      <th>Average of wind_speed_max (Kmph)</th>\n",
              "    </tr>\n",
              "  </thead>\n",
              "  <tbody>\n",
              "    <tr>\n",
              "      <th>11</th>\n",
              "      <td>0.603498</td>\n",
              "      <td>17.510736</td>\n",
              "      <td>29.805790</td>\n",
              "      <td>47.917129</td>\n",
              "      <td>92.626900</td>\n",
              "      <td>0.083836</td>\n",
              "      <td>6.653317</td>\n",
              "    </tr>\n",
              "    <tr>\n",
              "      <th>23</th>\n",
              "      <td>0.065524</td>\n",
              "      <td>17.956687</td>\n",
              "      <td>29.564247</td>\n",
              "      <td>50.312669</td>\n",
              "      <td>6.950403</td>\n",
              "      <td>0.008871</td>\n",
              "      <td>95.931032</td>\n",
              "    </tr>\n",
              "    <tr>\n",
              "      <th>35</th>\n",
              "      <td>0.000000</td>\n",
              "      <td>15.609677</td>\n",
              "      <td>30.544960</td>\n",
              "      <td>35.362702</td>\n",
              "      <td>92.095565</td>\n",
              "      <td>6.721573</td>\n",
              "      <td>0.001008</td>\n",
              "    </tr>\n",
              "  </tbody>\n",
              "</table>\n",
              "</div>\n",
              "      <button class=\"colab-df-convert\" onclick=\"convertToInteractive('df-67256633-d312-42a2-afe5-777a6b833241')\"\n",
              "              title=\"Convert this dataframe to an interactive table.\"\n",
              "              style=\"display:none;\">\n",
              "        \n",
              "  <svg xmlns=\"http://www.w3.org/2000/svg\" height=\"24px\"viewBox=\"0 0 24 24\"\n",
              "       width=\"24px\">\n",
              "    <path d=\"M0 0h24v24H0V0z\" fill=\"none\"/>\n",
              "    <path d=\"M18.56 5.44l.94 2.06.94-2.06 2.06-.94-2.06-.94-.94-2.06-.94 2.06-2.06.94zm-11 1L8.5 8.5l.94-2.06 2.06-.94-2.06-.94L8.5 2.5l-.94 2.06-2.06.94zm10 10l.94 2.06.94-2.06 2.06-.94-2.06-.94-.94-2.06-.94 2.06-2.06.94z\"/><path d=\"M17.41 7.96l-1.37-1.37c-.4-.4-.92-.59-1.43-.59-.52 0-1.04.2-1.43.59L10.3 9.45l-7.72 7.72c-.78.78-.78 2.05 0 2.83L4 21.41c.39.39.9.59 1.41.59.51 0 1.02-.2 1.41-.59l7.78-7.78 2.81-2.81c.8-.78.8-2.07 0-2.86zM5.41 20L4 18.59l7.72-7.72 1.47 1.35L5.41 20z\"/>\n",
              "  </svg>\n",
              "      </button>\n",
              "      \n",
              "  <style>\n",
              "    .colab-df-container {\n",
              "      display:flex;\n",
              "      flex-wrap:wrap;\n",
              "      gap: 12px;\n",
              "    }\n",
              "\n",
              "    .colab-df-convert {\n",
              "      background-color: #E8F0FE;\n",
              "      border: none;\n",
              "      border-radius: 50%;\n",
              "      cursor: pointer;\n",
              "      display: none;\n",
              "      fill: #1967D2;\n",
              "      height: 32px;\n",
              "      padding: 0 0 0 0;\n",
              "      width: 32px;\n",
              "    }\n",
              "\n",
              "    .colab-df-convert:hover {\n",
              "      background-color: #E2EBFA;\n",
              "      box-shadow: 0px 1px 2px rgba(60, 64, 67, 0.3), 0px 1px 3px 1px rgba(60, 64, 67, 0.15);\n",
              "      fill: #174EA6;\n",
              "    }\n",
              "\n",
              "    [theme=dark] .colab-df-convert {\n",
              "      background-color: #3B4455;\n",
              "      fill: #D2E3FC;\n",
              "    }\n",
              "\n",
              "    [theme=dark] .colab-df-convert:hover {\n",
              "      background-color: #434B5C;\n",
              "      box-shadow: 0px 1px 3px 1px rgba(0, 0, 0, 0.15);\n",
              "      filter: drop-shadow(0px 1px 2px rgba(0, 0, 0, 0.3));\n",
              "      fill: #FFFFFF;\n",
              "    }\n",
              "  </style>\n",
              "\n",
              "      <script>\n",
              "        const buttonEl =\n",
              "          document.querySelector('#df-67256633-d312-42a2-afe5-777a6b833241 button.colab-df-convert');\n",
              "        buttonEl.style.display =\n",
              "          google.colab.kernel.accessAllowed ? 'block' : 'none';\n",
              "\n",
              "        async function convertToInteractive(key) {\n",
              "          const element = document.querySelector('#df-67256633-d312-42a2-afe5-777a6b833241');\n",
              "          const dataTable =\n",
              "            await google.colab.kernel.invokeFunction('convertToInteractive',\n",
              "                                                     [key], {});\n",
              "          if (!dataTable) return;\n",
              "\n",
              "          const docLinkHtml = 'Like what you see? Visit the ' +\n",
              "            '<a target=\"_blank\" href=https://colab.research.google.com/notebooks/data_table.ipynb>data table notebook</a>'\n",
              "            + ' to learn more about interactive tables.';\n",
              "          element.innerHTML = '';\n",
              "          dataTable['output_type'] = 'display_data';\n",
              "          await google.colab.output.renderOutput(dataTable, element);\n",
              "          const docLink = document.createElement('div');\n",
              "          docLink.innerHTML = docLinkHtml;\n",
              "          element.appendChild(docLink);\n",
              "        }\n",
              "      </script>\n",
              "    </div>\n",
              "  </div>\n",
              "  "
            ]
          },
          "metadata": {},
          "execution_count": 249
        }
      ],
      "source": [
        "predictors = df1.columns[~df1.columns.isin([\"target\", \"Row Labels\"])]\n",
        "df1[predictors].head()"
      ]
    },
    {
      "cell_type": "code",
      "execution_count": null,
      "metadata": {
        "id": "Jpd8Lp-QdkKC"
      },
      "outputs": [],
      "source": [
        "from sklearn.preprocessing import StandardScaler\n",
        "sc=StandardScaler()"
      ]
    },
    {
      "cell_type": "code",
      "execution_count": null,
      "metadata": {
        "colab": {
          "base_uri": "https://localhost:8080/",
          "height": 205
        },
        "id": "oh7bDzhBdwCc",
        "outputId": "74084aeb-cb0e-4fc6-9966-45ffb4f816fe"
      },
      "outputs": [
        {
          "output_type": "execute_result",
          "data": {
            "text/plain": [
              "    Average of Rainfall (mm)  Average of temp_min (â°C)  \\\n",
              "11                  0.603498                   17.510736   \n",
              "23                  0.065524                   17.956687   \n",
              "35                  0.000000                   15.609677   \n",
              "\n",
              "    Average of temp_max (â°C)  Average of humidity_min (%)  \\\n",
              "11                   29.805790                    47.917129   \n",
              "23                   29.564247                    50.312669   \n",
              "35                   30.544960                    35.362702   \n",
              "\n",
              "    Average of Humidity_max (%)  Average of wind_speed_min (Kmph)  \\\n",
              "11                    92.626900                          0.083836   \n",
              "23                     6.950403                          0.008871   \n",
              "35                    92.095565                          6.721573   \n",
              "\n",
              "    Average of wind_speed_max (Kmph)  \n",
              "11                          6.653317  \n",
              "23                         95.931032  \n",
              "35                          0.001008  "
            ],
            "text/html": [
              "\n",
              "  <div id=\"df-2c92f0d6-ac1d-409b-a9ae-08dd9bbe5c85\">\n",
              "    <div class=\"colab-df-container\">\n",
              "      <div>\n",
              "<style scoped>\n",
              "    .dataframe tbody tr th:only-of-type {\n",
              "        vertical-align: middle;\n",
              "    }\n",
              "\n",
              "    .dataframe tbody tr th {\n",
              "        vertical-align: top;\n",
              "    }\n",
              "\n",
              "    .dataframe thead th {\n",
              "        text-align: right;\n",
              "    }\n",
              "</style>\n",
              "<table border=\"1\" class=\"dataframe\">\n",
              "  <thead>\n",
              "    <tr style=\"text-align: right;\">\n",
              "      <th></th>\n",
              "      <th>Average of Rainfall (mm)</th>\n",
              "      <th>Average of temp_min (â°C)</th>\n",
              "      <th>Average of temp_max (â°C)</th>\n",
              "      <th>Average of humidity_min (%)</th>\n",
              "      <th>Average of Humidity_max (%)</th>\n",
              "      <th>Average of wind_speed_min (Kmph)</th>\n",
              "      <th>Average of wind_speed_max (Kmph)</th>\n",
              "    </tr>\n",
              "  </thead>\n",
              "  <tbody>\n",
              "    <tr>\n",
              "      <th>11</th>\n",
              "      <td>0.603498</td>\n",
              "      <td>17.510736</td>\n",
              "      <td>29.805790</td>\n",
              "      <td>47.917129</td>\n",
              "      <td>92.626900</td>\n",
              "      <td>0.083836</td>\n",
              "      <td>6.653317</td>\n",
              "    </tr>\n",
              "    <tr>\n",
              "      <th>23</th>\n",
              "      <td>0.065524</td>\n",
              "      <td>17.956687</td>\n",
              "      <td>29.564247</td>\n",
              "      <td>50.312669</td>\n",
              "      <td>6.950403</td>\n",
              "      <td>0.008871</td>\n",
              "      <td>95.931032</td>\n",
              "    </tr>\n",
              "    <tr>\n",
              "      <th>35</th>\n",
              "      <td>0.000000</td>\n",
              "      <td>15.609677</td>\n",
              "      <td>30.544960</td>\n",
              "      <td>35.362702</td>\n",
              "      <td>92.095565</td>\n",
              "      <td>6.721573</td>\n",
              "      <td>0.001008</td>\n",
              "    </tr>\n",
              "  </tbody>\n",
              "</table>\n",
              "</div>\n",
              "      <button class=\"colab-df-convert\" onclick=\"convertToInteractive('df-2c92f0d6-ac1d-409b-a9ae-08dd9bbe5c85')\"\n",
              "              title=\"Convert this dataframe to an interactive table.\"\n",
              "              style=\"display:none;\">\n",
              "        \n",
              "  <svg xmlns=\"http://www.w3.org/2000/svg\" height=\"24px\"viewBox=\"0 0 24 24\"\n",
              "       width=\"24px\">\n",
              "    <path d=\"M0 0h24v24H0V0z\" fill=\"none\"/>\n",
              "    <path d=\"M18.56 5.44l.94 2.06.94-2.06 2.06-.94-2.06-.94-.94-2.06-.94 2.06-2.06.94zm-11 1L8.5 8.5l.94-2.06 2.06-.94-2.06-.94L8.5 2.5l-.94 2.06-2.06.94zm10 10l.94 2.06.94-2.06 2.06-.94-2.06-.94-.94-2.06-.94 2.06-2.06.94z\"/><path d=\"M17.41 7.96l-1.37-1.37c-.4-.4-.92-.59-1.43-.59-.52 0-1.04.2-1.43.59L10.3 9.45l-7.72 7.72c-.78.78-.78 2.05 0 2.83L4 21.41c.39.39.9.59 1.41.59.51 0 1.02-.2 1.41-.59l7.78-7.78 2.81-2.81c.8-.78.8-2.07 0-2.86zM5.41 20L4 18.59l7.72-7.72 1.47 1.35L5.41 20z\"/>\n",
              "  </svg>\n",
              "      </button>\n",
              "      \n",
              "  <style>\n",
              "    .colab-df-container {\n",
              "      display:flex;\n",
              "      flex-wrap:wrap;\n",
              "      gap: 12px;\n",
              "    }\n",
              "\n",
              "    .colab-df-convert {\n",
              "      background-color: #E8F0FE;\n",
              "      border: none;\n",
              "      border-radius: 50%;\n",
              "      cursor: pointer;\n",
              "      display: none;\n",
              "      fill: #1967D2;\n",
              "      height: 32px;\n",
              "      padding: 0 0 0 0;\n",
              "      width: 32px;\n",
              "    }\n",
              "\n",
              "    .colab-df-convert:hover {\n",
              "      background-color: #E2EBFA;\n",
              "      box-shadow: 0px 1px 2px rgba(60, 64, 67, 0.3), 0px 1px 3px 1px rgba(60, 64, 67, 0.15);\n",
              "      fill: #174EA6;\n",
              "    }\n",
              "\n",
              "    [theme=dark] .colab-df-convert {\n",
              "      background-color: #3B4455;\n",
              "      fill: #D2E3FC;\n",
              "    }\n",
              "\n",
              "    [theme=dark] .colab-df-convert:hover {\n",
              "      background-color: #434B5C;\n",
              "      box-shadow: 0px 1px 3px 1px rgba(0, 0, 0, 0.15);\n",
              "      filter: drop-shadow(0px 1px 2px rgba(0, 0, 0, 0.3));\n",
              "      fill: #FFFFFF;\n",
              "    }\n",
              "  </style>\n",
              "\n",
              "      <script>\n",
              "        const buttonEl =\n",
              "          document.querySelector('#df-2c92f0d6-ac1d-409b-a9ae-08dd9bbe5c85 button.colab-df-convert');\n",
              "        buttonEl.style.display =\n",
              "          google.colab.kernel.accessAllowed ? 'block' : 'none';\n",
              "\n",
              "        async function convertToInteractive(key) {\n",
              "          const element = document.querySelector('#df-2c92f0d6-ac1d-409b-a9ae-08dd9bbe5c85');\n",
              "          const dataTable =\n",
              "            await google.colab.kernel.invokeFunction('convertToInteractive',\n",
              "                                                     [key], {});\n",
              "          if (!dataTable) return;\n",
              "\n",
              "          const docLinkHtml = 'Like what you see? Visit the ' +\n",
              "            '<a target=\"_blank\" href=https://colab.research.google.com/notebooks/data_table.ipynb>data table notebook</a>'\n",
              "            + ' to learn more about interactive tables.';\n",
              "          element.innerHTML = '';\n",
              "          dataTable['output_type'] = 'display_data';\n",
              "          await google.colab.output.renderOutput(dataTable, element);\n",
              "          const docLink = document.createElement('div');\n",
              "          docLink.innerHTML = docLinkHtml;\n",
              "          element.appendChild(docLink);\n",
              "        }\n",
              "      </script>\n",
              "    </div>\n",
              "  </div>\n",
              "  "
            ]
          },
          "metadata": {},
          "execution_count": 251
        }
      ],
      "source": [
        "\n",
        "X=df1[predictors]\n",
        "y=df1[\"target\"]\n",
        "X"
      ]
    },
    {
      "cell_type": "code",
      "execution_count": null,
      "metadata": {
        "id": "oNEhpoeOrCvb"
      },
      "outputs": [],
      "source": [
        "X=sc.fit_transform(X)"
      ]
    },
    {
      "cell_type": "code",
      "execution_count": null,
      "metadata": {
        "id": "0jgjJO1DnRRI"
      },
      "outputs": [],
      "source": [
        "from sklearn.ensemble import RandomForestRegressor"
      ]
    },
    {
      "cell_type": "code",
      "execution_count": null,
      "metadata": {
        "id": "MUXdSEF3hqcu"
      },
      "outputs": [],
      "source": [
        "rf = RandomForestRegressor(n_estimators = 300, max_features = 'sqrt', max_depth = 5, random_state = 18)"
      ]
    },
    {
      "cell_type": "code",
      "execution_count": null,
      "metadata": {
        "colab": {
          "base_uri": "https://localhost:8080/"
        },
        "id": "aMRhZ3zlqes3",
        "outputId": "4e769511-b0da-42e7-fc95-d8d340c443a1"
      },
      "outputs": [
        {
          "output_type": "execute_result",
          "data": {
            "text/plain": [
              "(3,)"
            ]
          },
          "metadata": {},
          "execution_count": 255
        }
      ],
      "source": [
        "rf.fit(X,y)\n",
        "y_pred=rf.predict(X)\n",
        "y_pred.shape"
      ]
    },
    {
      "cell_type": "code",
      "execution_count": null,
      "metadata": {
        "colab": {
          "base_uri": "https://localhost:8080/"
        },
        "id": "TXLyNNhrv3kG",
        "outputId": "8406c66b-ec30-46d9-c853-8f14e9be5423"
      },
      "outputs": [
        {
          "output_type": "execute_result",
          "data": {
            "text/plain": [
              "array([29.8649375 , 30.37687903, 30.41104771])"
            ]
          },
          "metadata": {},
          "execution_count": 256
        }
      ],
      "source": [
        "y_pred"
      ]
    },
    {
      "cell_type": "code",
      "execution_count": null,
      "metadata": {
        "colab": {
          "base_uri": "https://localhost:8080/"
        },
        "id": "lzGSKu8usHUl",
        "outputId": "3d4e0fc9-8224-4f3c-e615-c482082ef724"
      },
      "outputs": [
        {
          "output_type": "stream",
          "name": "stdout",
          "text": [
            "predicting the temperatures of previous years:  11    29.564247\n",
            "23    30.544960\n",
            "35    30.629435\n",
            "Name: target, dtype: float64\n"
          ]
        }
      ],
      "source": [
        "print(\"predicting the temperatures of previous years: \",y)"
      ]
    },
    {
      "cell_type": "code",
      "execution_count": null,
      "metadata": {
        "id": "Dt21UvZxq4IX"
      },
      "outputs": [],
      "source": [
        "from sklearn.metrics import mean_absolute_percentage_error\n",
        "error=mean_absolute_percentage_error(y_pred,y)"
      ]
    },
    {
      "cell_type": "code",
      "execution_count": null,
      "metadata": {
        "colab": {
          "base_uri": "https://localhost:8080/"
        },
        "id": "4qjutXuvwImu",
        "outputId": "d6c41fa4-6f73-4e79-c7fb-032cef65718e"
      },
      "outputs": [
        {
          "output_type": "stream",
          "name": "stdout",
          "text": [
            "mean absolute percentage error for  Dec  is:  0.007594236716850118\n"
          ]
        }
      ],
      "source": [
        "print(\"mean absolute percentage error for \",month,\" is: \",error)"
      ]
    },
    {
      "cell_type": "code",
      "execution_count": null,
      "metadata": {
        "colab": {
          "base_uri": "https://localhost:8080/"
        },
        "id": "QudmDtKZwfUB",
        "outputId": "d30d523f-33fb-4519-f04f-f769e484be97"
      },
      "outputs": [
        {
          "output_type": "stream",
          "name": "stdout",
          "text": [
            "the predicted maximum temperature for Karimnagar in  Dec  2023 is:  30.274742383466663\n"
          ]
        }
      ],
      "source": [
        "y=rf.predict(x)[0]\n",
        "print(\"the predicted maximum temperature for Karimnagar in \",month,\" 2023 is: \",y)"
      ]
    },
    {
      "cell_type": "markdown",
      "source": [
        "According to the India Metrological department, Hyderabad Standards identify heatwave conditions if maximum temperature of a station reaches atleast 40 degrees Celsius or more for plains, 37 degrees Celsius or more for coastal regions and atleast 30 degrees Celsius or more for hilly regions"
      ],
      "metadata": {
        "id": "Q3cVFkG5QSSZ"
      }
    },
    {
      "cell_type": "markdown",
      "source": [
        "As Karimnagar is a Plain region there are chances for occurance of heatwaves if the maximum temperature exceeds 40 degree celsius\n"
      ],
      "metadata": {
        "id": "tkWFm8ZdRATF"
      }
    },
    {
      "cell_type": "code",
      "execution_count": null,
      "metadata": {
        "colab": {
          "base_uri": "https://localhost:8080/"
        },
        "id": "wBT-Jdj9OAxp",
        "outputId": "83249ef8-a4c6-4daa-c453-8d95f57ea358"
      },
      "outputs": [
        {
          "output_type": "stream",
          "name": "stdout",
          "text": [
            "you will be safe, there will be no chance of occuring heawaves\n"
          ]
        }
      ],
      "source": [
        "if y>=40:\n",
        "  print(\"Be careful. There is chance of occuring heatwaves in Kaimnagar in \",month,\" 2023\")\n",
        "else:\n",
        "  print(\"you will be safe, there will be no chance of occuring heawaves\")\n"
      ]
    },
    {
      "cell_type": "code",
      "source": [],
      "metadata": {
        "id": "HM19JBvba7Y-"
      },
      "execution_count": null,
      "outputs": []
    }
  ],
  "metadata": {
    "colab": {
      "provenance": []
    },
    "kernelspec": {
      "display_name": "Python 3 (ipykernel)",
      "language": "python",
      "name": "python3"
    },
    "language_info": {
      "codemirror_mode": {
        "name": "ipython",
        "version": 3
      },
      "file_extension": ".py",
      "mimetype": "text/x-python",
      "name": "python",
      "nbconvert_exporter": "python",
      "pygments_lexer": "ipython3",
      "version": "3.9.7"
    }
  },
  "nbformat": 4,
  "nbformat_minor": 0
}