{
  "nbformat": 4,
  "nbformat_minor": 0,
  "metadata": {
    "colab": {
      "provenance": []
    },
    "kernelspec": {
      "name": "python3",
      "display_name": "Python 3"
    },
    "language_info": {
      "name": "python"
    }
  },
  "cells": [
    {
      "cell_type": "code",
      "source": [
        "import pandas as pd\n",
        "import matplotlib.pyplot as plt\n",
        "from statsmodels.tsa.arima.model import ARIMA"
      ],
      "metadata": {
        "id": "gjnnWknmx0hC"
      },
      "execution_count": 88,
      "outputs": []
    },
    {
      "cell_type": "code",
      "source": [
        "import pandas as pd\n",
        "df=pd.read_csv(\"/content/drive/MyDrive/heatwaves/Adilabad.csv\")"
      ],
      "metadata": {
        "id": "5TVDbAe5Y_pg"
      },
      "execution_count": 92,
      "outputs": []
    },
    {
      "cell_type": "code",
      "source": [
        "df['Date'] = pd.to_datetime(df['Date'])\n",
        "\n",
        "# Set the 'date' column as the index\n",
        "df.set_index('Date', inplace=True)\n",
        "df.head()"
      ],
      "metadata": {
        "colab": {
          "base_uri": "https://localhost:8080/",
          "height": 237
        },
        "id": "W0Qrx8KJyDZn",
        "outputId": "76887f06-2dbf-44bd-f48b-3f7781be6ad7"
      },
      "execution_count": 93,
      "outputs": [
        {
          "output_type": "execute_result",
          "data": {
            "text/plain": [
              "            PM10   NOx  SO2\n",
              "Date                       \n",
              "2016-01-01  62.0  14.0  3.0\n",
              "2016-01-02  68.0  14.0  3.0\n",
              "2016-01-03  71.0  14.0  3.0\n",
              "2016-01-04  70.0  14.5  3.5\n",
              "2016-01-05  69.0  15.0  3.5"
            ],
            "text/html": [
              "\n",
              "  <div id=\"df-d8e0279e-2909-4f45-ae9e-3a65442fba66\">\n",
              "    <div class=\"colab-df-container\">\n",
              "      <div>\n",
              "<style scoped>\n",
              "    .dataframe tbody tr th:only-of-type {\n",
              "        vertical-align: middle;\n",
              "    }\n",
              "\n",
              "    .dataframe tbody tr th {\n",
              "        vertical-align: top;\n",
              "    }\n",
              "\n",
              "    .dataframe thead th {\n",
              "        text-align: right;\n",
              "    }\n",
              "</style>\n",
              "<table border=\"1\" class=\"dataframe\">\n",
              "  <thead>\n",
              "    <tr style=\"text-align: right;\">\n",
              "      <th></th>\n",
              "      <th>PM10</th>\n",
              "      <th>NOx</th>\n",
              "      <th>SO2</th>\n",
              "    </tr>\n",
              "    <tr>\n",
              "      <th>Date</th>\n",
              "      <th></th>\n",
              "      <th></th>\n",
              "      <th></th>\n",
              "    </tr>\n",
              "  </thead>\n",
              "  <tbody>\n",
              "    <tr>\n",
              "      <th>2016-01-01</th>\n",
              "      <td>62.0</td>\n",
              "      <td>14.0</td>\n",
              "      <td>3.0</td>\n",
              "    </tr>\n",
              "    <tr>\n",
              "      <th>2016-01-02</th>\n",
              "      <td>68.0</td>\n",
              "      <td>14.0</td>\n",
              "      <td>3.0</td>\n",
              "    </tr>\n",
              "    <tr>\n",
              "      <th>2016-01-03</th>\n",
              "      <td>71.0</td>\n",
              "      <td>14.0</td>\n",
              "      <td>3.0</td>\n",
              "    </tr>\n",
              "    <tr>\n",
              "      <th>2016-01-04</th>\n",
              "      <td>70.0</td>\n",
              "      <td>14.5</td>\n",
              "      <td>3.5</td>\n",
              "    </tr>\n",
              "    <tr>\n",
              "      <th>2016-01-05</th>\n",
              "      <td>69.0</td>\n",
              "      <td>15.0</td>\n",
              "      <td>3.5</td>\n",
              "    </tr>\n",
              "  </tbody>\n",
              "</table>\n",
              "</div>\n",
              "      <button class=\"colab-df-convert\" onclick=\"convertToInteractive('df-d8e0279e-2909-4f45-ae9e-3a65442fba66')\"\n",
              "              title=\"Convert this dataframe to an interactive table.\"\n",
              "              style=\"display:none;\">\n",
              "        \n",
              "  <svg xmlns=\"http://www.w3.org/2000/svg\" height=\"24px\"viewBox=\"0 0 24 24\"\n",
              "       width=\"24px\">\n",
              "    <path d=\"M0 0h24v24H0V0z\" fill=\"none\"/>\n",
              "    <path d=\"M18.56 5.44l.94 2.06.94-2.06 2.06-.94-2.06-.94-.94-2.06-.94 2.06-2.06.94zm-11 1L8.5 8.5l.94-2.06 2.06-.94-2.06-.94L8.5 2.5l-.94 2.06-2.06.94zm10 10l.94 2.06.94-2.06 2.06-.94-2.06-.94-.94-2.06-.94 2.06-2.06.94z\"/><path d=\"M17.41 7.96l-1.37-1.37c-.4-.4-.92-.59-1.43-.59-.52 0-1.04.2-1.43.59L10.3 9.45l-7.72 7.72c-.78.78-.78 2.05 0 2.83L4 21.41c.39.39.9.59 1.41.59.51 0 1.02-.2 1.41-.59l7.78-7.78 2.81-2.81c.8-.78.8-2.07 0-2.86zM5.41 20L4 18.59l7.72-7.72 1.47 1.35L5.41 20z\"/>\n",
              "  </svg>\n",
              "      </button>\n",
              "      \n",
              "  <style>\n",
              "    .colab-df-container {\n",
              "      display:flex;\n",
              "      flex-wrap:wrap;\n",
              "      gap: 12px;\n",
              "    }\n",
              "\n",
              "    .colab-df-convert {\n",
              "      background-color: #E8F0FE;\n",
              "      border: none;\n",
              "      border-radius: 50%;\n",
              "      cursor: pointer;\n",
              "      display: none;\n",
              "      fill: #1967D2;\n",
              "      height: 32px;\n",
              "      padding: 0 0 0 0;\n",
              "      width: 32px;\n",
              "    }\n",
              "\n",
              "    .colab-df-convert:hover {\n",
              "      background-color: #E2EBFA;\n",
              "      box-shadow: 0px 1px 2px rgba(60, 64, 67, 0.3), 0px 1px 3px 1px rgba(60, 64, 67, 0.15);\n",
              "      fill: #174EA6;\n",
              "    }\n",
              "\n",
              "    [theme=dark] .colab-df-convert {\n",
              "      background-color: #3B4455;\n",
              "      fill: #D2E3FC;\n",
              "    }\n",
              "\n",
              "    [theme=dark] .colab-df-convert:hover {\n",
              "      background-color: #434B5C;\n",
              "      box-shadow: 0px 1px 3px 1px rgba(0, 0, 0, 0.15);\n",
              "      filter: drop-shadow(0px 1px 2px rgba(0, 0, 0, 0.3));\n",
              "      fill: #FFFFFF;\n",
              "    }\n",
              "  </style>\n",
              "\n",
              "      <script>\n",
              "        const buttonEl =\n",
              "          document.querySelector('#df-d8e0279e-2909-4f45-ae9e-3a65442fba66 button.colab-df-convert');\n",
              "        buttonEl.style.display =\n",
              "          google.colab.kernel.accessAllowed ? 'block' : 'none';\n",
              "\n",
              "        async function convertToInteractive(key) {\n",
              "          const element = document.querySelector('#df-d8e0279e-2909-4f45-ae9e-3a65442fba66');\n",
              "          const dataTable =\n",
              "            await google.colab.kernel.invokeFunction('convertToInteractive',\n",
              "                                                     [key], {});\n",
              "          if (!dataTable) return;\n",
              "\n",
              "          const docLinkHtml = 'Like what you see? Visit the ' +\n",
              "            '<a target=\"_blank\" href=https://colab.research.google.com/notebooks/data_table.ipynb>data table notebook</a>'\n",
              "            + ' to learn more about interactive tables.';\n",
              "          element.innerHTML = '';\n",
              "          dataTable['output_type'] = 'display_data';\n",
              "          await google.colab.output.renderOutput(dataTable, element);\n",
              "          const docLink = document.createElement('div');\n",
              "          docLink.innerHTML = docLinkHtml;\n",
              "          element.appendChild(docLink);\n",
              "        }\n",
              "      </script>\n",
              "    </div>\n",
              "  </div>\n",
              "  "
            ]
          },
          "metadata": {},
          "execution_count": 93
        }
      ]
    },
    {
      "cell_type": "code",
      "source": [
        "df1=df['PM10']\n",
        "df1=df1.to_frame()\n",
        "df2=df['NOx']\n",
        "df2=df2.to_frame()\n",
        "df3=df['SO2']\n",
        "df3=df3.to_frame()"
      ],
      "metadata": {
        "id": "yyMv055QN7ld"
      },
      "execution_count": 94,
      "outputs": []
    },
    {
      "cell_type": "code",
      "source": [
        "model1 = ARIMA(df1, order=(1,1,1))\n",
        "model1_fit = model1.fit()\n",
        "model2 = ARIMA(df2, order=(1,1,1))\n",
        "model2_fit = model2.fit()\n",
        "model3 = ARIMA(df3, order=(1,1,1))\n",
        "model3_fit = model3.fit()"
      ],
      "metadata": {
        "colab": {
          "base_uri": "https://localhost:8080/"
        },
        "id": "FuA8O1ZZCXis",
        "outputId": "d1c6b399-7181-4d33-8372-9373d128e87a"
      },
      "execution_count": 95,
      "outputs": [
        {
          "output_type": "stream",
          "name": "stderr",
          "text": [
            "/usr/local/lib/python3.8/dist-packages/statsmodels/tsa/base/tsa_model.py:471: ValueWarning: A date index has been provided, but it has no associated frequency information and so will be ignored when e.g. forecasting.\n",
            "  self._init_dates(dates, freq)\n",
            "/usr/local/lib/python3.8/dist-packages/statsmodels/tsa/base/tsa_model.py:471: ValueWarning: A date index has been provided, but it has no associated frequency information and so will be ignored when e.g. forecasting.\n",
            "  self._init_dates(dates, freq)\n",
            "/usr/local/lib/python3.8/dist-packages/statsmodels/tsa/base/tsa_model.py:471: ValueWarning: A date index has been provided, but it has no associated frequency information and so will be ignored when e.g. forecasting.\n",
            "  self._init_dates(dates, freq)\n",
            "/usr/local/lib/python3.8/dist-packages/statsmodels/tsa/base/tsa_model.py:471: ValueWarning: A date index has been provided, but it has no associated frequency information and so will be ignored when e.g. forecasting.\n",
            "  self._init_dates(dates, freq)\n",
            "/usr/local/lib/python3.8/dist-packages/statsmodels/tsa/base/tsa_model.py:471: ValueWarning: A date index has been provided, but it has no associated frequency information and so will be ignored when e.g. forecasting.\n",
            "  self._init_dates(dates, freq)\n",
            "/usr/local/lib/python3.8/dist-packages/statsmodels/tsa/base/tsa_model.py:471: ValueWarning: A date index has been provided, but it has no associated frequency information and so will be ignored when e.g. forecasting.\n",
            "  self._init_dates(dates, freq)\n",
            "/usr/local/lib/python3.8/dist-packages/statsmodels/tsa/base/tsa_model.py:471: ValueWarning: A date index has been provided, but it has no associated frequency information and so will be ignored when e.g. forecasting.\n",
            "  self._init_dates(dates, freq)\n",
            "/usr/local/lib/python3.8/dist-packages/statsmodels/tsa/base/tsa_model.py:471: ValueWarning: A date index has been provided, but it has no associated frequency information and so will be ignored when e.g. forecasting.\n",
            "  self._init_dates(dates, freq)\n",
            "/usr/local/lib/python3.8/dist-packages/statsmodels/tsa/base/tsa_model.py:471: ValueWarning: A date index has been provided, but it has no associated frequency information and so will be ignored when e.g. forecasting.\n",
            "  self._init_dates(dates, freq)\n"
          ]
        }
      ]
    },
    {
      "cell_type": "code",
      "source": [
        "def month_diff(dt1,dt2):\n",
        "  from datetime import datetime\n",
        "  from dateutil.relativedelta import relativedelta\n",
        "  date1_str = dt1\n",
        "  date2_str = dt2\n",
        "  date1 = datetime.strptime(dt1, '%Y-%d-%m').date()\n",
        "  date2 = datetime.strptime(dt2, '%Y-%d-%m').date()\n",
        "  delta = relativedelta(date2, date1)\n",
        "  months_diff = delta.months + 12 * delta.years\n",
        "  return months_diff"
      ],
      "metadata": {
        "id": "HFF8e7gdQlgk"
      },
      "execution_count": 96,
      "outputs": []
    },
    {
      "cell_type": "code",
      "source": [
        "s=input(\"enter starting date of month you want to predict in yyyy-dd-mm format: \")\n",
        "diff=month_diff('2022-01-12',s)\n",
        "PM10prediction = model1_fit.forecast(diff)\n",
        "NOxprediction = model2_fit.forecast(diff)\n",
        "SO2prediction = model3_fit.forecast(diff)\n"
      ],
      "metadata": {
        "colab": {
          "base_uri": "https://localhost:8080/"
        },
        "id": "wD4rYqHlDyBb",
        "outputId": "15a0ecc5-07b8-422d-c086-bbbe84544b8b"
      },
      "execution_count": 97,
      "outputs": [
        {
          "name": "stdout",
          "output_type": "stream",
          "text": [
            "enter starting date of month you want to predict in yyyy-dd-mm format: 2023-01-04\n"
          ]
        },
        {
          "output_type": "stream",
          "name": "stderr",
          "text": [
            "/usr/local/lib/python3.8/dist-packages/statsmodels/tsa/base/tsa_model.py:834: ValueWarning: No supported index is available. Prediction results will be given with an integer index beginning at `start`.\n",
            "  return get_prediction_index(\n",
            "/usr/local/lib/python3.8/dist-packages/statsmodels/tsa/base/tsa_model.py:834: ValueWarning: No supported index is available. Prediction results will be given with an integer index beginning at `start`.\n",
            "  return get_prediction_index(\n",
            "/usr/local/lib/python3.8/dist-packages/statsmodels/tsa/base/tsa_model.py:834: ValueWarning: No supported index is available. Prediction results will be given with an integer index beginning at `start`.\n",
            "  return get_prediction_index(\n"
          ]
        }
      ]
    },
    {
      "cell_type": "code",
      "source": [
        "PM10prediction = PM10prediction.to_numpy()\n",
        "NOxprediction = NOxprediction.to_numpy()\n",
        "SO2prediction = SO2prediction.to_numpy()"
      ],
      "metadata": {
        "id": "xk5gAFSTVJFC"
      },
      "execution_count": 98,
      "outputs": []
    },
    {
      "cell_type": "code",
      "source": [
        "PM10=PM10prediction[diff-1]\n",
        "NOx=NOxprediction[diff-1]\n",
        "SO2=SO2prediction[diff-1]"
      ],
      "metadata": {
        "id": "5GdBL6RrUpsu"
      },
      "execution_count": 99,
      "outputs": []
    },
    {
      "cell_type": "code",
      "source": [
        "print(PM10,NOx,SO2)"
      ],
      "metadata": {
        "colab": {
          "base_uri": "https://localhost:8080/"
        },
        "id": "ndAJhO3AVDcB",
        "outputId": "52f5893f-b0ed-45af-f844-eb6432d1f161"
      },
      "execution_count": 100,
      "outputs": [
        {
          "output_type": "stream",
          "name": "stdout",
          "text": [
            "61.38528367648924 25.769091118720212 9.116513307068093\n"
          ]
        }
      ]
    },
    {
      "cell_type": "code",
      "source": [
        "def get_PM10_subindex(x):\n",
        "    if x <= 50:\n",
        "        return x\n",
        "    elif x <= 100:\n",
        "        return x\n",
        "    elif x <= 250:\n",
        "        return 100 + (x - 100) * 100 / 150\n",
        "    elif x <= 350:\n",
        "        return 200 + (x - 250)\n",
        "    elif x <= 430:\n",
        "        return 300 + (x - 350) * 100 / 80\n",
        "    elif x > 430:\n",
        "        return 400 + (x - 430) * 100 / 80\n",
        "    else:\n",
        "        return 0"
      ],
      "metadata": {
        "id": "-U2fNJVhVoss"
      },
      "execution_count": 81,
      "outputs": []
    },
    {
      "cell_type": "code",
      "source": [
        "def get_NOx_subindex(x):\n",
        "    if x <= 40:\n",
        "        return x * 50 / 40\n",
        "    elif x <= 80:\n",
        "        return 50 + (x - 40) * 50 / 40\n",
        "    elif x <= 180:\n",
        "        return 100 + (x - 80) * 100 / 100\n",
        "    elif x <= 280:\n",
        "        return 200 + (x - 180) * 100 / 100\n",
        "    elif x <= 400:\n",
        "        return 300 + (x - 280) * 100 / 120\n",
        "    elif x > 400:\n",
        "        return 400 + (x - 400) * 100 / 120\n",
        "    else:\n",
        "        return 0"
      ],
      "metadata": {
        "id": "WhowzaXLV3Vp"
      },
      "execution_count": 82,
      "outputs": []
    },
    {
      "cell_type": "code",
      "source": [
        "def get_SO2_subindex(x):\n",
        "    if x <= 40:\n",
        "        return x * 50 / 40\n",
        "    elif x <= 80:\n",
        "        return 50 + (x - 40) * 50 / 40\n",
        "    elif x <= 380:\n",
        "        return 100 + (x - 80) * 100 / 300\n",
        "    elif x <= 800:\n",
        "        return 200 + (x - 380) * 100 / 420\n",
        "    elif x <= 1600:\n",
        "        return 300 + (x - 800) * 100 / 800\n",
        "    elif x > 1600:\n",
        "        return 400 + (x - 1600) * 100 / 800\n",
        "    else:\n",
        "        return 0"
      ],
      "metadata": {
        "id": "KgwggzF2V8Fv"
      },
      "execution_count": 83,
      "outputs": []
    },
    {
      "cell_type": "code",
      "source": [
        "PM10=get_PM10_subindex(PM10)\n",
        "NOx=get_NOx_subindex(NOx)\n",
        "SO2=get_SO2_subindex(SO2)"
      ],
      "metadata": {
        "id": "e_lfzj_AV_z7"
      },
      "execution_count": 101,
      "outputs": []
    },
    {
      "cell_type": "code",
      "source": [
        "AQI=max(PM10,NOx,SO2)\n",
        "AQI"
      ],
      "metadata": {
        "colab": {
          "base_uri": "https://localhost:8080/"
        },
        "id": "UDnIGyPdWPz8",
        "outputId": "d12b2a7e-cba9-4a0d-d22f-b2e0269026ec"
      },
      "execution_count": 102,
      "outputs": [
        {
          "output_type": "execute_result",
          "data": {
            "text/plain": [
              "61.38528367648924"
            ]
          },
          "metadata": {},
          "execution_count": 102
        }
      ]
    },
    {
      "cell_type": "code",
      "source": [
        "def get_AQI_bucket(x):\n",
        "    if x <= 50:\n",
        "        return \"Good\"\n",
        "    elif x <= 100:\n",
        "        return \"Satisfactory\"\n",
        "    elif x <= 200:\n",
        "        return \"Moderate\"\n",
        "    elif x <= 300:\n",
        "        return \"Poor\"\n",
        "    elif x <= 400:\n",
        "        return \"Very Poor\"\n",
        "    else:\n",
        "        return \"Severe\""
      ],
      "metadata": {
        "id": "1yTEdE0iWZ9u"
      },
      "execution_count": 103,
      "outputs": []
    },
    {
      "cell_type": "code",
      "source": [
        "AQI_STATUS=get_AQI_bucket(AQI)\n",
        "AQI_STATUS"
      ],
      "metadata": {
        "colab": {
          "base_uri": "https://localhost:8080/",
          "height": 36
        },
        "id": "OSpJkh2uWlxx",
        "outputId": "1d9b12f5-b8a3-430b-800f-fced562f686e"
      },
      "execution_count": 104,
      "outputs": [
        {
          "output_type": "execute_result",
          "data": {
            "text/plain": [
              "'Satisfactory'"
            ],
            "application/vnd.google.colaboratory.intrinsic+json": {
              "type": "string"
            }
          },
          "metadata": {},
          "execution_count": 104
        }
      ]
    }
  ]
}